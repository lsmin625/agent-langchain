{
 "cells": [
  {
   "cell_type": "markdown",
   "metadata": {},
   "source": [
    "# 프롬프트(시스템 역할 메시지)를 통한 챗봇 구성"
   ]
  },
  {
   "cell_type": "markdown",
   "metadata": {},
   "source": [
    "## OpenAI LLM 준비 \n",
    "* 환경 변수(`.env` 파일)에서 API Key 로딩\n",
    "* 개발 환경에서는 `gpt-4o-mini` 또는 `gpt-3.5-turbo`"
   ]
  },
  {
   "cell_type": "code",
   "execution_count": null,
   "metadata": {},
   "outputs": [],
   "source": [
    "import os\n",
    "from dotenv import load_dotenv\n",
    "from langchain_openai import ChatOpenAI\n",
    "from langchain_core.messages import SystemMessage, HumanMessage, AIMessage\n",
    "from langgraph.graph.message import add_messages\n",
    "import gradio as gr\n",
    "\n",
    "# .env 로드 및 API 키 확인\n",
    "load_dotenv()\n",
    "\n",
    "# LLM 초기화\n",
    "llm = ChatOpenAI(model=\"gpt-4o-mini\", temperature=0.7)"
   ]
  },
  {
   "cell_type": "markdown",
   "metadata": {},
   "source": [
    "## 시스템 역할 메시지 구성"
   ]
  },
  {
   "cell_type": "code",
   "execution_count": null,
   "metadata": {},
   "outputs": [],
   "source": [
    "# 초기 시스템 메시지\n",
    "system_message = SystemMessage(\n",
    "    content=\"당신은 '명탐정 코난' 전문가입니다. 질문에 친절하고 정확하게 답해 주세요.\"\n",
    ")\n",
    "initial_messages = [system_message]"
   ]
  },
  {
   "cell_type": "markdown",
   "metadata": {},
   "source": [
    "## 채팅 처리 함수 (`add_messages` 사용)\n",
    "\n",
    "1. `add_messages(left, right)` (리스트 + 리스트)\n",
    "    - `left` 리스트의 메시지들을 우선 저장한 뒤, `right` 리스트의 메시지들로 덮어쓰기 또는 추가를 수행합니다.\n",
    "    - ID가 중복된 메시지는 `right`의 메시지로 교체(덮어쓰기)되고, 새로운 ID는 리스트 끝에 순서대로 추가됩니다.\n",
    "\n",
    "2. `add_messages(state[\"messages\"], new_message)` (리스트 + 단일 메시지)\n",
    "    - 내부적으로 단일 메시지를 리스트로 감싸 동일한 로직을 적용합니다.\n",
    "    - 결과적으로 기존 메시지 뒤에 새로운 메시지가 추가됩니다.\n",
    "\n",
    "※ Gradio와 OpenAI API의 출력 호환 `chat_display` 포맷 (`{\"role\": \"...\", \"content\": \"...\"}`)\n",
    "- `role`은 'user'와 'assistant'로 지정되어야함."
   ]
  },
  {
   "cell_type": "code",
   "execution_count": null,
   "metadata": {},
   "outputs": [],
   "source": [
    "# 채팅 처리 함수\n",
    "def chat_fn(user_input, chat_history):\n",
    "    if chat_history is None:\n",
    "        chat_history = initial_messages.copy()\n",
    "\n",
    "    # 사용자 메시지 추가\n",
    "    human_msg = HumanMessage(content=user_input)\n",
    "    chat_history = add_messages(chat_history, [human_msg])\n",
    "\n",
    "    # LLM 응답 생성 및 추가\n",
    "    ai_msg = llm.invoke(chat_history)\n",
    "    chat_history = add_messages(chat_history, [ai_msg])\n",
    "\n",
    "    # OpenAI 스타일 메시지로 변환 (type=\"messages\" 대응)\n",
    "    chat_display = []\n",
    "    for msg in chat_history:\n",
    "        if isinstance(msg, HumanMessage):\n",
    "            chat_display.append({\"role\": \"user\", \"content\": msg.content})\n",
    "        elif isinstance(msg, AIMessage):\n",
    "            chat_display.append({\"role\": \"assistant\", \"content\": msg.content})\n",
    "\n",
    "    return chat_display, chat_history"
   ]
  },
  {
   "cell_type": "markdown",
   "metadata": {},
   "source": [
    "## Gradio 인터페이스 구성\n",
    "\n",
    "패키지 설치 `pip install gradio`\n",
    "\n",
    "Gradio 입력 이벤트 처리 구조\n",
    "\n",
    "```python\n",
    "    txt.submit(chat_fn, inputs=[txt, state], outputs=[chatbot, state])\n",
    "```\n",
    "\n",
    "- `txt`: 이벤트를 감지할 컴포넌트 (입력박스)\n",
    "- `.submit(...)`: 사용자가 Enter 키를 누를 때 이벤트 트리거\n",
    "- `chat_fn`: 실행할 함수 (이벤트 핸들러)\n",
    "- `inputs`: 이 함수에 넘길 값\n",
    "- `outputs`: 함수가 반환한 값을 적용할 대상\n",
    "\n"
   ]
  },
  {
   "cell_type": "code",
   "execution_count": null,
   "metadata": {},
   "outputs": [],
   "source": [
    "# Gradio UI\n",
    "with gr.Blocks() as demo:\n",
    "    gr.Markdown(\"### 🕵️‍♂️ 명탐정 코난 전문가에게 무엇이든 물어보세요!\")\n",
    "\n",
    "    chatbot = gr.Chatbot(height=300, type=\"messages\", label=\"명탐정 코난 전문가 챗봇\")\n",
    "    txt = gr.Textbox(placeholder=\"질문을 입력하세요...\", show_label=False)\n",
    "    state = gr.State(initial_messages.copy())\n",
    "\n",
    "    txt.submit(chat_fn, inputs=[txt, state], outputs=[chatbot, state])\n",
    "    txt.submit(lambda: \"\", None, txt)  # 입력창 초기화\n",
    "\n",
    "demo.launch()"
   ]
  },
  {
   "cell_type": "markdown",
   "metadata": {},
   "source": [
    "-----\n",
    "** End of Documents **"
   ]
  }
 ],
 "metadata": {
  "kernelspec": {
   "display_name": "langchain-kr-t0JhnSEV-py3.11",
   "language": "python",
   "name": "python3"
  },
  "language_info": {
   "codemirror_mode": {
    "name": "ipython",
    "version": 3
   },
   "file_extension": ".py",
   "mimetype": "text/x-python",
   "name": "python",
   "nbconvert_exporter": "python",
   "pygments_lexer": "ipython3",
   "version": "3.12.3"
  }
 },
 "nbformat": 4,
 "nbformat_minor": 2
}
