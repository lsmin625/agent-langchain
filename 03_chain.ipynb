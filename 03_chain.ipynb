{
 "cells": [
  {
   "cell_type": "markdown",
   "metadata": {},
   "source": [
    "# LCEL 체인을 통한 챗봇 구성"
   ]
  },
  {
   "cell_type": "markdown",
   "metadata": {},
   "source": [
    "## OpenAI LLM 준비 \n",
    "* 환경 변수(`.env` 파일)에서 API Key 로딩\n",
    "* 개발 환경에서는 `gpt-4o-mini` 또는 `gpt-3.5-turbo`"
   ]
  },
  {
   "cell_type": "code",
   "execution_count": null,
   "metadata": {},
   "outputs": [],
   "source": [
    "import os\n",
    "from dotenv import load_dotenv\n",
    "from langchain_openai import ChatOpenAI\n",
    "from langchain_core.prompts import ChatPromptTemplate\n",
    "from langchain_core.output_parsers import StrOutputParser\n",
    "import gradio as gr\n",
    "\n",
    "# .env 파일 로드\n",
    "load_dotenv()\n",
    "\n",
    "print(f\"{os.getenv(\"OPENAI_API_KEY\")[:9]}***\")\n",
    "\n",
    "# OpenAI LLM 준비\n",
    "llm = ChatOpenAI(model=\"gpt-4o-mini\", temperature=0.7)\n",
    "print(llm.model_name)"
   ]
  },
  {
   "cell_type": "markdown",
   "metadata": {},
   "source": [
    "\n",
    "## 프롬프트 메시지 구성\n",
    "역할 기반 프롬프트 템플릿 정의\n",
    "- system 역할: LLM에게 '명탐정 코난 전문가' 역할 부여\n",
    "- human 역할: 사용자 질문 삽입"
   ]
  },
  {
   "cell_type": "code",
   "execution_count": null,
   "metadata": {},
   "outputs": [],
   "source": [
    "prompt = ChatPromptTemplate.from_messages([\n",
    "    (\"system\", \"당신은 '명탐정 코난' 전문가입니다. 모든 질문에 친절하고 정확하게 답해주세요.\"),\n",
    "    (\"human\", \"{question}\")\n",
    "])"
   ]
  },
  {
   "cell_type": "markdown",
   "metadata": {},
   "source": [
    "## 체인 구성 및 UI 입출력 함수 정의\n",
    "\n",
    "### LCEL 체인 구성 \n",
    "\n",
    "체인 (프롬프트 → LLM → 출력 파서)를 파이프(|)로 연결\n",
    "- `ChatPromptTemplate`: 문자열 메시지 생성\n",
    "- `LLM`: 응답 생성\n",
    "- `StrOutputParser`: LLM 응답에서 텍스트 추출\n",
    "\n",
    "### Gradio 입출력 함수 정의\n",
    "- `conan_expert_reply` : 사용자 입력값을 받아 LCEL 체인에 전달하고 결과 리턴\n"
   ]
  },
  {
   "cell_type": "code",
   "execution_count": null,
   "metadata": {},
   "outputs": [],
   "source": [
    "# LCEL 체인 구성\n",
    "chain = prompt | llm | StrOutputParser()\n",
    "\n",
    "# Gradio 입출력 함수 정의\n",
    "def conan_expert_reply(user_input):\n",
    "    return chain.invoke({\"question\": user_input})"
   ]
  },
  {
   "cell_type": "markdown",
   "metadata": {},
   "source": [
    "## Gradio UI 구성\n",
    "### Gradio에서 자주 사용하는 UI 컴포넌트 유형\n",
    "| 분류       | 컴포넌트            | 설명                           | 입력/출력  |\n",
    "| -------- | --------------- | ---------------------------- | ------ |\n",
    "| 텍스트      | `Textbox`       | 단일 또는 여러 줄 텍스트 입력            | 입력/출력  |\n",
    "|          | `Label`         | 텍스트 라벨 출력 (주로 출력 용도)         | 출력     |\n",
    "|          | `Markdown`      | 마크다운 형식 텍스트 출력               | 출력     |\n",
    "| 버튼 및 컨트롤 | `Button`        | 클릭 가능한 버튼                    | 입력 트리거 |\n",
    "|          | `Radio`         | 여러 선택지 중 하나 선택 (라디오 버튼)      | 입력     |\n",
    "|          | `Checkbox`      | 단일 체크박스 (참/거짓 선택)            | 입력     |\n",
    "|          | `CheckboxGroup` | 여러 체크박스 중 다중 선택              | 입력     |\n",
    "|          | `Dropdown`      | 드롭다운 메뉴에서 선택                 | 입력     |\n",
    "|          | `Slider`        | 숫자 범위를 슬라이더로 선택              | 입력     |\n",
    "|          | `Number`        | 숫자 직접 입력                     | 입력     |\n",
    "| 멀티미디어    | `Image`         | 이미지 입력 또는 출력                 | 입력/출력  |\n",
    "|          | `Audio`         | 오디오 입력 또는 출력                 | 입력/출력  |\n",
    "|          | `Video`         | 비디오 입력 또는 출력                 | 입력/출력  |\n",
    "|          | `File`          | 파일 업로드 및 다운로드                | 입력/출력  |\n",
    "| 복합 구성    | `Chatbot`       | 대화형 채팅 UI, 메시지 목록 표시 및 입력 처리 | 입력/출력  |\n",
    "|          | `State`         | 상태 저장용 숨겨진 변수                | 내부 처리  |\n",
    "|          | `Dataframe`     | 판다스 DataFrame 표 형태로 입력 또는 출력 | 입력/출력  |\n",
    "|          | `JSON`          | JSON 형식 데이터 입력 또는 출력         | 입력/출력  |\n",
    "| 레이아웃     | `Row`, `Column` | UI 구성 요소들을 가로/세로로 정렬하는 컨테이너  | 레이아웃   |\n",
    "|          | `Tabs`, `Tab`   | 탭 메뉴를 구성                     | 레이아웃   |\n",
    "|          | `Accordion`     | 접이식 섹션                       | 레이아웃   |\n",
    "| 웹뷰어      | `HTML`          | HTML 형식 출력                   | 출력     |\n",
    "|          | `Code`          | 코드 블럭 형식 출력                  | 출력     |\n",
    "|          | `Gallery`       | 이미지들을 갤러리 형태로 출력             | 출력     |\n"
   ]
  },
  {
   "cell_type": "code",
   "execution_count": null,
   "metadata": {},
   "outputs": [],
   "source": [
    "with gr.Blocks() as demo:\n",
    "    gr.Markdown(\"### 🕵️‍♂️ 명탐정 코난 전문가에게 질문해보세요!\")\n",
    "    question = gr.Textbox(label=\"질문을 입력하세요\")\n",
    "    answer = gr.Textbox(label=\"코난 전문가의 답변\", lines=5)\n",
    "    question.submit(fn=conan_expert_reply, inputs=question, outputs=answer)\n",
    "\n",
    "# Gradio 실행\n",
    "demo.launch()"
   ]
  },
  {
   "cell_type": "markdown",
   "metadata": {},
   "source": [
    "-----\n",
    "** End of Documents **"
   ]
  }
 ],
 "metadata": {
  "kernelspec": {
   "display_name": "langchain-kr-t0JhnSEV-py3.11",
   "language": "python",
   "name": "python3"
  },
  "language_info": {
   "codemirror_mode": {
    "name": "ipython",
    "version": 3
   },
   "file_extension": ".py",
   "mimetype": "text/x-python",
   "name": "python",
   "nbconvert_exporter": "python",
   "pygments_lexer": "ipython3",
   "version": "3.12.3"
  }
 },
 "nbformat": 4,
 "nbformat_minor": 2
}
