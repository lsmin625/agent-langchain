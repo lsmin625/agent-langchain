{
 "cells": [
  {
   "cell_type": "markdown",
   "metadata": {},
   "source": [
    "# Tool을 사용하는 챗봇 구성"
   ]
  },
  {
   "cell_type": "markdown",
   "metadata": {},
   "source": [
    "## OpenAI LLM 준비\n",
    "* 환경 변수(`.env` 파일)에서 API Key 로딩\n",
    "* 개발 환경에서는 `gpt-4o-mini` 또는 `gpt-3.5-turbo`"
   ]
  },
  {
   "cell_type": "code",
   "execution_count": null,
   "metadata": {},
   "outputs": [],
   "source": [
    "import os\n",
    "import gradio as gr\n",
    "from dotenv import load_dotenv\n",
    "from langchain_openai import ChatOpenAI\n",
    "from langchain_core.prompts import ChatPromptTemplate\n",
    "from langchain_core.output_parsers import StrOutputParser\n",
    "from langchain_core.runnables import RunnableLambda\n",
    "from langchain.tools import tool\n",
    "\n",
    "# .env 파일 로드\n",
    "load_dotenv()\n",
    "\n",
    "open_api_key = os.getenv(\"OPENAI_API_KEY\")\n",
    "print(f\"{open_api_key[:9]}***\")\n",
    "\n",
    "# OpenAI LLM 준비\n",
    "llm = ChatOpenAI(model=\"gpt-4o-mini\", temperature=0.5)\n",
    "print(llm.model_name)"
   ]
  },
  {
   "cell_type": "markdown",
   "metadata": {},
   "source": [
    "## 데코레이터를 통한 Tool 구성\n",
    "코난이 사용할 수 있는 도구 추천 툴 함수"
   ]
  },
  {
   "cell_type": "code",
   "execution_count": null,
   "metadata": {},
   "outputs": [],
   "source": [
    "@tool\n",
    "def tranquilizer_watch() -> str:\n",
    "    \"\"\"마취 시계: 용의자를 조용히 기절시킬 때 사용하는 도구입니다.\"\"\"\n",
    "    return \"🕶️ 마취 시계: 용의자를 조용히 기절시킬 때 사용하세요.\"\n",
    "\n",
    "@tool\n",
    "def voice_changer_bowtie() -> str:\n",
    "    \"\"\"변조 나비넥타이: 다른 사람의 목소리를 흉내 낼 때 사용하는 도구입니다.\"\"\"\n",
    "    return \"🎤 변조 나비넥타이: 다른 사람의 목소리를 흉내 낼 때 사용하세요.\"\n",
    "\n",
    "@tool\n",
    "def detective_glasses() -> str:\n",
    "    \"\"\"탐정 안경: 멀리 있는 대상을 확대하거나 적외선으로 추적할 때 사용하는 도구입니다.\"\"\"\n",
    "    return \"🔍 탐정 안경: 멀리 있는 대상을 확대하거나 적외선으로 추적할 때 사용하세요.\"\n",
    "\n",
    "@tool\n",
    "def soccer_shoes() -> str:\n",
    "    \"\"\"킥력 강화 축구화: 멀리 있는 물체를 정확히 차거나 위협할 때 사용하는 도구입니다.\"\"\"\n",
    "    return \"⚽ 킥력 강화 축구화: 멀리 있는 물체를 정확히 차거나 위협할 때 사용하세요.\"\n",
    "\n",
    "# 도구 매핑\n",
    "tool_map = {\n",
    "    \"마취 시계\": tranquilizer_watch,\n",
    "    \"변조 나비넥타이\": voice_changer_bowtie,\n",
    "    \"탐정 안경\": detective_glasses,\n",
    "    \"킥력 강화 축구화\": soccer_shoes,\n",
    "}"
   ]
  },
  {
   "cell_type": "markdown",
   "metadata": {},
   "source": [
    "## 프롬프트 구성\n",
    "복잡한 상황에서 여러 도구를 조합하여 사용할 수 있도록 메시지 작성"
   ]
  },
  {
   "cell_type": "code",
   "execution_count": null,
   "metadata": {},
   "outputs": [],
   "source": [
    "prompt = ChatPromptTemplate.from_messages([\n",
    "    # (\"system\", \"당신은 명탐정 코난입니다. 주어진 상황에 가장 적절한 도구를 사용해서 문제를 해결하세요.\"),\n",
    "    # (\"human\", \"{situation}\")\n",
    "    \n",
    "    (\"system\", \"\"\"당신은 '명탐정 코난'의 도구 전문가입니다.\n",
    "사용자의 상황 설명을 보고, 아래 목록 중에서 필요한 도구를 모두 선택하여, 한 줄에 하나씩 도구 이름만 정확하게 나열해 주세요.\n",
    "\n",
    "- 마취 시계\n",
    "- 변조 나비넥타이\n",
    "- 탐정 안경\n",
    "- 킥력 강화 축구화\n",
    "\n",
    "다른 말은 절대 하지 말고, 필요한 도구의 이름만 나열하세요.\"\"\"),\n",
    "    (\"human\", \"{situation}\")\n",
    "])"
   ]
  },
  {
   "cell_type": "markdown",
   "metadata": {},
   "source": [
    "## LCEL 파이프라인 구성"
   ]
  },
  {
   "cell_type": "code",
   "execution_count": null,
   "metadata": {},
   "outputs": [],
   "source": [
    "# 여러 도구를 실행하고 결과를 조합하는 함수\n",
    "def run_and_combine_tools(tool_names_str: str) -> str:\n",
    "    \"\"\"LLM이 반환한 여러 줄의 도구 이름 문자열을 받아, 각 도구를 실행하고 결과를 합칩니다.\"\"\"\n",
    "    # LLM 출력에서 앞뒤 공백을 제거하고, 줄바꿈을 기준으로 나누어 리스트 생성\n",
    "    tool_names = [name.strip() for name in tool_names_str.strip().split('\\n') if name.strip()]\n",
    "\n",
    "    if not tool_names:\n",
    "        return \"🤔 추천할 도구가 없습니다.\"\n",
    "\n",
    "    results = []\n",
    "    for name in tool_names:\n",
    "        tool_fn = tool_map.get(name)\n",
    "        if tool_fn:\n",
    "            # 각 Tool 객체를 인자 없이 실행\n",
    "            results.append(tool_fn.invoke({}))\n",
    "        else:\n",
    "            # LLM이 목록에 없는 도구를 생성한 경우를 대비\n",
    "            results.append(f\"❌ '{name}'은(는) 알 수 없는 도구입니다.\")\n",
    "\n",
    "    # 모든 결과를 줄바꿈으로 합쳐서 하나의 문자열로 반환\n",
    "    return \"\\n\".join(results)\n",
    "\n",
    "# [수정] LCEL 파이프라인 구성 (새로운 실행 함수 연결)\n",
    "tool_selector_chain = (\n",
    "    prompt\n",
    "    | llm\n",
    "    | StrOutputParser()\n",
    "    | RunnableLambda(run_and_combine_tools) # 새로운 함수를 연결\n",
    ")"
   ]
  },
  {
   "cell_type": "markdown",
   "metadata": {},
   "source": [
    "## Gradio UI 구성\n",
    "### Gradio 처리 함수 설정"
   ]
  },
  {
   "cell_type": "code",
   "execution_count": null,
   "metadata": {},
   "outputs": [],
   "source": [
    "# Gradio 처리 함수\n",
    "def handle_tool_selection(user_input):\n",
    "    return tool_selector_chain.invoke({\"situation\": user_input})"
   ]
  },
  {
   "cell_type": "markdown",
   "metadata": {},
   "source": [
    "### Gradio UI 구성"
   ]
  },
  {
   "cell_type": "code",
   "execution_count": null,
   "metadata": {},
   "outputs": [],
   "source": [
    "with gr.Blocks() as demo:\n",
    "    gr.Markdown(\"## 🕵️ 명탐정 코난 도구 추천기\")\n",
    "    gr.Markdown(\"상황을 입력하면 코난이 사용할 적절한 도구를 추천해 드립니다.\")\n",
    "\n",
    "    input_box = gr.Textbox(label=\"상황 설명\", placeholder=\"예: 용의자를 조용히 기절시키고 싶어요\")\n",
    "    output_box = gr.Textbox(label=\"추천 도구\", lines=4)\n",
    "\n",
    "    input_box.submit(handle_tool_selection, inputs=input_box, outputs=output_box)\n",
    "\n",
    "demo.launch()"
   ]
  },
  {
   "cell_type": "markdown",
   "metadata": {},
   "source": [
    "-----\n",
    "** End of Documents **"
   ]
  }
 ],
 "metadata": {
  "kernelspec": {
   "display_name": "langchain-kr-t0JhnSEV-py3.11",
   "language": "python",
   "name": "python3"
  },
  "language_info": {
   "codemirror_mode": {
    "name": "ipython",
    "version": 3
   },
   "file_extension": ".py",
   "mimetype": "text/x-python",
   "name": "python",
   "nbconvert_exporter": "python",
   "pygments_lexer": "ipython3",
   "version": "3.12.3"
  }
 },
 "nbformat": 4,
 "nbformat_minor": 2
}
