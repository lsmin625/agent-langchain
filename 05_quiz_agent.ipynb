{
 "cells": [
  {
   "cell_type": "markdown",
   "metadata": {},
   "source": [
    "## 명탐정 코난 매니아 판독기"
   ]
  },
  {
   "cell_type": "markdown",
   "metadata": {},
   "source": [
    "### OpenAI LLM 준비 및 퀴즈 파일 지정\n",
    "* 환경 변수(`.env` 파일)에서 API Key 로딩\n",
    "* 개발 환경에서는 `gpt-4o-mini` 또는 `gpt-3.5-turbo`"
   ]
  },
  {
   "cell_type": "code",
   "execution_count": null,
   "metadata": {},
   "outputs": [],
   "source": [
    "import gradio as gr\n",
    "import random, json, os\n",
    "from dotenv import load_dotenv\n",
    "from langchain_openai import ChatOpenAI\n",
    "from langchain_core.prompts import ChatPromptTemplate\n",
    "from langchain_core.output_parsers import StrOutputParser\n",
    "\n",
    "# 퀴즈 파일 및 출제 문항 개수 지정\n",
    "QUIZ_FILE = \"conan_quiz.json\"\n",
    "QUIZ_COUNT = 3\n",
    "\n",
    "load_dotenv()\n",
    "llm = ChatOpenAI(model=\"gpt-4o-mini\", temperature=0.7)"
   ]
  },
  {
   "cell_type": "markdown",
   "metadata": {},
   "source": [
    "\n",
    "### 퀴즈 문항 (`conan_quiz.json`) 로딩\n",
    "- `def load_quiz()` :\tload_quiz라는 이름의 함수를 정의\n",
    "- `with open(QUIZ_FILE, \"r\", encoding=\"utf-8\") as f`: 지정된 경로의 JSON 파일(QUIZ_FILE)을 UTF-8 인코딩 방식으로 읽기 모드(\"r\")로 열고, with 구문을 사용하여 파일 사용 후 자동으로 닫히도록 처리\n",
    "- `all_q = json.load(f)` : JSON 파일 내용을 파싱하여 파이썬 객체(리스트 형태, 퀴즈 문제들)로 변환.\n",
    "- `return random.sample(all_q, QUIZ_COUNT)` :전체 문제 중 QUIZ_COUNT 개수만큼 무작위로 샘플링하여 반환(중복 없이 선택)"
   ]
  },
  {
   "cell_type": "code",
   "execution_count": null,
   "metadata": {},
   "outputs": [],
   "source": [
    "# 퀴즈 로딩 함수\n",
    "def load_quiz():\n",
    "    with open(QUIZ_FILE, \"r\", encoding=\"utf-8\") as f:\n",
    "        all_q = json.load(f)\n",
    "    return random.sample(all_q, QUIZ_COUNT)"
   ]
  },
  {
   "cell_type": "markdown",
   "metadata": {},
   "source": [
    "### 문제 출력 구성"
   ]
  },
  {
   "cell_type": "code",
   "execution_count": null,
   "metadata": {},
   "outputs": [],
   "source": [
    "# 문제 출력 - 선다형 구성\n",
    "def get_question(state):\n",
    "    idx = state[\"quiz_index\"]\n",
    "    q = state[\"questions\"][idx]\n",
    "    text = f\"문제 {idx+1}: {q['question']}\"\n",
    "    if q[\"type\"] == \"multiple_choice\":\n",
    "        choices = [f\"{i+1}. {c}\" for i, c in enumerate(q[\"choices\"])]\n",
    "        text += \"\\n\" + \"\\n\".join(choices)\n",
    "    return text"
   ]
  },
  {
   "cell_type": "markdown",
   "metadata": {},
   "source": [
    "### 사용자 응답 구성"
   ]
  },
  {
   "cell_type": "code",
   "execution_count": null,
   "metadata": {},
   "outputs": [],
   "source": [
    "# 사용자 답변을 상태에 저장\n",
    "def update_state(state, user_input):\n",
    "    idx = state[\"quiz_index\"]\n",
    "    q = state[\"questions\"][idx]\n",
    "    processed = user_input.strip()\n",
    "\n",
    "    if q[\"type\"] == \"multiple_choice\":\n",
    "        try:\n",
    "            sel = int(processed) - 1\n",
    "            if 0 <= sel < len(q[\"choices\"]):\n",
    "                processed = q[\"choices\"][sel]\n",
    "        except:\n",
    "            pass\n",
    "\n",
    "    state[\"user_answers\"].append(\n",
    "        {\n",
    "            \"question_text\": q[\"question\"],\n",
    "            \"user_response\": processed,\n",
    "            \"is_correct\": False,\n",
    "            \"correct_answer\": str(q[\"answer\"]),\n",
    "        }\n",
    "    )\n",
    "    state[\"quiz_index\"] += 1\n",
    "    return state"
   ]
  },
  {
   "cell_type": "markdown",
   "metadata": {},
   "source": [
    "### LLM으로 보낼 채점 프롬프트"
   ]
  },
  {
   "cell_type": "code",
   "execution_count": null,
   "metadata": {},
   "outputs": [],
   "source": [
    "# 채점 프롬프트 생성\n",
    "def build_grading_prompt(state):\n",
    "    parts = [\n",
    "        \"당신은 퀴즈 채점관입니다. 사용자 답변을 정답 여부로 판단하고 각 문제에 피드백을 제공해주세요.\",\n",
    "        \"마지막에는 '총점: X/Y' 형식으로 출력해주세요.\",\n",
    "    ]\n",
    "    for i, (q, a) in enumerate(zip(state[\"questions\"], state[\"user_answers\"])):\n",
    "        parts.append(f\"\\n문제 {i+1}: {q['question']}\")\n",
    "        if q[\"type\"] == \"multiple_choice\":\n",
    "            parts.append(f\"선택지: {', '.join(q['choices'])}\")\n",
    "        parts.append(f\"정답: {q['answer']}\")\n",
    "        parts.append(f\"사용자 답변: {a['user_response']}\")\n",
    "    return \"\\n\".join(parts)"
   ]
  },
  {
   "cell_type": "markdown",
   "metadata": {},
   "source": [
    "### LCEL 채점 파이프라인 구성"
   ]
  },
  {
   "cell_type": "code",
   "execution_count": null,
   "metadata": {},
   "outputs": [],
   "source": [
    "# LCEL 채점 체인\n",
    "grade_chain = (\n",
    "    ChatPromptTemplate.from_messages(\n",
    "        [\n",
    "            (\"system\", \"채점관으로서 정답 판단 및 피드백을 제공해주세요.\"),\n",
    "            (\"user\", \"{grading_input}\"),\n",
    "        ]\n",
    "    )\n",
    "    | llm\n",
    "    | StrOutputParser()\n",
    ")"
   ]
  },
  {
   "cell_type": "markdown",
   "metadata": {},
   "source": [
    "### 퀴즈 시작 요청 처리"
   ]
  },
  {
   "cell_type": "code",
   "execution_count": null,
   "metadata": {},
   "outputs": [],
   "source": [
    "# 퀴즈 시작 요청 처리\n",
    "def handle_quiz_start(user_input, quiz_state, messages):\n",
    "    quiz_state[\"questions\"] = load_quiz()\n",
    "    quiz_state[\"quiz_index\"] = 0\n",
    "    quiz_state[\"user_answers\"] = []\n",
    "    qtext = get_question(quiz_state)\n",
    "    messages.append([user_input, qtext])\n",
    "    return quiz_state, messages"
   ]
  },
  {
   "cell_type": "markdown",
   "metadata": {},
   "source": [
    "### 퀴즈가 이미 끝난 경우"
   ]
  },
  {
   "cell_type": "code",
   "execution_count": null,
   "metadata": {},
   "outputs": [],
   "source": [
    "# 퀴즈가 이미 끝난 경우\n",
    "def handle_quiz_already_done(user_input, messages):\n",
    "    messages.append(\n",
    "        [\n",
    "            user_input,\n",
    "            \"퀴즈가 이미 종료되었습니다. 다시 시작하려면 '퀴즈 시작'이라고 입력하세요.\",\n",
    "        ]\n",
    "    )\n",
    "    return messages"
   ]
  },
  {
   "cell_type": "markdown",
   "metadata": {},
   "source": [
    "### 사용자 답변 처리"
   ]
  },
  {
   "cell_type": "code",
   "execution_count": null,
   "metadata": {},
   "outputs": [],
   "source": [
    "# 사용자 답변 처리\n",
    "def handle_user_answer(user_input, quiz_state, messages):\n",
    "    quiz_state = update_state(quiz_state, user_input)\n",
    "\n",
    "    if quiz_state[\"quiz_index\"] < len(quiz_state[\"questions\"]):\n",
    "        qtext = get_question(quiz_state)\n",
    "        messages.append([user_input, qtext])\n",
    "    else:\n",
    "        prompt = build_grading_prompt(quiz_state)\n",
    "        result = grade_chain.invoke({\"grading_input\": prompt})\n",
    "        messages.append([user_input, result])\n",
    "\n",
    "    return quiz_state, messages"
   ]
  },
  {
   "cell_type": "markdown",
   "metadata": {},
   "source": [
    "### 메인 챗봇 처리 함수"
   ]
  },
  {
   "cell_type": "code",
   "execution_count": null,
   "metadata": {},
   "outputs": [],
   "source": [
    "# 메인 챗봇 처리 함수\n",
    "def chat_fn(user_input, state):\n",
    "    user_input_lower = user_input.strip().lower()\n",
    "    messages = state[\"chat_history\"]\n",
    "    quiz_state = state[\"quiz_state\"]\n",
    "\n",
    "    if quiz_state[\"questions\"] == []:\n",
    "        if user_input_lower in [\"퀴즈\", \"퀴즈 시작\"]:\n",
    "            quiz_state, messages = handle_quiz_start(user_input, quiz_state, messages)\n",
    "        else:\n",
    "            messages.append(\n",
    "                [\n",
    "                    user_input,\n",
    "                    \"'퀴즈' 또는 '퀴즈 시작'이라고 입력하면 퀴즈를 시작합니다.\",\n",
    "                ]\n",
    "            )\n",
    "    elif quiz_state[\"quiz_index\"] >= len(quiz_state[\"questions\"]):\n",
    "        messages = handle_quiz_already_done(user_input, messages)\n",
    "    else:\n",
    "        quiz_state, messages = handle_user_answer(user_input, quiz_state, messages)\n",
    "\n",
    "    state[\"quiz_state\"] = quiz_state\n",
    "    state[\"chat_history\"] = messages\n",
    "    return messages, state"
   ]
  },
  {
   "cell_type": "markdown",
   "metadata": {},
   "source": [
    "### 초기 상태 정의"
   ]
  },
  {
   "cell_type": "code",
   "execution_count": null,
   "metadata": {},
   "outputs": [],
   "source": [
    "# 상태 초기화\n",
    "def init_state():\n",
    "    return {\n",
    "        \"quiz_state\": {\"quiz_index\": 0, \"questions\": [], \"user_answers\": []},\n",
    "        \"chat_history\": [],\n",
    "    }"
   ]
  },
  {
   "cell_type": "markdown",
   "metadata": {},
   "source": [
    "## Gradio UI 정의"
   ]
  },
  {
   "cell_type": "code",
   "execution_count": null,
   "metadata": {},
   "outputs": [],
   "source": [
    "# Gradio UI\n",
    "with gr.Blocks() as demo:\n",
    "    gr.Markdown(\"## 🕵️ 명탐정 코난 매니아 판별기\")\n",
    "    chatbot = gr.Chatbot(label=\"명탐정 코난 퀴즈 챗봇\", height=400)\n",
    "    txt = gr.Textbox(placeholder=\"'퀴즈 시작'을 입력해보세요!\", show_label=False)\n",
    "    state = gr.State(init_state())\n",
    "\n",
    "    txt.submit(chat_fn, inputs=[txt, state], outputs=[chatbot, state])\n",
    "    txt.submit(lambda: \"\", None, txt)\n",
    "\n",
    "demo.launch()"
   ]
  },
  {
   "cell_type": "markdown",
   "metadata": {},
   "source": [
    "-----\n",
    "** End of Documents **"
   ]
  }
 ],
 "metadata": {
  "kernelspec": {
   "display_name": "langchain-kr-t0JhnSEV-py3.11",
   "language": "python",
   "name": "python3"
  },
  "language_info": {
   "codemirror_mode": {
    "name": "ipython",
    "version": 3
   },
   "file_extension": ".py",
   "mimetype": "text/x-python",
   "name": "python",
   "nbconvert_exporter": "python",
   "pygments_lexer": "ipython3",
   "version": "3.12.3"
  }
 },
 "nbformat": 4,
 "nbformat_minor": 2
}
