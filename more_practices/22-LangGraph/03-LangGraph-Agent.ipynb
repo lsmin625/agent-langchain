{
 "cells": [
  {
   "cell_type": "code",
   "execution_count": 1,
   "metadata": {},
   "outputs": [
    {
     "data": {
      "text/plain": [
       "True"
      ]
     },
     "execution_count": 1,
     "metadata": {},
     "output_type": "execute_result"
    }
   ],
   "source": [
    "# API KEY Loading\n",
    "from dotenv import load_dotenv\n",
    "\n",
    "load_dotenv()"
   ]
  },
  {
   "cell_type": "code",
   "execution_count": 2,
   "metadata": {},
   "outputs": [
    {
     "name": "stdout",
     "output_type": "stream",
     "text": [
      "LangSmith 추적을 시작합니다.\n",
      "[프로젝트명]\n",
      "CH21-LangGraph\n"
     ]
    }
   ],
   "source": [
    "from langchain_teddynote import logging\n",
    "\n",
    "logging.langsmith(\"CH21-LangGraph\")"
   ]
  },
  {
   "cell_type": "markdown",
   "metadata": {},
   "source": [
    "# LangGraph Agent 개발 "
   ]
  },
  {
   "cell_type": "markdown",
   "metadata": {},
   "source": [
    "## Tool 정의"
   ]
  },
  {
   "cell_type": "code",
   "execution_count": 3,
   "metadata": {},
   "outputs": [],
   "source": [
    "from langchain_teddynote.tools.tavily import TavilySearch"
   ]
  },
  {
   "cell_type": "code",
   "execution_count": 4,
   "metadata": {},
   "outputs": [],
   "source": [
    "# 도구 정의 \n",
    "tool = TavilySearch(max_results=5)\n",
    "\n",
    "# 도구 목록 반영\n",
    "tools = [tool]"
   ]
  },
  {
   "cell_type": "code",
   "execution_count": 6,
   "metadata": {},
   "outputs": [
    {
     "name": "stdout",
     "output_type": "stream",
     "text": [
      "[{'title': 'LangGraph Tutorial: What Is LangGraph and How to Use It?', 'url': 'https://www.datacamp.com/tutorial/langgraph-tutorial', 'content': 'LangGraph is a library within the LangChain ecosystem that provides a framework for defining, coordinating, and executing multiple LLM agents (or chains) in a structured and efficient manner. By managing the flow of data and the sequence of operations, LangGraph allows developers to focus on the high-level logic of their applications rather than the intricacies of agent coordination. Whether you need a chatbot that can handle various types of user requests or a multi-agent system that performs complex tasks, LangGraph provides the tools to build exactly what you need. LangGraph significantly simplifies the development of complex LLM applications by providing a structured framework for managing state and coordinating agent interactions.', 'score': 0.91137725, 'raw_content': 'LangGraph Tutorial: What Is LangGraph and How to Use It? | DataCamp\\nSkip to main content\\nWrite for us\\nEN\\nEN\\ntutorials\\nBlogs\\nTutorials\\ndocs\\nPodcasts\\nCheat Sheets\\ncode-alongs\\nCategory\\nCategory\\nTechnologies\\nDiscover content by tools and technology\\nArtificial IntelligenceAWSAzureBusiness IntelligenceChatGPTDatabricksdbtDockerExcelGenerative AIGitHugging FaceJavaJuliaKafkaLarge Language ModelsOpenAIPostgreSQLPower BIPythonRScalaSnowflakeSpreadsheetsSQLSQLiteTableau\\nCategory\\nTopics\\nDiscover content by data science topics\\nAI for BusinessBig DataCareer ServicesCloudData AnalysisData EngineeringData LiteracyData ScienceData VisualizationDataLabDeep LearningMachine LearningMLOpsNatural Language Processing\\nRequest a Demo\\ncategory\\n\\nHome\\nTutorials\\nArtificial Intelligence\\n\\nLangGraph Tutorial: What Is LangGraph and How to Use It?\\nLangGraph is a library within the LangChain ecosystem that provides a framework for defining, coordinating, and executing multiple LLM agents (or chains) in a structured and efficient manner.\\nJun 26, 2024 \\xa0· 12 min read\\nShare\\n\\nImagine you\\'re building a complex, multi-agent large language model (LLM) application. It\\'s exciting, but it comes with challenges: managing the state of various agents, coordinating their interactions, and handling errors effectively. This is where LangGraph can help.\\nLangGraph is a library within the LangChain ecosystem designed to tackle these challenges head-on. LangGraph provides a framework for defining, coordinating, and executing multiple LLM agents (or chains) in a structured manner.\\nIt simplifies the development process by enabling the creation of cyclical graphs, which are essential for developing agent runtimes. With LangGraph, we can easily build robust, scalable, and flexible multi-agent systems.\\nIf you want to learn more about the LangChain ecosystem, I recommend this introduction to LangChain.\\nWhat Is LangGraph?\\nLangGraph enables us to create stateful, multi-actor applications utilizing LLMs as easily as possible. It extends the capabilities of LangChain, introducing the ability to create and manage cyclical graphs, which are pivotal for developing sophisticated agent runtimes. The core concepts of LangGraph include: graph structure, state management, and coordination.\\nGraph structure\\nImagine your application as a directed graph. In LangGraph, each node represents an LLM agent, and the edges are the communication channels between these agents. This structure allows for clear and manageable workflows, where each agent performs specific tasks and passes information to other agents as needed.\\nState management\\nOne of LangGraph\\'s standout features is its automatic state management. This feature enables us to track and persist information across multiple interactions. As agents perform their tasks, the state is dynamically updated, ensuring the system maintains context and responds appropriately to new inputs.\\nCoordination\\nLangGraph ensures agents execute in the correct order and that necessary information is exchanged seamlessly. This coordination is vital for complex applications where multiple agents need to work together to achieve a common goal. By managing the flow of data and the sequence of operations, LangGraph allows developers to focus on the high-level logic of their applications rather than the intricacies of agent coordination.\\nWhy LangGraph?\\nAs I mentioned above, LangGraph offers several significant advantages for developers working with complex LLM applications. Here are some of the real-world benefits LangGraph offers.\\nSimplified development\\nLangGraph abstracts away the complexities associated with state management and agent coordination. This means developers can define their workflows and logic without worrying about the underlying mechanisms that ensure data consistency and proper execution order. This simplification accelerates the development process and reduces the likelihood of errors. It’s a game-changer!\\nFlexibility\\nWith LangGraph, developers have the flexibility to define their own agent logic and communication protocols. This allows for highly customized applications tailored to specific use cases. Whether you need a chatbot that can handle various types of user requests or a multi-agent system that performs complex tasks, LangGraph provides the tools to build exactly what you need. It’s all about giving you the power to create.\\nScalability\\nLangGraph is built to support the execution of large-scale multi-agent applications. Its robust architecture can handle a high volume of interactions and complex workflows, enabling the development of scalable systems that can grow with your needs. This makes it suitable for enterprise-level applications and scenarios where performance and reliability are critical.\\nFault tolerance\\nReliability is a core consideration in the design of LangGraph. The library includes mechanisms for gracefully handling errors, ensuring that your application can continue to operate even when individual agents encounter issues. This fault tolerance is essential for maintaining the stability and robustness of complex multi-agent systems. Peace of mind is just a feature away.\\nGetting Started With LangGraph\\nLet’s see how we can set up LangGraph and what the basic concepts are.\\nInstallation\\nTo install LangGraph, you can use pip:\\npip install -U langgraph\\nBasic Concepts\\nNodes: Nodes represent units of work within your LangGraph. They are typically Python functions that perform a specific task, such as:\\n\\nInteracting with an LLM\\nCalling a tool or API\\nPerforming some data manipulation\\nReceiving user input\\nExecuting business logic\\n\\nIn LangGraph, you can add nodes using the graph.add_node(name, value) syntax.\\nEdges: Edges are communication channels between nodes. They define the flow of information and the order of execution. You can add edges using the graph.add_edge(node1, node2) syntax.\\nState: The state is a central object updated over time by the nodes in the graph. It manages the internal state of your application and can be overridden or added to, depending on the application\\'s requirements. This state can hold things such as:\\n\\nConversation history: A list of messages between the agent and the user.\\nContextual data: Information relevant to the current task or interaction.\\nInternal variables: Flags, counters, or other variables to track the agent\\'s progress and behavior.\\n\\nBuilding a Simple LangGraph Application\\nHere’s a step-by-step example of creating a basic chatbot application using LangGraph.\\nStep 1: Define the StateGraph\\nDefine a StateGraph object to structure the chatbot as a state machine. The State is a class object defined with a single key messages of type List and uses the add_messages() function to append new messages rather than overwrite them.\\nfrom typing import Annotated\\nfrom typing_extensions import TypedDict\\nfrom langgraph.graph import StateGraph\\nfrom langgraph.graph.message import add_messages\\nclass State(TypedDict):\\n    # messages have the type \"list\".\\n    # The add_messages function appends messages to the list, rather than overwriting them\\n    messages: Annotated[list, add_messages]\\ngraph_builder = StateGraph(State)\\nStep 2: Initialize an LLM and add it as a Chatbot node\\nHere, we initialize the AzureChatOpenAI model and create a simple chatbot function that takes in the state messages as input and generates a message response (which is subsequently appended to the state).\\nThis chatbot function is added as a node named “chatbot” to the graph.\\n```\\nfrom langchain_openai import AzureChatOpenAI\\nllm = AzureChatOpenAI(\\n    openai_api_version=os.environ[\"AZURE_OPENAI_API_VERSION\"],\\n    azure_deployment=os.environ[\"AZURE_OPENAI_CHAT_DEPLOYMENT_NAME\"],\\n)\\ndef chatbot(state: State):\\n    return {\"messages\": [llm.invoke(state[\"messages\"])]}\\n‘’’The first argument is the unique node name\\nThe second argument is the function or object that will be called whenever the node is used.’’’\\ngraph_builder.add_node(\"chatbot\", chatbot)\\n```\\nStep 3: Set edges\\nSince we are building a simple chatbot, we set the chatbot node as both the entry and finish points of the graph to indicate where to start and end the process.\\n```\\nSet entry and finish points\\ngraph_builder.set_entry_point(\"chatbot\")\\ngraph_builder.set_finish_point(\"chatbot\")\\n```\\nStep 4: Compile and Visualize the Graph\\nCompile the graph to create a CompiledGraph object, and optionally, we can visualize the graph structure using the code below:\\ngraph = graph_builder.compile()\\nfrom IPython.display import Image, display\\ntry:\\n    display(Image(graph.get_graph().draw_mermaid_png()))\\nexcept Exception:\\n    pass\\n\\nStep 5: Run the chatbot\\nFinally, we implement a loop to continuously prompt the user for input, process it through the graph, and print the assistant\\'s response. The loop exits when the user types \"quit\", \"exit\", or \"q\".\\n```\\nRun the chatbot\\nwhile True:\\n    user_input = input(\"User: \")\\n    if user_input.lower() in [\"quit\", \"exit\", \"q\"]:\\n        print(\"Goodbye!\")\\n        break\\n    for event in graph.stream({\"messages\": [(\"user\", user_input)]}):\\n        for value in event.values():\\n            print(\"Assistant:\", value[\"messages\"][-1].content)\\n```\\nAdvanced LangGraph Features\\nNow that we covered the basics, let’s take a look at some advanced features.\\nCustom node types\\nLangGraph allows you to create custom node types to implement complex agent logic. This provides flexibility and control over your application\\'s behavior.\\nfrom typing import Annotated\\nfrom langchain_anthropic import ChatAnthropic\\nfrom langgraph.graph import StateGraph\\nfrom langgraph.graph.message import add_messages\\nclass MyCustomNode:\\n    def __init__(self, llm):\\n        self.llm = llm\\n    def __call__(self, state):\\n        # Implement your custom logic here\\n        # Access the state and perform actions\\n        messages = state[\"messages\"]\\n        response = self.llm.invoke(messages)\\n        return {\"messages\": [response]}\\ngraph_builder = StateGraph(State)\\nllm = ChatAnthropic(model=\"claude-3-haiku-20240307\")\\ncustom_node = MyCustomNode(llm)\\ngraph_builder.add_node(\"custom_node\", custom_node)\\nHere, we define a class MyCustomNode that encapsulates custom logic and interacts with the LLM. This provides a more structured and maintainable way to implement complex node behaviors.\\nEdge types\\nLangGraph supports different edge types to handle various communication patterns between nodes. One useful type is the conditional edge, which allows for decision-making based on a node\\'s output.\\nTo create a conditional edge, you need three components:\\n\\nThe upstream node: The node\\'s output decides the next step.\\nA function: This function evaluates the upstream node\\'s output and determines the next node to execute, returning a string that represents the decision.\\nA mapping: This mapping links the possible outcomes of the function to the corresponding nodes to be executed.\\n\\nHere\\'s an example in pseudocode:\\ngraph.add_conditional_edge(\\n    \"model\",\\n    should_continue,\\n    {\\n        \"end\": END,\\n        \"continue\": \"tools\"\\n    }\\n)\\nHere, after the “model” node is called, we can either exit the graph (”end”) and return to the user, or we can continue (”continue”) and call a tool—depending on what the user decides!\\nState management\\nLangGraph offers powerful state management techniques, which include using external databases like SQLite, PostgreSQL, and MongoDB, or cloud storage solutions like Amazon S3, Google Cloud Storage, and Azure Blob Storage to store and retrieve your agent\\'s state, enabling reliability and scalability.\\nHere\\'s an example of using a SQLite database for state management:\\n```\\nfrom langgraph.checkpoint.sqlite import SqliteSaver\\nConnect to the SQLite database\\nmemory = SqliteSaver.from_conn_string(\":memory:\")\\nCompile the graph with the checkpointer\\ngraph = graph_builder.compile(checkpointer=memory)\\n```\\nError handling\\nLangGraph also provides mechanisms for error handling:\\n\\nExceptions: Node functions can raise exceptions to signal errors during execution. You can catch and handle these exceptions to prevent your graph from crashing.\\nRetry mechanisms: You can implement retry logic within your nodes to handle transient errors, such as network issues or API timeouts.\\nLogging: Use logging to record errors and track the execution of your graph.\\n\\nReal-World Applications of LangGraph\\nLangGraph can be used to build a wide range of applications.\\nChatbots\\nLangGraph is ideal for developing sophisticated chatbots that can handle a wide array of user requests. By leveraging multiple LLM agents, these chatbots can process natural language queries, provide accurate responses, and seamlessly switch between different conversation topics. The ability to manage state and coordinate interactions ensures that the chatbot maintains context and delivers a coherent user experience.\\nAutonomous agents\\nFor applications requiring autonomous decision-making, LangGraph enables the creation of agents that can perform tasks independently based on user inputs and predefined logic.\\nThese agents can execute complex workflows, interact with other systems, and adapt to new information dynamically. LangGraph\\'s structured framework ensures that each agent operates efficiently and effectively, making it suitable for tasks like automated customer support, data processing, and system monitoring.\\nMulti-Agent systems\\nLangGraph excels in building applications where multiple agents collaborate to achieve a common goal. For example, different agents can manage inventory, process orders, and coordinate deliveries in a supply chain management system. LangGraph\\'s coordination capabilities ensure that each agent communicates effectively, sharing information and making decisions in a synchronized manner. This leads to more efficient operations and better overall system performance.\\nWorkflow automation tools\\nWith LangGraph, automating business processes and workflows becomes straightforward. Intelligent agents can be designed to handle tasks such as document processing, approval workflows, and data analysis. By defining clear workflows and leveraging LangGraph\\'s state management, these tools can execute complex sequences of actions without human intervention, reducing errors and increasing productivity.\\nRecommendation systems\\nPersonalized recommendation systems can greatly benefit from LangGraph\\'s capabilities. By employing multiple agents to analyze user behavior, preferences, and contextual data, these systems can deliver tailored suggestions for products, content, or services. LangGraph\\'s flexibility allows for integrating various data sources and algorithms, enhancing the accuracy and relevance of recommendations.\\nPersonalized learning environments\\nIn educational platforms, LangGraph can be used to create adaptive learning environments that cater to individual learning styles and needs. Multiple agents can assess a student\\'s progress, provide customized exercises, and offer real-time feedback. The stateful nature of LangGraph ensures that the system retains information about each learner\\'s performance and preferences, enabling a more personalized and effective educational experience.\\nConclusion\\nLangGraph significantly simplifies the development of complex LLM applications by providing a structured framework for managing state and coordinating agent interactions.\\nPotential developments for LangGraph include integration with other LangChain components, support for new LLM models, and the introduction of more advanced agent runtimes from academia.\\nIf you want to learn more about developing applications within the LangChain ecosystem, I recommend this course on developing LLM applications with LangChain.\\n\\n\\nAuthor\\nRyan Ong\\n\\nRyan is a lead data scientist specialising in building AI applications using LLMs. He is a PhD candidate in Natural Language Processing and Knowledge Graphs at Imperial College London, where he also completed his Master’s degree in Computer Science. Outside of data science, he writes a weekly Substack newsletter,\\xa0The Limitless Playbook, where he shares one actionable idea from the world\\'s top thinkers and occasionally writes about core AI concepts.\\nTopics\\nArtificial IntelligencePython\\n\\n\\nRyan OngI write about AI research, entrepreneurship, and self-development.\\n\\nTopics\\nArtificial IntelligencePython\\n### LangGraph Studio Guide: Installation, Set Up, Use Cases\\n### Introduction to LangChain for Data Engineering & Data Applications\\n### How to Build LLM Applications with LangChain Tutorial\\n### Building LangChain Agents to Automate Tasks in Python\\n### Building Context-Aware Chatbots: Leveraging LangChain Framework for ChatGPT\\n### Building AI Applications with LangChain and GPT\\nLearn AI with these courses!\\ncourse\\nDeveloping LLM Applications with LangChain\\n3 hr\\n12.7K\\nDiscover how to build AI-powered applications using LLMs, prompts, chains, and agents in LangChain.\\nSee DetailsStart Course\\ncourse\\nDeveloping LLM Applications with LangChain\\n3 hr\\n12.7K\\nDiscover how to build AI-powered applications using LLMs, prompts, chains, and agents in LangChain.\\nSee DetailsStart Course\\ntrack\\nAI Business Fundamentals\\n11hrs hr\\nAccelerate your AI journey, conquer ChatGPT, and develop a comprehensive Artificial Intelligence strategy.\\nSee DetailsStart Course\\nSee More\\nRelated\\ntutorial ### LangGraph Studio Guide: Installation, Set Up, Use Cases\\nLangGraph Studio is a visual development environment for LangChain’s LangGraph framework, simplifying the development of complex agentic applications built with LangChain components.\\n\\nDr Ana Rojo-Echeburúa\\n8 min\\ntutorial ### Introduction to LangChain for Data Engineering & Data Applications\\nLangChain is a framework for including AI from large language models inside data pipelines and applications. This tutorial provides an overview of what you can do with LangChain, including the problems that LangChain solves and examples of data use cases.\\n\\nRichie Cotton\\n11 min\\ntutorial ### How to Build LLM Applications with LangChain Tutorial\\nExplore the untapped potential of Large Language Models with LangChain, an open-source Python framework for building advanced AI applications.\\n\\nMoez Ali\\n12 min\\ntutorial ### Building LangChain Agents to Automate Tasks in Python\\nA comprehensive tutorial on building multi-tool LangChain agents to automate tasks in Python using LLMs and chat models using OpenAI.\\n\\nBex Tuychiev\\n14 min\\ntutorial ### Building Context-Aware Chatbots: Leveraging LangChain Framework for ChatGPT\\nExplore how to build context-aware chatbots using the ChatGPT and LangChain framework.\\n\\nAndrea Valenzuela\\n15 min\\ncode-along ### Building AI Applications with LangChain and GPT\\nIn the live training, you\\'ll use LangChain to build a simple AI application, including preparing and indexing data, prompting the AI, and generating responses.\\n\\nEmmanuel Pire\\nSee MoreSee More\\nGrow your data skills with DataCamp for Mobile\\nMake progress on the go with our mobile courses and daily 5-minute coding challenges.\\nLearn\\nLearn PythonLearn AILearn Power BILearn Data EngineeringAssessmentsCareer TracksSkill TracksCoursesData Science Roadmap\\nData Courses\\nPython CoursesR CoursesSQL CoursesPower BI CoursesTableau CoursesAlteryx CoursesAzure CoursesAWS CoursesGoogle Sheets CoursesExcel CoursesAI CoursesData Analysis CoursesData Visualization CoursesMachine Learning CoursesData Engineering CoursesProbability & Statistics Courses\\nDataLab\\nGet StartedPricingSecurityDocumentation\\nCertification\\nCertificationsData ScientistData AnalystData EngineerSQL AssociatePower BI Data AnalystTableau Certified Data AnalystAzure FundamentalsAI Fundamentals\\nResources\\nResource CenterUpcoming EventsBlogCode-AlongsTutorialsDocsOpen SourceRDocumentationCourse EditorBook a Demo with DataCamp for BusinessData Portfolio\\nPlans\\nPricingFor StudentsFor BusinessFor UniversitiesDiscounts, Promos & SalesDataCamp Donates\\nFor Business\\nBusiness PricingTeams PlanData & AI Unlimited PlanCustomer StoriesPartner Program\\nAbout\\nAbout UsLearner StoriesCareersBecome an InstructorPressLeadershipContact UsDataCamp EspañolDataCamp PortuguêsDataCamp DeutschDataCamp Français\\nSupport\\nHelp CenterBecome an Affiliate\\nFacebookTwitterLinkedInYouTubeInstagram\\nPrivacy PolicyCookie NoticeDo Not Sell My Personal InformationAccessibilitySecurityTerms of Use\\n© 2025 DataCamp, Inc. All Rights Reserved.'}, {'title': 'LangGraph Quickstart', 'url': 'https://colab.research.google.com/github/langchain-ai/langgraph/blob/main/docs/docs/tutorials/introduction.ipynb', 'content': 'Learn how to create a support chatbot in LangGraph that can answer questions, maintain conversation state, and route complex queries. Follow the tutorial steps to set up your environment, define your graph, and run your chatbot.', 'score': 0.7587435, 'raw_content': None}, {'title': 'Tutorials - GitHub Pages', 'url': 'https://langchain-ai.github.io/langgraph/tutorials/', 'content': 'Skip to content Join us at Interrupt: The Agent AI Conference by LangChain on May 13 & 14 in San Francisco! Table of contents Planning Agents LangGraph Quickstart: Build a chatbot that can use tools and keep track of conversation history. LangGraph Template Quickstart: Start building with LangGraph Platform using a template application. Plan-and-Execute: Implement a basic planning and execution agent Language Agent Tree Search: Use reflection and rewards to drive a monte-carlo tree search over agents Agent-based: Evaluate chatbots via simulated user interactions Was this page helpful? Thanks for your feedback! Thanks for your feedback! Please help us improve this page by adding to the discussion below. Copyright © 2025 LangChain, Inc | Consent Preferences Thank you!', 'score': 0.7156829, 'raw_content': 'Tutorials\\nSkip to content\\nJoin us at Interrupt: The Agent AI Conference by LangChain on May 13 & 14 in San Francisco!\\n \\nTutorials\\n\\nInitializing search\\nGitHub\\n\\nHome\\nAPI reference\\n\\n \\nGitHub\\n\\n\\n[ ] \\nHome\\nHome\\n\\n\\n[ ]  Get started\\nGet started\\n\\nLearn the basics\\nDeployment\\n\\n\\n\\n[ ]  Guides\\nGuides\\n\\nHow-to Guides\\nConcepts\\n\\n[ ] \\nTutorials\\nTutorials\\n\\nQuick Start\\nChatbots\\nRAG\\nAgent Architectures\\nEvaluation & Analysis\\nExperimental\\nLangGraph Platform\\n\\n\\n\\n\\n\\n[ ]  Resources\\nResources\\n\\nPrebuilt Agents\\nCompanies using LangGraph\\nFAQ\\nTroubleshooting\\nLangGraph Academy Course\\n\\n\\n\\n\\n\\nAPI reference\\n\\n\\nTable of contents\\n\\nGet Started 🚀\\n\\nUse cases 🛠️\\n\\nChatbots\\nRAG\\n\\nAgent Architectures\\n\\nMulti-Agent Systems\\nPlanning Agents\\nReflection & Critique\\n\\n\\n\\nEvaluation\\n\\nExperimental\\n\\n\\n\\nLangGraph Platform 🧱\\n\\nAuthentication & Access Control\\n\\n\\n\\nHome\\n\\nGuides\\nTutorials\\n\\n\\nTutorials¶\\nNew to LangGraph or LLM app development? Read this material to get up and running building your first applications.\\nGet Started 🚀¶\\n\\nLangGraph Quickstart: Build a chatbot that can use tools and keep track of conversation history. Add human-in-the-loop capabilities and explore how time-travel works.\\nCommon Workflows: Overview of the most common workflows using LLMs implemented with LangGraph.\\nLangGraph Server Quickstart: Launch a LangGraph server locally and interact with it using REST API and LangGraph Studio Web UI.\\nLangGraph Template Quickstart: Start building with LangGraph Platform using a template application.\\nDeploy with LangGraph Cloud Quickstart: Deploy a LangGraph app using LangGraph Cloud.\\n\\nUse cases 🛠️¶\\nExplore practical implementations tailored for specific scenarios:\\nChatbots¶\\n\\nCustomer Support: Build a multi-functional support bot for flights, hotels, and car rentals.\\nPrompt Generation from User Requirements: Build an information gathering chatbot.\\nCode Assistant: Build a code analysis and generation assistant.\\n\\nRAG¶\\n\\nAgentic RAG: Use an agent to figure out how to retrieve the most relevant information before using the retrieved information to answer the user\\'s question.\\nAdaptive RAG: Adaptive RAG is a strategy for RAG that unites (1) query analysis with (2) active / self-corrective RAG. Implementation of: https://arxiv.org/abs/2403.14403\\nFor a version that uses a local LLM: Adaptive RAG using local LLMs\\n\\n\\nCorrective RAG: Uses an LLM to grade the quality of the retrieved information from the given source, and if the quality is low, it will try to retrieve the information from another source. Implementation of: https://arxiv.org/pdf/2401.15884.pdf\\nFor a version that uses a local LLM: Corrective RAG using local LLMs\\n\\n\\nSelf-RAG: Self-RAG is a strategy for RAG that incorporates self-reflection / self-grading on retrieved documents and generations. Implementation of https://arxiv.org/abs/2310.11511.\\nFor a version that uses a local LLM: Self-RAG using local LLMs\\n\\n\\nSQL Agent: Build a SQL agent that can answer questions about a SQL database.\\n\\nAgent Architectures¶\\nMulti-Agent Systems¶\\n\\nNetwork: Enable two or more agents to collaborate on a task\\nSupervisor: Use an LLM to orchestrate and delegate to individual agents\\nHierarchical Teams: Orchestrate nested teams of agents to solve problems\\n\\nPlanning Agents¶\\n\\nPlan-and-Execute: Implement a basic planning and execution agent\\nReasoning without Observation: Reduce re-planning by saving observations as variables\\nLLMCompiler: Stream and eagerly execute a DAG of tasks from a planner\\n\\nReflection & Critique¶\\n\\nBasic Reflection: Prompt the agent to reflect on and revise its outputs\\nReflexion: Critique missing and superfluous details to guide next steps\\nTree of Thoughts: Search over candidate solutions to a problem using a scored tree\\nLanguage Agent Tree Search: Use reflection and rewards to drive a monte-carlo tree search over agents\\nSelf-Discover Agent: Analyze an agent that learns about its own capabilities\\n\\nEvaluation¶\\n\\nAgent-based: Evaluate chatbots via simulated user interactions\\nIn LangSmith: Evaluate chatbots in LangSmith over a dialog dataset\\n\\nExperimental¶\\n\\nWeb Research (STORM): Generate Wikipedia-like articles via research and multi-perspective QA\\nTNT-LLM: Build rich, interpretable taxonomies of user intentand using the classification system developed by Microsoft for their Bing Copilot application.\\nWeb Navigation: Build an agent that can navigate and interact with websites\\nCompetitive Programming: Build an agent with few-shot \"episodic memory\" and human-in-the-loop collaboration to solve problems from the USA Computing Olympiad; adapted from the \"Can Language Models Solve Olympiad Programming?\" paper by Shi, Tang, Narasimhan, and Yao.\\nComplex data extraction: Build an agent that can use function calling to do complex extraction tasks\\n\\nLangGraph Platform 🧱¶\\nAuthentication & Access Control¶\\nAdd custom authentication and authorization to an existing LangGraph Platform deployment in the following three-part guide:\\n\\nSetting Up Custom Authentication: Implement OAuth2 authentication to authorize users on your deployment\\nResource Authorization: Let users have private conversations\\nConnecting an Authentication Provider: Add real user accounts and validate using OAuth2\\n\\nWas this page helpful?\\nThanks for your feedback!\\nThanks for your feedback! Please help us improve this page by adding to the discussion below.\\nComments\\nBack to top\\nPrevious Bring Your Own Cloud (BYOC)Next Learn the basics\\nCopyright © 2025 LangChain, Inc | Consent Preferences\\nMade with Material for MkDocs Insiders\\n\\nCookie consent\\nWe use cookies to recognize your repeated visits and preferences, as well as to measure the effectiveness of our documentation and whether users find what they\\'re searching for. Clicking \"Accept\" makes our documentation better. Thank you! ❤️\\n\\nGoogle Analytics\\nGitHub\\n\\nAccept Reject'}, {'title': 'Introduction to LangGraph', 'url': 'https://academy.langchain.com/courses/intro-to-langgraph', 'content': 'LangChain LangSmith LangGraph LangChain LangSmith LangGraph Separate from the LangChain package, LangGraph helps developers add better precision and control into agentic workflows. Lesson 1: Motivation Lesson 3: LangGraph Studio Lesson 4: Chain Lesson 5: Router Lesson 6: Agent Lesson 7: Agent with Memory Lesson 8: Intro to Deployment Lesson 1: State Schema Lesson 2: State Reducers Lesson 3: Multiple Schemas Lesson 1: Streaming Lesson 2: Breakpoints Lesson 1: Parallelization Lesson 4: Research Assistant Lesson 2: LangGraph Store Lesson 3: Memory Schema + Profile Lesson 4: Memory Schema + Collection Lesson 5: Build an Agent with Long-Term Memory Lesson 1: Deployment Concepts Lesson 2: Creating a Deployment Lesson 3: Connecting to a Deployment Lesson 5: Assistants About this course 54 lessons', 'score': 0.7140107, 'raw_content': \"Introduction to LangGraph\\n\\nDocs\\nPython\\nLangChain LangSmith LangGraph\\nJavaScript\\nLangChain LangSmith LangGraph\\nCommunity LangSmith All Courses\\nSign In\\nRegister\\nLangChain Academy\\nIntroduction to LangGraph\\nLearn the basics of LangGraph - our framework for building agentic and multi-agent applications. Separate from the LangChain package, LangGraph helps developers add better precision and control into agentic workflows.\\nEnroll for free\\nWatch Intro Video \\nCourse Curriculum\\n\\n\\nWelcome to the course!\\n\\n\\nCourse Overview\\n\\n\\nGetting Set Up\\n\\n\\nGetting Set Up (Video Guide)\\n\\n\\nModule 0 Resources\\n\\n\\n\\n\\nModule 1: Introduction\\n\\n\\nModule 1 Introduction\\n\\n\\nModule 1 Resources\\n\\n\\nLesson 1: Motivation\\n\\n\\nLesson 2: Simple Graph\\n\\n\\nLesson 3: LangGraph Studio\\n\\n\\nLesson 4: Chain\\n\\n\\nLesson 5: Router\\n\\n\\nLesson 6: Agent\\n\\n\\nLesson 7: Agent with Memory\\n\\n\\nLesson 8: Intro to Deployment\\n\\n\\nModule 1 Feedback\\n\\n\\n\\n\\nModule 2: State and Memory\\n\\n\\nModule 2 Introduction\\n\\n\\nModule 2 Resources\\n\\n\\nLesson 1: State Schema\\n\\n\\nLesson 2: State Reducers\\n\\n\\nLesson 3: Multiple Schemas\\n\\n\\nLesson 4: Trim and Filter Messages\\n\\n\\nLesson 5: Chatbot w/ Summarizing Messages and Memory\\n\\n\\nLesson 6: Chatbot w/ Summarizing Messages and External Memory\\n\\n\\nModule 2 Feedback\\n\\n\\n\\n\\nModule 3: UX and Human-in-the-Loop\\n\\n\\nModule 3 Introduction\\n\\n\\nModule 3 Resources\\n\\n\\nLesson 1: Streaming\\n\\n\\nLesson 2: Breakpoints\\n\\n\\nLesson 3: Editing State and Human Feedback\\n\\n\\nLesson 4: Dynamic Breakpoints\\n\\n\\nLesson 5: Time Travel\\n\\n\\nModule 3 Feedback\\n\\n\\n\\n\\nModule 4: Building Your Assistant\\n\\n\\nModule 4 Introduction\\n\\n\\nModule 4 Resources\\n\\n\\nLesson 1: Parallelization\\n\\n\\nLesson 2: Sub-graphs\\n\\n\\nLesson 3: Map-reduce\\n\\n\\nLesson 4: Research Assistant\\n\\n\\nModule 4 Feedback\\n\\n\\n\\n\\nModule 5: Long-Term Memory\\n\\n\\nModule 5 Resources\\n\\n\\nLesson 1: Short vs. Long-Term Memory\\n\\n\\nLesson 2: LangGraph Store\\n\\n\\nLesson 3: Memory Schema + Profile\\n\\n\\nLesson 4: Memory Schema + Collection\\n\\n\\nLesson 5: Build an Agent with Long-Term Memory\\n\\n\\nModule 5 Feedback\\n\\n\\n\\n\\nModule 6: Deployment\\n\\n\\nModule 6 Resources\\n\\n\\nLesson 1: Deployment Concepts\\n\\n\\nLesson 2: Creating a Deployment\\n\\n\\nLesson 3: Connecting to a Deployment\\n\\n\\nLesson 4: Double Texting\\n\\n\\nLesson 5: Assistants\\n\\n\\nModule 6 Feedback\\n\\n\\nEnd of Course Feedback\\n\\n\\n\\n\\nShow more\\n\\nAbout this course\\n\\n\\nFree\\n54 lessons\\n6 hours of video content\\n\\nLangGraph FAQs\\n\\n\\nDo I need to use LangChain to use LangGraph? What’s the difference?No. LangGraph is an orchestration framework for complex agentic systems and is more low-level and controllable than LangChain agents. On the other hand, LangChain provides a standard interface to interact with models and other components, useful for straight-forward chains and retrieval flows.\\n\\n\\nHow is LangGraph different from other agent frameworks?Other agentic frameworks can work for simple, generic tasks but fall short for complex tasks bespoke to a company’s needs. LangGraph provides a more expressive framework to handle companies’ unique tasks without restricting users to a single black-box cognitive architecture.\\n\\n\\nDoes LangGraph impact the performance of my app?LangGraph will not add any overhead to your code and is specifically designed with streaming workflows in mind.\\n\\n\\nIs LangGraph open source? Is it free?Yes. LangGraph is an MIT-licensed open-source library and is free to use.\\n\\n\\nIs LangGraph Cloud open source?No. LangGraph Cloud is proprietary software that will eventually be a paid service for certain tiers of usage. We will always give ample notice before charging for a service and reward our early adopters with preferential pricing.\\n\\n\\nDeploy agents at scale, monitor carefully, iterate boldly\\nDesign agent-driven user experiences with LangGraph Platform's APIs. Quickly deploy and scale your application with infrastructure built for agents. Choose from multiple deployment options.\\nLearn More\\nReady to start shipping reliable\\nGenAI apps faster?\\n\\nGet started with LangGraph and LangSmith to enhance\\nyour LLM app development, from prototype to production.\\nContact Sales\\nBring LangChain Academy to Your Company\\nNominate your company to receive a LangChain Academy training,\\navailable both in-person at your office or remotely, at no cost.\\nLearn More\\n© Copyright LangChain Academy 2025\"}, {'title': 'How to Build AI Agents with LangGraph: A Step-by-Step Guide', 'url': 'https://medium.com/@lorevanoudenhove/how-to-build-ai-agents-with-langgraph-a-step-by-step-guide-5d84d9c7e832', 'content': 'In this step, we’ll define how the AI agent manages its state (the ongoing context of the conversation) and ensure it responds appropriately to the user’s input and tool output. This involves creating a template for the conversation, specifying the tools that the assistant will use, and configuring how the AI agent will respond to user input and trigger different functions (like calculating solar savings). This step ensures that the AI assistant can access and trigger the tools as needed during the conversation, creating a seamless interaction between the user and the assistant. By following these steps, you have successfully created an AI assistant using LangGraph that can calculate solar panel energy savings based on user inputs.', 'score': 0.61834323, 'raw_content': \"Sign up\\nSign in\\nSign up\\nSign in\\nHow to Build AI Agents with LangGraph: A Step-by-Step Guide\\nLore Van Oudenhove\\nFollow\\n--\\n17\\nListen\\nShare\\nIntroduction\\nIn the world of AI, retrieval-augmented generation (RAG) systems have become common tools for handling simple queries and generating contextually relevant responses. However, as the demand for more sophisticated AI applications grows, there’s a need for systems that go beyond these retrieval capabilities. Enter AI agents — autonomous entities capable of performing complex, multi-step tasks, maintaining state across interactions, and dynamically adapting to new information. LangGraph, a powerful extension of the LangChain library, is designed to help developers build these advanced AI agents by enabling stateful, multi-actor applications with cyclic computation capabilities.\\nIn this article, we’ll explore how LangGraph transforms AI development and provide a step-by-step guide on how to build your own AI agent using an example that computes energy savings for solar panels. This example will showcase how LangGraph’s unique features can create intelligent, adaptable, and real-world-ready AI systems.\\nWhat is LangGraph?\\nLangGraph is an advanced library built on top of LangChain, designed to enhance your Large Language Model (LLM) applications by introducing cyclic computational capabilities. While LangChain allows the creation of Directed Acyclic Graphs (DAGs) for linear workflows, LangGraph takes this a step further by enabling the addition of cycles, which are essential for developing complex, agent-like behaviors. These behaviors allow LLMs to continuously loop through a process, dynamically deciding what action to take next based on evolving conditions.\\nAt the heart of LangGraph is the concept of a stateful graph:\\nLangGraph redefines AI development by seamlessly managing graph structure, state, and coordination, empowering the creation of sophisticated, multi-actor applications. With automatic state management, LangGraph ensures that context is preserved across interactions, enabling your AI to respond intelligently to changing inputs. Its streamlined agent coordination guarantees precise execution and efficient information exchange, letting you focus on crafting innovative workflows rather than technical intricacies. LangGraph’s flexibility allows for the development of tailored, high-performance applications, while its scalability and fault tolerance ensure your systems remain robust and reliable, even at the enterprise level.\\nStep-by-step Guide\\nNow that we have a solid understanding of what LangGraph is and how it enhances AI development, let’s dive into a practical example. In this scenario, we’ll build an AI agent designed to calculate potential energy savings for solar panels based on user input. This agent can be implemented as a lead generation tool on a solar panel seller’s website, where it interacts with potential customers, offering personalized savings estimates. By gathering key data such as monthly electricity costs, this AI agent helps educate customers on the financial benefits of solar energy while simultaneously qualifying leads for follow-up by the sales team. This example showcases the power of LangGraph in creating intelligent, dynamic systems that can automate complex tasks and drive business value.\\nStep 1: Import Necessary Libraries\\nWe start by importing all the essential Python libraries and modules required for the project.\\nThese imports set the foundation for utilizing LangChain, LangGraph, and AWS services to build our AI assistant.\\nStep 2: Define the Tool for Calculating Solar Savings\\nNext, we define a tool that will handle the computation of energy savings based on the monthly electricity cost provided by the user.\\nThis function processes the user’s monthly electricity cost and returns a detailed estimate of the solar panel system’s benefits, including the number of panels required, installation costs, and net savings over ten years. For simplicity, we have made a few assumptions in the calculations, such as the average cost per kilowatt-hour and average sunlight hours. However, in a more advanced version of this AI agent, we could gather this information directly from the user, tailoring the estimates more precisely to their unique circumstances.\\nStep 3: Set Up State Management and Error Handling\\nEffective state management and error handling are crucial for building robust AI systems. Here, we define utilities to manage errors and maintain the conversation’s state.\\nThese functions ensure that any errors encountered during the tool’s execution are handled gracefully, providing helpful feedback to the user.\\nStep 4: Define the State and Assistant Class\\nIn this step, we’ll define how the AI agent manages its state (the ongoing context of the conversation) and ensure it responds appropriately to the user’s input and tool output.\\nTo do this, we create a State class using Python's TypedDict to define the structure of the messages that will be passed around. The state will hold messages, including input from the user and output from the agent or tools.\\nNext, we create the Assistant class, which is responsible for running the AI agent, interacting with the tools, and managing the flow of the conversation. The Assistant invokes the tools, ensures they return appropriate results, and handles any re-prompts or errors that may occur during execution. Its core functionality includes invoking the Runnable, which defines the process of calling the LLM and tools like compute_savings, and then monitoring the results. If the agent fails to return a valid response or if a tool doesn't provide meaningful data, the Assistant re-prompts the user or requests clarification. It continues to loop through the Runnable until a valid output is obtained, ensuring smooth execution and effective responses.\\nThis setup is essential for maintaining the flow of conversation and ensuring that the assistant responds appropriately based on the context.\\nStep 5: Set Up the LLM with AWS Bedrock\\nIn this step, we configure the Large Language Model (LLM) using AWS Bedrock, which will power the AI assistant’s language capabilities. AWS Bedrock allows us to access advanced LLMs such as Anthropic’s Claude. To interact with AWS services, you need to have your AWS credentials configured. This means you must either have your AWS credentials set in your environment (through the AWS CLI or environment variables) or use a credentials file that AWS SDKs can access. Without proper AWS configuration, the assistant won’t be able to connect to AWS services like Bedrock for running the LLM.\\nThis integration ensures that the assistant can effectively interpret and respond to user inputs.\\nStep 6: Define the Assistant’s Workflow\\nNow that we have set up the LLM and tools, the next step is to define the AI assistant’s workflow. This involves creating a template for the conversation, specifying the tools that the assistant will use, and configuring how the AI agent will respond to user input and trigger different functions (like calculating solar savings). The workflow is essentially the logic that governs how the assistant interacts with users, gathers information, and calls tools to provide results.\\nThe first part of the workflow involves creating a prompt template that defines how the assistant will communicate with the user. The prompt helps guide the AI assistant in determining what to ask the user, how to respond based on the input, and when to trigger tools like compute_savings.\\nIn this case, the assistant needs to ask the user for their monthly electricity cost to calculate solar panel savings. Here’s how we define the conversation:\\nNext, we define the tools that the assistant will use during the interaction, with the primary tool being compute_savings, which calculates potential savings based on the user's monthly electricity cost. After specifying the tools in the list, we bind them to the assistant's workflow using the llm.bind_tools() method. This step ensures that the AI assistant can access and trigger the tools as needed during the conversation, creating a seamless interaction between the user and the assistant.\\nStep 7: Build the Graph Structure\\nIn this step, we construct the graph structure for the AI assistant using LangGraph, which controls how the assistant processes user input, triggers tools, and moves between stages. The graph defines nodes for the core actions (like invoking the assistant and tool) and edges that dictate the flow between these nodes.\\nEach node in LangGraph represents an operational step, such as interacting with the user or executing a tool. We define two key nodes for this AI assistant:\\nEdges define how the flow moves between nodes. Here, the assistant starts the conversation, then transitions to the tool once the required input is collected, and returns to the assistant after the tool’s execution.\\nWe use MemorySaver to ensure the graph retains the conversation state across different steps. This allows the assistant to remember the user’s input, ensuring continuity in multi-step interactions.\\nStep 8: Running the Assistant\\nFinally, you can run the assistant by initiating the graph and starting the conversation.\\nConclusion\\nBy following these steps, you have successfully created an AI assistant using LangGraph that can calculate solar panel energy savings based on user inputs. This tutorial demonstrates the power of LangGraph in managing complex, multi-step processes and highlights how to leverage advanced AI tools to solve real-world challenges efficiently. Whether you’re developing AI agents for customer support, energy management, or other applications, LangGraph provides the flexibility, scalability, and robustness needed to bring your ideas to life.\\nInterested in visualizing and testing this agent using LangGraph Studio? Check out my recent article and YouTube video:\\nLangGraph Studio: Visualizing and Testing AI Agents with LangChain\\nA guide to using LangGraph Studio for visualizing, testing, and developing AI agents with LangChain. Includes setup and…\\nmedium.com\\nFollow me for more AI deep dives!\\nMedium, Instagram, YouTube\\n--\\n--\\n17\\nWritten by Lore Van Oudenhove\\nYoung Entrepreneur, Data Scientist, and AI enthusiast. On the journey of building my own AI startup.\\nResponses (17)\\nHelp\\nStatus\\nAbout\\nCareers\\nPress\\nBlog\\nPrivacy\\nTerms\\nText to speech\\nTeams\\n\"}]\n"
     ]
    }
   ],
   "source": [
    "# 도구 실행\n",
    "print(tool.invoke(\"LangGraph Tutorial\"))"
   ]
  },
  {
   "cell_type": "markdown",
   "metadata": {},
   "source": [
    "### LLM + Tools"
   ]
  },
  {
   "cell_type": "code",
   "execution_count": 9,
   "metadata": {},
   "outputs": [],
   "source": [
    "from typing import Annotated\n",
    "from typing_extensions import TypedDict\n",
    "from langgraph.graph.message import add_messages\n",
    "from langchain_openai import ChatOpenAI"
   ]
  },
  {
   "cell_type": "code",
   "execution_count": 8,
   "metadata": {},
   "outputs": [],
   "source": [
    "# State 정의 \n",
    "class State(TypedDict):\n",
    "    messages: Annotated[list, add_messages]"
   ]
  },
  {
   "cell_type": "code",
   "execution_count": 10,
   "metadata": {},
   "outputs": [],
   "source": [
    "# LLM 정의 \n",
    "llm = ChatOpenAI(model = 'gpt-4o-mini', temperature=0)"
   ]
  },
  {
   "cell_type": "code",
   "execution_count": 11,
   "metadata": {},
   "outputs": [],
   "source": [
    "# LLM + Tools \n",
    "llm_with_tools = llm.bind_tools(tools)"
   ]
  },
  {
   "cell_type": "markdown",
   "metadata": {},
   "source": [
    "### Node"
   ]
  },
  {
   "cell_type": "code",
   "execution_count": 12,
   "metadata": {},
   "outputs": [],
   "source": [
    "def chatbot(state: State):\n",
    "    answer = llm_with_tools.invoke(state[\"messages\"])\n",
    "    return {\"messages\": [answer]} "
   ]
  },
  {
   "cell_type": "markdown",
   "metadata": {},
   "source": [
    "### Graph"
   ]
  },
  {
   "cell_type": "code",
   "execution_count": 13,
   "metadata": {},
   "outputs": [],
   "source": [
    "from langgraph.graph import StateGraph"
   ]
  },
  {
   "cell_type": "code",
   "execution_count": 14,
   "metadata": {},
   "outputs": [],
   "source": [
    "# 그래프 초기화 \n",
    "graph_builder = StateGraph(State)"
   ]
  },
  {
   "cell_type": "code",
   "execution_count": 15,
   "metadata": {},
   "outputs": [
    {
     "data": {
      "text/plain": [
       "<langgraph.graph.state.StateGraph at 0x12687aa90>"
      ]
     },
     "execution_count": 15,
     "metadata": {},
     "output_type": "execute_result"
    }
   ],
   "source": [
    "# 노드 연결\n",
    "graph_builder.add_node(\"chatbot\", chatbot)"
   ]
  },
  {
   "cell_type": "markdown",
   "metadata": {},
   "source": [
    "## Tool Node \n",
    "\n",
    "- 도구가 호출될 경우 실제로 실행할 수 있는 함수 \n",
    "- 가장 최근의 메시지를 확인하고 메시지에 `tool_calls`가 포함되어 있으면 도구를 호출하는 `BasicToolNode` 구현 \n",
    "- 아래 코드 블럭은 이해를 돕기 위해 직접 구현. 이후에는 LangGraph의 ToolNode로 대체함 \n",
    "- [Reference]https://langchain-ai.github.io/langgraph/reference/prebuilt/#langgraph.prebuilt.tool_node.ToolNode"
   ]
  },
  {
   "cell_type": "code",
   "execution_count": null,
   "metadata": {},
   "outputs": [
    {
     "data": {
      "text/plain": [
       "<langgraph.graph.state.StateGraph at 0x12687aa90>"
      ]
     },
     "execution_count": 16,
     "metadata": {},
     "output_type": "execute_result"
    }
   ],
   "source": [
    "import json\n",
    "from langchain_core.messages import ToolMessage\n",
    "\n",
    "\n",
    "class BasicToolNode:\n",
    "    \"\"\"Run tools requested in the last AIMessage node\"\"\"\n",
    "\n",
    "    def __init__(self, tools: list) -> None:\n",
    "        # 도구 리스트\n",
    "        # 주어진 도구 리스트를 이름(name)을 기준으로 딕셔너리 형태로 변환\n",
    "        self.tools_list = {tool.name: tool for tool in tools}\n",
    "\n",
    "    def __call__(self, inputs: dict):\n",
    "        # 메시지가 존재할 경우 가장 최근 메시지 1개 추출\n",
    "        # inputs 딕셔너리에서 \"messages\" 키의 값을 가져옴 (없으면 빈 리스트 반환)\n",
    "        if messages := inputs.get(\"messages\", []):\n",
    "            message = messages[-1]\n",
    "        else:\n",
    "            raise ValueError(\"No message found in input\")\n",
    "\n",
    "        # 도구 실행 결과를 저장할 리스트\n",
    "        outputs = []\n",
    "\n",
    "        # message 객체 안의 tool_calls 속성에는 LLM이 호출 요청한 도구 정보가 리스트로 저장되어 있음\n",
    "        for tool_call in message.tool_calls:\n",
    "            # 도구 이름으로 실제 도구 인스턴스를 가져와서, 전달된 인자(args)를 사용해 실행\n",
    "            tool_result = self.tools_list[tool_call[\"name\"]].invoke(tool_call[\"args\"])\n",
    "\n",
    "            # 도구 호출 후 결과 저장\n",
    "            # 도구 실행 결과를 문자열(JSON 형식)로 변환하여 ToolMessage 객체로 저장\n",
    "            outputs.append(\n",
    "                # 도구 호출 결과를 메시지로 저장\n",
    "                ToolMessage(\n",
    "                    content=json.dumps(\n",
    "                        tool_result, ensure_ascii=False\n",
    "                    ),  # 도구 호출 결과를 문자열로 변환\n",
    "                    name=tool_call[\"name\"],\n",
    "                    tool_call_id=tool_call[\"id\"],\n",
    "                )\n",
    "            )\n",
    "\n",
    "        return {\"messages\": outputs}\n",
    "\n",
    "\n",
    "# 도구 노드 생성\n",
    "tool_node = BasicToolNode(tools=[tool])\n",
    "\n",
    "# 그래프에 도구 노드 추가\n",
    "graph_builder.add_node(\"tools\", tool_node)"
   ]
  },
  {
   "cell_type": "markdown",
   "metadata": {},
   "source": [
    "## Conditional Edge\n",
    "\n",
    "- 일반적으로 \"if\" 문을 포함하여 현재 그래프 상태에 따라 다른 노드로 라우팅 \n",
    "- 이러한 함수는 현재 그래프 `state`를 받아 다음에 호출할 Node 를 나타내는 **문자열 또는 문자열 목록** 을 반환\n",
    "\n",
    "- 아래에서는 `route_tools`라는 라우터 함수를 정의하여 챗봇의 출력에서 `tool_calls`를 확인\n",
    "- 이 함수를 `add_conditional_edges`를 호출하여 그래프에 제공하면, `chatbot` 노드가 완료될 때마다 이 함수를 확인하여 다음으로 어디로 갈지 결정\n",
    "- 조건은 도구 호출이 있으면 `tools`로, 없으면 `END`로 라우팅\n",
    "\n",
    "- [Reference] tools_condition\n",
    "https://langchain-ai.github.io/langgraph/reference/prebuilt/#tools_condition"
   ]
  },
  {
   "cell_type": "code",
   "execution_count": 17,
   "metadata": {},
   "outputs": [],
   "source": [
    "from langgraph.graph import START, END"
   ]
  },
  {
   "cell_type": "code",
   "execution_count": null,
   "metadata": {},
   "outputs": [],
   "source": [
    "def route_tools(\n",
    "    state: State,\n",
    "):  \n",
    "    # state에서 \"messages\" 키를 통해 메시지 리스트를 가져옴\n",
    "    # messages는 지금까지 주고받은 대화 기록 (주로 AIMessage, HumanMessage 등)\n",
    "    if messages := state.get(\"messages\", []):\n",
    "        ai_message = messages[-1] # 가장 최근 AI 메시지 추출\n",
    "    else:\n",
    "        raise ValueError(f\"No messages found in input state to tool_edge: {state}\")\n",
    "\n",
    "    # 가장 최근 메시지에 tool_calls 속성이 있고, 실제 호출 요청이 하나 이상 존재하면\n",
    "    # 도구 호출이 있는 경우 \"tools\" 반환\n",
    "    if hasattr(ai_message, \"tool_calls\") and len(ai_message.tool_calls) > 0:\n",
    "        return \"tools\"\n",
    "    \n",
    "    return END"
   ]
  },
  {
   "cell_type": "code",
   "execution_count": 19,
   "metadata": {},
   "outputs": [
    {
     "data": {
      "text/plain": [
       "<langgraph.graph.state.StateGraph at 0x12687aa90>"
      ]
     },
     "execution_count": 19,
     "metadata": {},
     "output_type": "execute_result"
    }
   ],
   "source": [
    "graph_builder.add_conditional_edges(\n",
    "    source=\"chatbot\",\n",
    "    path=route_tools,\n",
    "    path_map={\n",
    "        \"tools\":\"tools\",\n",
    "        END:END,\n",
    "    }\n",
    ")"
   ]
  },
  {
   "cell_type": "code",
   "execution_count": 20,
   "metadata": {},
   "outputs": [
    {
     "data": {
      "text/plain": [
       "<langgraph.graph.state.StateGraph at 0x12687aa90>"
      ]
     },
     "execution_count": 20,
     "metadata": {},
     "output_type": "execute_result"
    }
   ],
   "source": [
    "graph_builder.add_edge(START, \"chatbot\")\n",
    "graph_builder.add_edge(\"tools\", \"chatbot\")"
   ]
  },
  {
   "cell_type": "code",
   "execution_count": 21,
   "metadata": {},
   "outputs": [],
   "source": [
    "graph = graph_builder.compile()"
   ]
  },
  {
   "cell_type": "code",
   "execution_count": 22,
   "metadata": {},
   "outputs": [
    {
     "data": {
      "image/png": "[encoded data removed]",
      "text/plain": [
       "<IPython.core.display.Image object>"
      ]
     },
     "metadata": {},
     "output_type": "display_data"
    }
   ],
   "source": [
    "from langchain_teddynote.graphs import visualize_graph\n",
    "visualize_graph(graph)"
   ]
  },
  {
   "cell_type": "code",
   "execution_count": null,
   "metadata": {},
   "outputs": [
    {
     "name": "stdout",
     "output_type": "stream",
     "text": [
      "\n",
      "==============\n",
      "STEP: messages\n",
      "==============\n",
      "\n",
      "content='SKC&C에서 진행하는 SKALA에 대해서 검색해 주세요' additional_kwargs={} response_metadata={} id='ba7b5f30-2667-4d48-aaf6-a9426a7c4290'\n",
      "\n",
      "==============\n",
      "STEP: messages\n",
      "==============\n",
      "\n",
      "content='' additional_kwargs={'tool_calls': [{'id': 'call_adsWhO46CjOq52Xt8EndJrzW', 'function': {'arguments': '{\"query\":\"SKC&C SKALA\"}', 'name': 'tavily_web_search'}, 'type': 'function'}], 'refusal': None} response_metadata={'token_usage': {'completion_tokens': 22, 'prompt_tokens': 104, 'total_tokens': 126, 'completion_tokens_details': {'accepted_prediction_tokens': 0, 'audio_tokens': 0, 'reasoning_tokens': 0, 'rejected_prediction_tokens': 0}, 'prompt_tokens_details': {'audio_tokens': 0, 'cached_tokens': 0}}, 'model_name': 'gpt-4o-mini-2024-07-18', 'system_fingerprint': 'fp_b376dfbbd5', 'finish_reason': 'tool_calls', 'logprobs': None} id='run-0ded2769-dfed-4ff7-8078-e7fa24cbe0b8-0' tool_calls=[{'name': 'tavily_web_search', 'args': {'query': 'SKC&C SKALA'}, 'id': 'call_adsWhO46CjOq52Xt8EndJrzW', 'type': 'tool_call'}] usage_metadata={'input_tokens': 104, 'output_tokens': 22, 'total_tokens': 126, 'input_token_details': {'audio': 0, 'cache_read': 0}, 'output_token_details': {'audio': 0, 'reasoning': 0}}\n",
      "\n",
      "==============\n",
      "STEP: messages\n",
      "==============\n",
      "\n",
      "content='[{\"title\": \"SKALA, SK C&C AI Leader Academy\", \"url\": \"https://skala.co.kr/\", \"content\": \"SKALA는 SK C&C 및 자회사의 신입사원을 채용하기 위한 채용연계형 교육으로, 과정 종료 후 SKALA 이수자 대상 서류 전형 면제 및 채용을 우대하는 특별 전형이 진행됩니다.\", \"score\": 0.8846886, \"raw_content\": \"2기 모집 관련 문의는 오른쪽 하단 카카오톡으로 문의해주세요!\\\\n\\\\n2기 모집 관련 문의는 오른쪽 하단 카카오톡으로 문의해주세요!\\\\n\\\\nSKALA (SK AI Leader Academy)는 SK C&C의 채용연계형 AI 서비스 개발 과정으로,\\\\n\\\\n약 5개월간 압축적인 SW, Data·AI 교육 및 팀 프로젝트를 통해 AI 서비스 개발에 필요한 지식과 경험을\\\\n\\\\n교육한 후 SK C&C 및 자회사의 신입구성원으로 채용하기 위한 교육입니다.\\\\n\\\\n\\\\n\\\\n우리와 함께 하게 될 구성원을 육성하는 마음으로 전 과정을 직접 만들고, 강의하며, 채용합니다.\\\\n\\\\nK-digital Training | 100% 국비지원 \\xa0 \\xa0고용노동부, 대한상공회의소와 함께 합니다.\\\\n\\\\nSKALA (SK AI Leader Academy)는 SK C&C의 채용연계형 AI\\xa0서비스 개발 과정으로, 약 5개월간 압축적인 SW, Data·AI 교육 및 팀 프로젝트를\\xa0통해\\xa0AI 서비스\\xa0개발에 필요한 지식과 경험을 교육한 후 SK C&C 및\\xa0자회사의 신입구성원으로 채용하기\\xa0위한 교육입니다.\\\\n\\\\n우리와 함께 하게 될 구성원을 육성하는 마음으로\\xa0전 과정을 직접 만들고, 강의하며, 채용합니다.\\\\n\\\\nK-digital Training | 100% 국비지원\\\\n\\\\n고용노동부, 대한상공회의소와 함께 합니다.\\\\n\\\\nSKALA는 SK C&C 및 자회사의 신입사원을 채용하기\\xa0위한 채용연계형 교육으로, 과정 종료 후 SKALA\\xa0이수자 대상 서류전형 면제 및 채용을 우대하는\\xa0특별\\xa0전형이\\xa0진행됩니다.\\\\n\\\\nAI 서비스를 구현하기 위해서는 SW, Data, AI만이\\xa0아니라, 각각의 지식들에 대한 이해를 기반으로 여러\\xa0기술을 연결해서 다룰 수 있어야 합니다.\\\\n\\\\n\\\\n\\\\n본 과정은 AI 서비스 개발을 위해, MLMachine Learning\\xa0/ DLDeep Learning과 LLMLarge Language Model을 융합하여 백엔드\\xa0모델로 서빙하고, 이를 최종적으로 프론트엔드를 통해 사용자에게\\xa0반응형으로 제공하는 All-in-One\\xa0학습 경험을 제공합니다.\\\\n\\\\n대기업의 이름으로 홍보되는 과정은 많지만 실제 교육은 별도의 업체에서 강의, 운영하는 경우가 많습니다.\\\\n\\\\n\\\\n\\\\nSKALA는 기술교과부터 특강까지 모든 교육 내용을 SK C&C 현직 기술·교육 전문가가 직접 개발하고 강의해,\\xa0SK C&C와 자회사의 신입사원에게 요구되는 기술과\\xa0역량을 갖출 수 있도록 가이드하며,\\xa0실제 시장이\\xa0필요로\\xa0하는 기술과 노하우를 보다 생생하게 전수합니다.\\\\n\\\\n\\\\n\\\\nSKALA는 SK C&C 및 자회사의 신입사원을 채용하기 위한 채용연계형 교육으로, 과정 종료 후 SKALA 이수자 대상 서류 전형 면제 및 채용을 우대하는 특별 전형이 진행됩니다. | SKALA는 SK C&C 및 자회사의 신입사원을 채용하기 위한 채용연계형 교육으로, 과정 종료 후 SKALA 이수자 대상 서류 전형 면제 및 채용을 우대하는 특별 전형이 진행됩니다.\\\\nSKALA는 SK C&C 및 자회사의 신입사원을 채용하기 위한 채용연계형 교육으로, 과정 종료 후 SKALA 이수자 대상 서류 전형 면제 및 채용을 우대하는 특별 전형이 진행됩니다.\\\\nSKALA는 SK C&C 및 자회사의 신입사원을 채용하기 위한 채용연계형 교육으로, 과정 종료 후 SKALA 이수자 대상 서류 전형 면제 및 채용을 우대하는 특별 전형이 진행됩니다.\\\\nAI 서비스를 구현하기 위해서는 SW, Data, AI만이 아니라,각각의 지식들에 대한 이해를 기반으로 여러 기술을 연결해서 다룰 수 있어야 합니다.본 과정은 AI 서비스 개발을 위해 MLMachine Learning/ DLDeep Learning과 LLMLarge Language Model을 융합해\\xa0백엔드 모델로 서빙하고, 이를 프론트엔드를 통해 사용자에게 반응형으로 제공하는\\xa0All-in-One 학습 경험을 제공합니다. | AI 서비스를 구현하기 위해서는 SW, Data, AI만이 아니라,각각의 지식들에 대한 이해를 기반으로 여러 기술을 연결해서 다룰 수 있어야 합니다.본 과정은 AI 서비스 개발을 위해 MLMachine Learning/ DLDeep Learning과 LLMLarge Language Model을 융합해\\xa0백엔드 모델로 서빙하고, 이를 프론트엔드를 통해 사용자에게 반응형으로 제공하는\\xa0All-in-One 학습 경험을 제공합니다.\\\\nAI 서비스를 구현하기 위해서는 SW, Data, AI만이 아니라,각각의 지식들에 대한 이해를 기반으로 여러 기술을 연결해서 다룰 수 있어야 합니다.본 과정은 AI 서비스 개발을 위해 MLMachine Learning/ DLDeep Learning과 LLMLarge Language Model을 융합해\\xa0백엔드 모델로 서빙하고, 이를 프론트엔드를 통해 사용자에게 반응형으로 제공하는\\xa0All-in-One 학습 경험을 제공합니다.\\\\nAI 서비스를 구현하기 위해서는 SW, Data, AI만이 아니라,각각의 지식들에 대한 이해를 기반으로 여러 기술을 연결해서 다룰 수 있어야 합니다.본 과정은 AI 서비스 개발을 위해 MLMachine Learning/ DLDeep Learning과 LLMLarge Language Model을 융합해\\xa0백엔드 모델로 서빙하고, 이를 프론트엔드를 통해 사용자에게 반응형으로 제공하는\\xa0All-in-One 학습 경험을 제공합니다.\\\\n대기업의 이름으로 홍보되는 과정은 많지만 실제 교육은 별도의 업체에서 강의, 운영하는 경우가 많습니다.SKALA는 기술교과부터 특강까지 모든 교육 내용을 SK C&C에 재직하는 현직 기술·교육 전문가가 직접 개발하고 강의해, SK C&C와 자회사의 신입사원에게 요구되는 기술과 역량을 갖출 수 있도록 가이드하며, 실제 시장에서 필요로 하는 기술과 노하우를 보다 생생하게 전수합니다. | 대기업의 이름으로 홍보되는 과정은 많지만 실제 교육은 별도의 업체에서 강의, 운영하는 경우가 많습니다.SKALA는 기술교과부터 특강까지 모든 교육 내용을 SK C&C에 재직하는 현직 기술·교육 전문가가 직접 개발하고 강의해, SK C&C와 자회사의 신입사원에게 요구되는 기술과 역량을 갖출 수 있도록 가이드하며, 실제 시장에서 필요로 하는 기술과 노하우를 보다 생생하게 전수합니다.\\\\n대기업의 이름으로 홍보되는 과정은 많지만 실제 교육은 별도의 업체에서 강의, 운영하는 경우가 많습니다.SKALA는 기술교과부터 특강까지 모든 교육 내용을 SK C&C에 재직하는 현직 기술·교육 전문가가 직접 개발하고 강의해, SK C&C와 자회사의 신입사원에게 요구되는 기술과 역량을 갖출 수 있도록 가이드하며, 실제 시장에서 필요로 하는 기술과 노하우를 보다 생생하게 전수합니다.\\\\n대기업의 이름으로 홍보되는 과정은 많지만 실제 교육은 별도의 업체에서 강의, 운영하는 경우가 많습니다.SKALA는 기술교과부터 특강까지 모든 교육 내용을 SK C&C에 재직하는 현직 기술·교육 전문가가 직접 개발하고 강의해, SK C&C와 자회사의 신입사원에게 요구되는 기술과 역량을 갖출 수 있도록 가이드하며, 실제 시장에서 필요로 하는 기술과 노하우를 보다 생생하게 전수합니다.\\\\n\\\\n\\\\n01.교육비 걱정은 넣어두세요교육+교재+실습비 전액무료!10,531,987원→ 0원 | \\\\n01.교육비 걱정은 넣어두세요교육+교재+실습비 전액무료!\\\\n\\\\n10,531,987원 → 0원\\\\n\\\\n02.출석만 해도 최대 316,000원매월 훈련장려금 지원※ 단,정부 재정지원 프로그램에참여 중인 경우 중복수급이 불가할 수있습니다. | \\\\n02.출석만 해도 최대 316,000원매월 훈련장려금 지원\\\\n\\\\n※ 단,\\xa0정부 재정지원 프로그램에\\xa0참여 중인 경우 중복수급이 불가할 수\\xa0있습니다.\\\\n\\\\n03.식사는 든든히 챙겨먹을 수 있게점심식사 및 저녁식사 제공※ 저녁식사는 팀 프로젝트가진행되는 저녁 연장 교육기간에 한해 제공됩니다. | \\\\n03.식사는 든든히 챙겨먹을 수 있게\\xa0점심식사 및 저녁식사 제공\\\\n\\\\n※ 저녁식사는 팀 프로젝트가\\xa0진행되는 저녁 연장 교육기간에 한해 제공됩니다.\\\\n\\\\n04.교육 종료시까지 무상 대여교육용 노트북 제공 | \\\\n04.교육 종료시까지 무상 대여\\xa0교육용 노트북 제공\\\\n\\\\n\\\\n\\\\n05.SKALA의 불은 꺼지지 않으니까강의장 야간 개방 (~22시) | \\\\n05.SKALA의 불은 꺼지지 않으니까\\xa0강의장 야간 개방 (~22시)\\\\n\\\\n06.실전 경험과 기술로 무장된SK C&C 현직자프로젝트 멘토링 제공 | \\\\n06.실전 경험과 기술로 무장된SK C&C 현직자\\xa0프로젝트 멘토링 제공\\\\n\\\\n07.완주를 축하합니다!인당 100만원수료 축하금 지급 | \\\\n07.완주를 축하합니다!\\xa0인당 100만원\\xa0수료 축하금 지급\\\\n\\\\n\\\\n\\\\n08.총 상금 750만원프로젝트 우수팀 상금 지급 | \\\\n08.총 상금 750만원프로젝트 우수팀 상금 지급\\\\n\\\\n\\\\n\\\\n09.취업을 위한 Tip 대방출SK C&C 채용 전문가의취업 지원 | \\\\n09.취업을 위한 Tip 대방출\\xa0SK C&C 채용 전문가의취업 지원\\\\n\\\\n\\\\n\\\\n01.\\\\n\\\\n교육비 걱정은 넣어두세요교육 + 교재 + 실습비\\xa0전액 무료!\\\\n\\\\n10,531,987원\\xa0→ 0원\\\\n\\\\n\\\\n\\\\n02.\\\\n\\\\n출석만 해도 지원되는 현금 혜택 💸월 최대 316,000원 훈련장려금 지급\\\\n\\\\n※ 미취업 청년 및 대학생대상 지원되는 정부 재정\\xa0지원 프로그램에 참여 중인 경우 중복수급이 불가할 수있습니다. | \\\\n03.\\\\n\\\\n식사는 든든히 챙겨먹을 수 있게점심식사 및 저녁식사 제공\\\\n\\\\n※ 저녁식사는 팀 프로젝트가 진행되는 저녁 연장교육기간에 한해 제공됩니다. | \\\\n04.\\\\n\\\\n교육 종료시까지 무상 대여\\\\n\\\\n교육용 노트북 제공\\\\n\\\\n05. \\xa0SKALA의 불은 꺼지지 않으니까\\\\n\\\\n강의장 야간 개방 (~22시)\\\\n\\\\n06.\\\\n\\\\n실전 경험과 기술로 무장된 SK C&C 현직자 프로젝트 멘토링 제공\\\\n\\\\n07.\\\\n\\\\n완주를 축하합니다!\\\\n\\\\n인당 100만원 수료 축하금 지급\\\\n\\\\n08.\\\\n\\\\n총 상금 750만원\\\\n\\\\n프로젝트 우수팀 상금 지급\\\\n\\\\n09.\\\\n\\\\n취업을 위한 Tip 대방출\\\\n\\\\nSK C&C 채용 전문가의 취업 지원\\\\n\\\\nCourse 1.SW Fundamental264시간 | . Front-end (HTML, CSS, JavaScript, Vue.js, Node.js). Back-end (Java, SpringBoot, Rest API). 데이터베이스 (데이터베이스 모델링, SQL). Cloud, K8S, DevOps. Mini Project\\\\nCourse 2.Data · AI280시간 | . Python Programming. 데이터 분석, Machine Learning, Deep Learning. 생성형 AI 및 LLM의 이해. 생성형 AI 서비스 개발의 이해 (LangChain, RAG, Vector DB). AI Agent 설계. Mini Project\\\\nCourse 3.AI Team Project316시간 | . 프로젝트 관리방법론 (요구사항 분석/정의, 일정/범위/품질/리스크/이슈관리). AI 서비스 개발 주제의 Team Project 수행. 프로젝트 멘토링\\\\nSpecial Course.특강48시간 | . 산업별 IT 프로젝트 수행사례. IT 업계/마켓 트렌드. Biz. Skill. 취업 기본 소양\\\\nCourse 1. SW Fundamental\\\\n. Front-end(HTML, CSS, JavaScript, Vue.js, Node.js). Back-end (Java, Spring Boot, Rest API). 데이터베이스 (데이터베이스 모델링, SQL). Cloud, K8S, DevOps. Mini-Project\\\\n | [ 264시간 ]\\\\nCourse 2. Data·AI\\\\n. Python Programming. 데이터 분석, MLMachine Learning, DLDeep Learning. 생성형 AI 및 LLM의 이해. 생성형 AI 서비스 개발의 이해 (LangChain, RAG, Vector DB). AI Agent 설계. Mini-Project\\\\n | [ 280시간 ]\\\\nCourse 3. AI Team Project\\\\n. 프로젝트 관리방법론. AI 서비스 개발 주제의 팀 프로젝트 수행. 프로젝트 멘토링\\\\n | [ 316시간 ]\\\\nSpecial Course. 특강\\\\n. 산업별 IT 프로젝트 수행사례. IT 업계 및 마켓 트렌드. Biz. Skill. 취업 기본 소양\\\\n | [ 48시간 ]\\\\n약 5개월※ 1기 진행 일정: 2.3(월) ~ 7.8(화)\\\\n\\\\n주중 전일 9:00~18:00 (8시간)※ AI Team Project 기간에는 2시간 저녁 연장 진행\\\\n\\\\n교육과정 전 기간\\xa0오프라인 진행\\\\n\\\\nSK C&C 본사 교육장※ 본사 소재지: 분당 정자동\\\\n\\\\n(성남대로 343번길 9 SK u-타워)\\\\n\\\\n약 5개월※ 1기 진행 일정: 2.3(월) ~ 7.8(수)\\\\n\\\\n주중 전일\\\\n\\\\n9:00~18:00 (8시간)\\\\n\\\\n※ AI Team Project 진행 기간에는\\xa02시간 저녁 연장 진행\\\\n\\\\n\\\\n\\\\n교육과정 전 기간100%\\xa0오프라인\\\\n\\\\nSK C&C 본사 교육장\\\\n\\\\n\\\\n\\\\n\\\\n\\\\n※ 본사 소재지: 분당 정자동\\\\n\\\\n(성남대로 343번길 9\\xa0SK u-타워)\\\\n\\\\n채용연계\\\\n\\\\n\\\\n채용연계의 의미가 무엇인가요?\\\\n\\\\n과정 종료 후 이수자를 대상으로 특별전형이 진행되며,\\xa0이후 추가로 진행되는 SK C&C 및 자회사의 공채에서 서류전형을 면제하는 것을 의미합니다.\\xa0공채 지원 시 최종 입사 여부는 서류전형 면제 이후 별도의 채용 절차를 통해 결정됩니다.\\\\n\\\\n\\\\n\\\\n채용연계\\\\n\\\\n\\\\n과정 이수 후 채용으로 연계되는 회사가 어디인가요?\\\\n\\\\nSK주식회사 C&C와 그 자회사 ATS(애커튼테크놀로지서비스) 입니다.\\xa0각 회사에 대한 상세한 정보는 아래 홈페이지를 참고해주세요.\\\\n\\\\n🔗 SK주식회사 C&C 홈페이지 바로가기\\xa0↗🔗\\xa0ATS(애커튼테크놀로지서비스) 홈페이지 바로가기\\xa0↗\\\\n\\\\n※ 단, 과정 이수가 채용을 보장하는 것은 아니며, 과정 이수 후 별도의 절차를 거쳐 채용 여부가 결정됩니다.\\\\n\\\\n\\\\n\\\\n지원\\\\n\\\\n\\\\n지원하는 데 학력 제한이 있나요?\\\\n\\\\n졸업자 또는 \\'25년 2월 졸업 예정자라면 학력 및 전공에 별도 제한을 두지 않으며, 프로그래밍에 대한 열정과 의지를 최우선으로 고려합니다.\\\\n\\\\n\\\\n\\\\n지원\\\\n\\\\n\\\\n전공에 상관없이 지원이 가능한가요?\\\\n\\\\nSKALA는 프로그래밍에 대한 열정과 의지를 최우선으로 고려하므로 프로그래밍에 대한 지식이 없는 비전공자도 지원 가능합니다.\\xa0단, 전공자와 비전공자가 함께 교육을 수강하는 데 어려움이 있을 수 있으므로\\xa0전공 및 사전 지식 수준에 따라 분반해 교육을 운영할 예정입니다.\\\\n\\\\n\\\\n\\\\n지원\\\\n\\\\n\\\\n내일배움카드 발급 자격이 어떻게 되나요?\\\\n\\\\n국민내일배움카드는 아래 사항에 해당되는 분들을 제외한 국민 누구나 신청 가능합니다.\\xa0※ 국민내일배움카드 지원 제외 대상:- \\xa0공무원, 사립학교 교직원- \\xa075세 이상인 사람- \\xa0대규모 기업 근로자로서, 월 임금 300만원 이상이고, 만 45세 미만인 사람- \\xa0월 소득 500만원 이상의 특수형태근로종사자\\xa0\\xa0 \\xa0 * 특수형태 근로종사자: 사업주와 도급(위탁) 계약을 하고 근로자와 유사하게 서비스를 제공하는 사람으로 보험모집인, 건설기계 소유 기사, 학습지 교사,\\xa0\\xa0 \\xa0 \\xa0 \\xa0골프장 캐디, 택배 기사, 퀵서비스 기사, 대리운전 기사, 대출 모집인, 신용카드 회원 모집인, 방문 판매원, 강사, 기타 프리랜서 등을 말합니다.- \\xa0사업 기간이 1년 미만 이거나 월 소득이 300만원 이상인 법인대표- \\xa0사업 기간이 1년 미만이거나 연 매출 4억 이상의 자영업자- \\xa0월 소득이 300만원 이상인 비영리단체 대표- \\xa0졸업까지 남은 수업연한이 2년 이상인 대학/대학원 재학생, 고등학교 1~2학년생- \\xa0생계급여를 받고 있는 사람(조건부 수급자 또는 조건부과 유예자는 지원 가능)- \\xa0다른 부처 또는 지방자치단체로부터 교육/훈련비를 지원받고 있는 사람- \\xa0지원·융자·수강제한 기간인 부정수급자- 부정행위에 따른 지원금을 반환하지 않은 사람- \\xa0기타 지원 필요성이 인정되지 않는 사람\\\\n\\\\n\\\\n\\\\n🔗 국민내일배움카드 제도 안내 홈페이지 바로가기 ↗\\\\n\\\\n\\\\n\\\\n지원\\\\n\\\\n\\\\n여러 개의 K-digital Training 과정에 중복 지원이 가능한가요?\\\\n\\\\n여러 개의 K-digital Training 과정에 중복으로 지원은 가능하나, 중복 수강은 불가합니다.K-digital Training 과정은 내일배움카드제도로 국비지원을 통해 인당 1회에 한하여 지원됩니다.\\\\n\\\\n\\\\n\\\\n지원\\\\n\\\\n\\\\n국민취업지원제도와 병행할 수 있나요?\\\\n\\\\n네, 병행할 수 있습니다.단, 수강을 위해 국민취업지원제도 담당자를 통해 HRD-Net에서 수강신청 하셔야 하니 \\\\\"지원 전\\\\\"\\xa0담당자와 반드시 상의하세요.🔗 국민취업지원제도 안내 사이트 바로가기 ↗\\\\n\\\\n\\\\n\\\\n지원\\\\n\\\\n\\\\n국비지원과정을 수강했거나 중도 퇴소한 이력이 있는 경우 지원이 가능한가요?\\\\n\\\\nK-디지털 트레이닝 또는 4차산업인력양성으로 구분되는 국비지원과정을 수강했거나 중도 퇴소한 이력이 있는 경우,\\xa0이외의 국비지원과정으로 분류되는 교육을 수강한 경우라도 국민내일배움카드 잔액이 0원인 경우 수강이 불가할 수 있습니다.교육 수강 및 중도 퇴소 이력이 있는 경우 아래를 참고해 교육비 지원 가능 여부 및 금액을 사전에 확인 후 지원 부탁드립니다.\\\\n\\\\n※ 국민내일배움카드를 활용한 수강 이력 확인 방법① 고용24↗\\xa0접속 후 \\\\\"나의수강이력\\\\\"에서 수강했던 과정명 확인② 해당 과정명을 검색해 검색결과로 뜨는 과정명에 태그되어 있는 사업명 확인③ \\xa0K-디지털 트레이닝\\xa0\\xa0 또는 \\xa04차산업인력양성\\xa0이 태그되어 있을 경우 수강 또는 중도 퇴소 이력이 있는 것※ 국민내일배움카드 잔액 확인\\xa0① \\xa0고용24↗ 접속 후 마이페이지 → 훈련관리 → 국민내일배움카드 클릭\\xa0② 카드발급/사용내역 → 카드사용내역 → 지원잔액 확인\\xa0※ 교육비 지원 관련 문의처① 고용노동부 콜센터(국번없이 1350)② 관할 고용센터 또는 고용복지플러스센터 ③ 대한상공회의소 담당자 02-6050-3929\\\\n\\\\n\\\\n\\\\n지원\\\\n\\\\n\\\\n선발 프로세스가 진행되는 일정이 어떻게 되나요? 최종 합격은 언제쯤 결정될까요?\\\\n\\\\n선발 프로세스 및 일정은 아래와 같이 진행되며, 상세 일정은 전형별 합격자 대상 안내 예정입니다.\\\\n\\\\n지원접수 \\xa0 →12/9~12/25 | 서류 검토 \\xa0 →12월 말 | SKCT(인성) 응시 \\xa0 →12월 말~1월 초※ 기간 내 온라인 자율 응시 | 면접→1월 초※ 비대면, 약 30분 소요 예정 | 최종 합격1월 중순\\\\n12월 말~1월 초※ 기간 내 온라인 자율 응시\\\\n\\\\n※ 단, 최종 합격의 의미는 교육 입과 합격을 의미하며, SK C&C 또는 자회사에 대한 채용 합격을 의미하지 않습니다.\\\\n\\\\n\\\\n\\\\n교육\\\\n\\\\n\\\\n교육과정은 평일에만 진행되나요?\\\\n\\\\n네, 교육과정은 주중 평일에만 진행되며, 주말과 공휴일에는 진행되지 않습니다.\\\\n\\\\n단, 자연재해 및 재난, 감염병과 같은 비상상황이 발생할 경우 부득이하게 교육 일정이 변경될 수 있으며필요시 주말 및 공휴일에 교육이 진행될 수 있습니다.\\\\n\\\\n\\\\n\\\\n교육\\\\n\\\\n\\\\n교육비가 전혀 들지 않나요?\\\\n\\\\nSKALA는 고용노동부에서 실시하는 K-디지털 트레이닝 사업의 일환으로 실시되는 교육 과정으로,국비 지원을 통해 교육비, 교재비, 실습비 등 교육에 필요한 비용은 전액 무료입니다.\\\\n\\\\n단, 국비 지원을 받기 위해서는 국민내일배움카드를 발급받을 수 있어야 하며, K-디지털 트레이닝 또는 4차산업인력양성 과정을 수강한 이력이 없고, 보유하고 있는 내일배움카드에 잔액이 남아있어야 합니다.\\\\n\\\\n국비 지원이 아닌, 자비부담금 납부를 통해서는 수강이 불가합니다.\\\\n\\\\n🔗 국민내일배움카드 제도 안내 홈페이지 바로가기\\xa0↗🔗\\xa0국민내일배움카드를 활용한 K-디지털 트레이닝 참여 안내 홈페이지 바로가기\\xa0↗\\\\n\\\\n\\\\n\\\\nFAQ 외 문의는\\xa0아래\\xa0문의처로 문의해주세요.\\\\n\\\\nFAQ 외 문의는 아래 문의처로 문의해 주세요.\\\\n\\\\n✉\\xa0E-Mail \\xa0skala@sk.com\\xa0 \\xa0 💬 카카오톡 채널 \\xa0@skala\\\\n\\\\n대표이사 \\xa0 최태원, 장용호\\xa0사업자등록번호 \\xa0783-85-00169\\xa0주소 \\xa0경기도 성남시 분당구 성남대로 343번길 9\\\\n\\\\n\\\\n\\\\nCopyright ⓒ 2024 SKALA, SK AI Leader Academy All rights reserved.\\\\n\\\\n바로가기\\\\n\\\\n메뉴\\\\n\\\\nSK C&C 홈페이지 ↗SK C&C 유튜브 ↗\\\\n\\\\nSK C&C 블로그 ↗\\\\n\\\\n대표이사 \\xa0 최태원, 장용호\\\\n\\\\n사업자등록번호 \\xa0 783-85-00169주소 경기도 성남시 분당구 성남대로 343번길 9\\\\n\\\\n@2024 SKALA, SK AI Leader Academy All rights reserved.\\\\n\\\\n\"}, {\"title\": \"Sk C&C, 국가 Ai·Dx 인재 양성을 위한 채용연계형 \\'Skala (스칼라)\\' 1기 교육생 모집\", \"url\": \"https://www.skcc.co.kr/company/news-room/3064\", \"content\": \"SKALA의 가장 큰 강점은 우수 교육생에게 SK C&C와 자회사 입사 기회를 제공하는 채용연계형 교육이라는 점이다. 이를 통해 SK C&C는 디지털 혁신을 선도할 인재를 조기에 확보하고 AI·DX 경쟁력을 더욱 강화할 방침이다.\", \"score\": 0.8338803, \"raw_content\": null}, {\"title\": \"Sk C&C, 채용연계형 프로그램 \\'Skala\\' 1기 교육생 모집\", \"url\": \"https://theviewers.co.kr/View.aspx?No=3478343\", \"content\": \"SK C&C는 고용노동부가 주관하는 \\'K-디지털 트레이닝 아카데미\\' 프로그램에 참여해 AI·DX에 특화된 \\'SKALA(SK C&C AI Leader Academy)\\' 1기 교육생을 모집한다고 12일 밝혔다.\\'K-디지털 트레이닝\\'은 고용노동부가 추진하는 디지털 인재 양성 프로그램이다. 이 프로그램은 AI, 클라우드, 반도체, 로봇 등 첨단\", \"score\": 0.826278, \"raw_content\": \"\\\\n\\\\n전체 메뉴\\\\n\\\\n\\\\n\\\\nSK C&C, 채용연계형 프로그램 \\'SKALA\\' 1기 교육생 모집\\\\n\\\\n\\\\n\\\\nSK C&C는 고용노동부가 주관하는 \\'K-디지털 트레이닝 아카데미\\' 프로그램에 참여해 AI·DX에 특화된 \\'SKALA(SK C&C AI Leader Academy)\\' 1기 교육생을 모집한다고 12일 밝혔다.\\\\n\\\\n\\'K-디지털 트레이닝\\'은 고용노동부가 추진하는 디지털 인재 양성 프로그램이다. 이 프로그램은 AI, 클라우드, 반도체, 로봇 등 첨단 분야에서 우수한 교육기관과 협력해 양질의 교육을 제공하는 것이 특징이다.\\\\n\\\\nSK C&C는 \\'K-디지털 트레이닝\\' AI 분야 교육기관으로 선정돼 실무 중심의 AI 특화 교육 과정인 \\'SKALA\\'를 선보인다. \\'SKALA\\' 프로그램은 ▲프로그래밍 ▲생성형 AI ▲데이터 분석 ▲머신러닝 ▲클라우드 ▲AI 서비스 개발 프로젝트 등 디지털 실무 맞춤형 커리큘럼으로 구성됐다.\\\\n\\\\nSK C&C 구성원들이 직접 커리큘럼 설계·개발에 참여했으며, 다양한 프로젝트 경험과 AI 기술력을 보유한 전문가들로 구성된 강사진이 직접 교육을 진행한다.\\\\n\\\\nSK C&C는 현장에서 바로 활용 가능한 실습 위주 교육과 함께 자사의 AI 기술력을 접목해 차별화된 디지털 경쟁력을 갖춘 인재를 양성할 방침이다. 동시에 우수 교육생에게는 SK C&C 자회사 입사 기회를 제공한다.\\\\n\\\\n이번 1기 교육생은 전공 제한 없이 90명 내외를 선발한다. 지원 자격으로는 교육 이수 후 입사가 가능한 국내·외 대학(원) 졸업자 또는 졸업예정자여야 하며, 국민내일배움카드를 발급받을 수 있어야 한다. 지원은 오는 25일까지 \\'SKALA\\' 웹사이트에서 접수 가능하다.\\\\n\\\\n아울러 \\'SKALA\\' 교육생에게는 교육비 전액 지원, 훈련장려금 및 중식 지원, 수료 시 장학금 100만 원 지급 등 혜택이 주어진다. 교육기간 동안 교육용 노트북을 지원하고, 팀 프로젝트에서 우수 성과를 낸 팀에게는 총 750만원에 상당하는 장학금이 지급된다.\\\\n\\\\n김민환 SK C&C Talent 담당은 \\\\\"\\'SKALA\\' 프로그램은 정부와 협력해 국가 AI·DX 인재 양성을 목표로 하는 중요한 첫 걸음\\\\\"이라며 \\\\\"미래 첨단 산업을 이끌고 국가 디지털 혁신에 기여할 인재를 육성하기 위해 지속적으로 노력하겠다\\\\\"고 말했다.\\\\n\\\\n\\\\n\\\\n뷰어스\\\\r\\\\n                                    김태현 기자\\\\r\\\\n                                    ted359@viewers.co.kr\\\\n\\\\n관련 기사\\\\n\\\\n댓글\\\\n\\\\n댓글은 로그인 후 작성해주세요.\\\\n\\\\n섹션 많이 본 기사\\\\n\\\\n백진엽 기자\\\\n\\\\n전기/전자/통신\\\\n\\\\n김태현 기자\\\\n\\\\n전기/전자/통신\\\\n\\\\n김태현 기자\\\\n\\\\n전기/전자/통신\\\\n\\\\n김태현 기자\\\\n\\\\n전기/전자/통신\\\\n\\\\n백민재 기자\\\\n\\\\n전기/전자/통신\\\\n\\\\n김태현 기자\\\\n\\\\n전기/전자/통신\\\\n\\\\n김태현 기자\\\\n\\\\n전기/전자/통신\\\\n\\\\n김태현 기자\\\\n\\\\n전기/전자/통신\\\\n\\\\n백민재 기자\\\\n\\\\n전기/전자/통신\\\\n\\\\n김태현 기자\\\\n\\\\n전기/전자/통신\\\\n\\\\n섹션 주요기사\\\\n\\\\n백민재 기자\\\\n\\\\n전기/전자/통신\\\\n\\\\n김태현 기자\\\\n\\\\n전기/전자/통신\\\\n\\\\n김태현 기자\\\\n\\\\n전기/전자/통신\\\\n\\\\n백진엽 기자\\\\n\\\\n전기/전자/통신\\\\n\\\\n김태현 기자\\\\n\\\\n전기/전자/통신\\\\n\\\\n백민재 기자\\\\n\\\\n전기/전자/통신\\\\n\\\\n섹션 최신기사\\\\n\\\\n백민재 기자\\\\n\\\\n전기/전자/통신\\\\n\\\\n김태현 기자\\\\n\\\\n전기/전자/통신\\\\n\\\\n서효림 기자\\\\n\\\\n전기/전자/통신\\\\n\\\\n김태현 기자\\\\n\\\\n전기/전자/통신\\\\n\\\\n김태현 기자\\\\n\\\\n전기/전자/통신\\\\n\\\\n김태현 기자\\\\n\\\\n전기/전자/통신\\\\n\\\\n백민재 기자\\\\n\\\\n전기/전자/통신\\\\n\\\\n서효림 기자\\\\n\\\\n전기/전자/통신\\\\n\\\\n김태현 기자\\\\n\\\\n전기/전자/통신\\\\n\\\\n김태현 기자\\\\n\\\\n전기/전자/통신\\\\n\\\\n백민재 기자\\\\n\\\\n전기/전자/통신\\\\n\\\\n백민재 기자\\\\n\\\\n전기/전자/통신\\\\n\\\\n헤드라인 뉴스\\\\n\\\\n서효림 기자\\\\n\\\\n기자\\\\n\\\\n서효림 기자\\\\n\\\\n10년의선택\\\\n\\\\n이한울 기자\\\\n\\\\n제약바이오\\\\n\\\\n최중혁 기자\\\\n\\\\n보험\\\\n\\\\n백민재 기자\\\\n\\\\n게임/IT/플랫폼\\\\n\\\\n황보람 기자\\\\n\\\\n은행\\\\n\\\\n손기호 기자\\\\n\\\\n건설\\\\n\\\\n서효림 기자\\\\n\\\\n철강/중공업/조선\\\\n\\\\n이한울 기자\\\\n\\\\n제약바이오\\\\n\\\\n최중혁 기자\\\\n\\\\n은행\\\\n\\\\n댓글 많은 기사\\\\n\\\\n반경림 기자\\\\n\\\\nBTS NEWS\\\\n\\\\n전지현 기자\\\\n\\\\n생활용품\\\\n\\\\n최중혁 기자\\\\n\\\\n보험\\\\n\\\\n반경림 기자\\\\n\\\\nBTS NEWS\\\\n\\\\n반경림 기자\\\\n\\\\nBTS NEWS\\\\n\\\\n반경림 기자\\\\n\\\\nBTS NEWS\\\\n\\\\n반경림 기자\\\\n\\\\nBTS NEWS\\\\n\\\\n반경림 기자\\\\n\\\\nBTS NEWS\\\\n\\\\n김성준\\\\n\\\\n유통\\\\n\\\\n반경림 기자\\\\n\\\\nBTS NEWS\\\\n\\\\n\\\\n\\\\n\\\\n\\\\n(주) 뷰어스\\\\r\\\\n서울특별시 여의도동 국제금융로8길 27-9\\xa0동북빌딩 703호\\xa0| 대표전화 : 02-6483-0021~3\\\\r\\\\n인터넷신문 등록번호 서울 아 03804 | 등록일 2015-07-02 | 발행일 2015-07-02 | 발행인 문형민 | 편집인 문형민\\xa0| 청소년보호책임자 홍승훈\\\\r\\\\n모든 콘텐츠(영상,기사, 사진)는 저작권법의 보호를 받은바, 무단 전재와 복사, 배포 등을 금합니다.\\\\r\\\\nCopyright © 2021 . All rights reserved. mail to mhyung13@viewers.co.kr\\\\n\\\\n\"}, {\"title\": \"Sk C&C, 채용연계형 \\'스칼라\\' 1기 교육생 모집 - 연합뉴스\", \"url\": \"https://www.yna.co.kr/view/AKR20241211142700017\", \"content\": \"(서울=연합뉴스) 김경희 기자 = SK C&C는 12일 고용노동부가 주관하는 \\'K-디지털 트레이닝 아카데미\\' 프로그램에 참여, 인공지능 (AI)과 디지털 전환에 특화된 스칼라 (SKALA) 1기 교육생을 모집한다고 밝혔다. K-디지털 트레이닝은 고용노동부가 추진하는 디지털 인재 양성 프로그램으로, AI를 비롯해\", \"score\": 0.8127637, \"raw_content\": \"SK C&C, 채용연계형 \\'스칼라\\' 1기 교육생 모집\\\\n\\\\n송고2024-12-12 08:30\\\\n\\\\n송고 2024년12월12일 08시30분\\\\n\\\\nSK C&amp;C는 12일 고용노동부가 주관하는 \\'K-디지털 트레이닝 아카데미\\' 프로그램에 참여, 인공지능과 디지털 전환에 특화된 스칼라 1기 교육생을 모집한다고 밝혔다.\\\\n\\\\nK-디지털 트레이닝은 고용노동부가 추진하는 디지털 인재 양성 프로그램으로, AI를 비롯해 클라우드, 반도체, 로봇 등 첨단 분야에서 양질의 교육을 제공하는 것이 목표다.\\\\n\\\\nSK C&amp;C는 해당 사업 AI 분야 교육기관으로 선정돼 실무 중심의 AI 특화 교육 과정을 선보인다.\\\\n\\\\n[SK C&C 제공]\\\\n\\\\n\\\\n\\\\n(서울=연합뉴스) 김경희 기자 = SK C&C는 12일 고용노동부가 주관하는 \\'K-디지털 트레이닝 아카데미\\' 프로그램에 참여, 인공지능(AI)과 디지털 전환에 특화된 스칼라(SKALA) 1기 교육생을 모집한다고 밝혔다.\\\\n\\\\nK-디지털 트레이닝은 고용노동부가 추진하는 디지털 인재 양성 프로그램으로, AI를 비롯해 클라우드, 반도체, 로봇 등 첨단 분야에서 양질의 교육을 제공하는 것이 목표다.\\\\n\\\\nSK C&C는 해당 사업 AI 분야 교육기관으로 선정돼 실무 중심의 AI 특화 교육 과정을 선보인다.\\\\n\\\\n스칼라 프로그램은 프로그래밍, 생성형 AI, 데이터 분석, 머신러닝, 클라우드 등 디지털 실무 맞춤형 커리큘럼으로 구성되며 프로젝트 현장에서 바로 활용 가능한 실습 위주 교육으로 진행될 예정이다.\\\\n\\\\n우수 교육생에게는 SK C&C와 자회사 입사 기회가 제공된다.\\\\n\\\\n1기 교육생으로는 전공 제한 없이 국내외 대학 및 대학원 졸업자 혹은 졸업예정자를 대상으로 90명 내외를 선발할 계획이다.\\\\n\\\\n지원은 25일까지 스칼라 웹사이트(www.skala.co.kr)에서 받는다.\\\\n\\\\n김민환 담당은 \\\\\"스칼라 프로그램은 정부와 협력해 인재 양성을 목표로 하는 중요한 첫걸음\\\\\"이라며 \\\\\"국가 디지털 혁신에 기여할 인재 육성을 위해 지속적으로 노력하겠다\\\\\"고 밝혔다.\\\\n\\\\nkyunghee@yna.co.kr\\\\n\\\\n제보는 카카오톡 okjebo\\\\n\\\\n<저작권자(c) 연합뉴스,\\\\n무단 전재-재배포, AI 학습 및 활용 금지>\\\\n\\\\n2024/12/12 08:30 송고\\\\n2024년12월12일 08시30분 송고\\\\n\\\\n핫뉴스\\\\n\\\\n에디터스 픽Editor\\'s Picks\\\\n\\\\n영상\\\\n\\\\n뉴스\\\\n\\\\n오래 머문 뉴스\\\\n\\\\n랭킹뉴스\\\\n\\\\n다양한 채널에서 연합뉴스를 만나보세요!\\\\n\\\\n다양한 채널에서 연합뉴스를 만나보세요!\\\\n\\\\n©2025 Yonhapnews Agency\\\\n\\\\n[SK C&C 제공]\\\\n\\\\n\"}, {\"title\": \"Sk C&C, 채용연계형 \\'Skala (스칼라)\\' 1기 교육생 모집 - 조세일보\", \"url\": \"https://www.joseilbo.com/news/htmls/2024/12/20241213532394.html\", \"content\": \"SK C&C (대표 윤풍영)는 고용노동부가 주관하는 \\'K-디지털 트레이닝 아카데미\\' 프로그램에 참여해 AI·DX에 특화된 \\'SKALA (SK C&C AI Leader Academy)\\' 1기 교육생을 모집한다고 12일 밝혔다.\", \"score\": 0.7680558, \"raw_content\": null}]' name='tavily_web_search' id='5d06f491-beea-448f-a649-4c027d4309da' tool_call_id='call_adsWhO46CjOq52Xt8EndJrzW'\n",
      "\n",
      "==============\n",
      "STEP: messages\n",
      "==============\n",
      "\n",
      "content='**SKALA (SK C&C AI Leader Academy)**는 SK C&C에서 진행하는 채용연계형 교육 프로그램으로, AI 서비스 개발에 필요한 지식과 경험을 제공하는 과정입니다. 이 프로그램은 약 5개월 동안 진행되며, SW, 데이터, AI 교육 및 팀 프로젝트를 포함합니다. 교육을 이수한 후에는 SK C&C 및 자회사에 대한 특별 전형이 제공되어 서류 전형이 면제됩니다.\\n\\n### 주요 내용:\\n- **교육 기간**: 약 5개월\\n- **교육 내용**: \\n  - SW 기초 (프론트엔드, 백엔드, 데이터베이스 등)\\n  - 데이터 및 AI (Python, 머신러닝, 딥러닝 등)\\n  - AI 팀 프로젝트\\n  - 특강 (IT 업계 트렌드 등)\\n- **지원 자격**: 국내외 대학(원) 졸업자 또는 졸업 예정자, 프로그래밍에 대한 열정이 있는 비전공자도 지원 가능\\n- **혜택**: 교육비 전액 무료, 훈련장려금, 수료 시 장학금 지급, 교육용 노트북 제공 등\\n\\n### 지원 방법:\\n- 지원은 SKALA 웹사이트를 통해 가능하며, 지원 마감일은 12월 25일입니다.\\n\\n자세한 정보는 [SKALA 공식 웹사이트](https://skala.co.kr/)를 방문하시거나, 관련 뉴스 기사를 통해 확인할 수 있습니다.' additional_kwargs={'refusal': None} response_metadata={'token_usage': {'completion_tokens': 318, 'prompt_tokens': 8576, 'total_tokens': 8894, 'completion_tokens_details': {'accepted_prediction_tokens': 0, 'audio_tokens': 0, 'reasoning_tokens': 0, 'rejected_prediction_tokens': 0}, 'prompt_tokens_details': {'audio_tokens': 0, 'cached_tokens': 0}}, 'model_name': 'gpt-4o-mini-2024-07-18', 'system_fingerprint': 'fp_b376dfbbd5', 'finish_reason': 'stop', 'logprobs': None} id='run-45626633-7788-4c32-a856-96380126ab67-0' usage_metadata={'input_tokens': 8576, 'output_tokens': 318, 'total_tokens': 8894, 'input_token_details': {'audio': 0, 'cache_read': 0}, 'output_token_details': {'audio': 0, 'reasoning': 0}}\n"
     ]
    }
   ],
   "source": [
    "inputs = {\"messages\": \"SKC&C에서 진행하는 SKALA에 대해서 검색해 주세요\"}\n",
    "\n",
    "for event in graph.stream(inputs, stream_mode=\"values\"):\n",
    "    for key, value in event.items():\n",
    "        print(f\"\\n==============\\nSTEP: {key}\\n==============\\n\")\n",
    "        print(value[-1])"
   ]
  },
  {
   "cell_type": "markdown",
   "metadata": {},
   "source": [
    "## LangSmith Trace"
   ]
  },
  {
   "cell_type": "markdown",
   "metadata": {},
   "source": [
    "-----\n",
    "** End of Documents **"
   ]
  }
 ],
 "metadata": {
  "kernelspec": {
   "display_name": "langchain-kr-t0JhnSEV-py3.11",
   "language": "python",
   "name": "python3"
  },
  "language_info": {
   "codemirror_mode": {
    "name": "ipython",
    "version": 3
   },
   "file_extension": ".py",
   "mimetype": "text/x-python",
   "name": "python",
   "nbconvert_exporter": "python",
   "pygments_lexer": "ipython3",
   "version": "3.11.9"
  }
 },
 "nbformat": 4,
 "nbformat_minor": 2
}
