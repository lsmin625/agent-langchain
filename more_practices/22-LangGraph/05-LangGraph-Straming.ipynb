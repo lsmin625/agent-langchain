{
 "cells": [
  {
   "cell_type": "code",
   "execution_count": 1,
   "metadata": {},
   "outputs": [
    {
     "data": {
      "text/plain": [
       "True"
      ]
     },
     "execution_count": 1,
     "metadata": {},
     "output_type": "execute_result"
    }
   ],
   "source": [
    "# API KEY Loading\n",
    "from dotenv import load_dotenv\n",
    "\n",
    "load_dotenv()"
   ]
  },
  {
   "cell_type": "code",
   "execution_count": 2,
   "metadata": {},
   "outputs": [
    {
     "name": "stdout",
     "output_type": "stream",
     "text": [
      "LangSmith 추적을 시작합니다.\n",
      "[프로젝트명]\n",
      "CH21-LangGraph\n"
     ]
    }
   ],
   "source": [
    "from langchain_teddynote import logging\n",
    "\n",
    "logging.langsmith(\"CH21-LangGraph\")"
   ]
  },
  {
   "cell_type": "markdown",
   "metadata": {},
   "source": [
    "# LangGraph Streaming"
   ]
  },
  {
   "cell_type": "code",
   "execution_count": 3,
   "metadata": {},
   "outputs": [],
   "source": [
    "from typing import Annotated, List, Dict\n",
    "from typing_extensions import TypedDict\n",
    "\n",
    "from langchain_core.tools import tool\n",
    "from langchain_openai import ChatOpenAI\n",
    "from langgraph.checkpoint.memory import MemorySaver\n",
    "from langgraph.graph import StateGraph, START, END\n",
    "from langgraph.graph.message import add_messages\n",
    "from langgraph.prebuilt import ToolNode, tools_condition\n",
    "from langchain_teddynote.graphs import visualize_graph\n",
    "from langchain_teddynote.tools import GoogleNews"
   ]
  },
  {
   "cell_type": "code",
   "execution_count": 4,
   "metadata": {},
   "outputs": [
    {
     "data": {
      "image/png": "[encoded data removed]",
      "text/plain": [
       "<IPython.core.display.Image object>"
      ]
     },
     "metadata": {},
     "output_type": "display_data"
    }
   ],
   "source": [
    "########## 1. State ##########\n",
    "class State(TypedDict):\n",
    "    messages: Annotated[list, add_messages]\n",
    "    dummy_date: Annotated[str, \"dummy\"]\n",
    "\n",
    "\n",
    "########## 2. TOOLS ##########\n",
    "# 도구 초기화\n",
    "news_tool = GoogleNews()\n",
    "\n",
    "# 키워드 뉴스 검색 도구 생성\n",
    "@tool\n",
    "def search_keyword(query: str) -> List[Dict[str, str]]:\n",
    "    \"\"\"Look up news by keyword\"\"\"\n",
    "    news_tool = GoogleNews()\n",
    "    return news_tool.search_by_keyword(query, k=5)\n",
    "\n",
    "tools = [search_keyword]\n",
    "\n",
    "# LLM 초기화\n",
    "llm = ChatOpenAI(model=\"gpt-4o-mini\", temperature=0)\n",
    "\n",
    "# LLM + 도구 \n",
    "llm_with_tools = llm.bind_tools(tools)\n",
    "\n",
    "\n",
    "########## 3. NODE ##########\n",
    "# 챗봇 함수 정의\n",
    "def chatbot(state: State):\n",
    "    return {\n",
    "        \"messages\": [llm_with_tools.invoke(state[\"messages\"])],\n",
    "        \"dummy_data\": \"[chatbot] 호출, dummy data\",  # 테스트를 위하여 더미 데이터를 추가\n",
    "    }\n",
    "\n",
    "\n",
    "# Graph\n",
    "graph_builder = StateGraph(State)\n",
    "graph_builder.add_node(\"chatbot\", chatbot)\n",
    "\n",
    "# 도구 노드 생성 및 추가\n",
    "tool_node = ToolNode(tools=tools)\n",
    "graph_builder.add_node(\"tools\", tool_node)\n",
    "\n",
    "# Conditional Edge\n",
    "graph_builder.add_conditional_edges(\n",
    "    \"chatbot\",\n",
    "    tools_condition,\n",
    ")\n",
    "\n",
    "\n",
    "########## 4. EDGE ##########\n",
    "graph_builder.add_edge(\"tools\", \"chatbot\")\n",
    "graph_builder.add_edge(START, \"chatbot\")\n",
    "graph_builder.add_edge(\"chatbot\", END)\n",
    "\n",
    "\n",
    "########## 5. COMPILE ##########\n",
    "graph = graph_builder.compile()\n",
    "\n",
    "\n",
    "########## 6. VISUALIZE ##########\n",
    "visualize_graph(graph)"
   ]
  },
  {
   "cell_type": "markdown",
   "metadata": {},
   "source": [
    "## StateGraph의 `stream` 메서드\n",
    "\n",
    "개요\n",
    "- 에이전트의 실행 과정을 스트리밍 방식으로 추적하거나, \n",
    "- 외부에서 실시간으로 결과를 처리하고자 할 때 사용하는 메서드 \n",
    "- `stream()`은 중간 노드의 실행 결과나 상태 전이를 순차적으로 받을 수 있음 \n",
    "\n",
    "주요 기능\n",
    "1. 입력된 설정에 따라 그래프 실행을 스트리밍 방식으로 처리\n",
    "2. 다양한 스트리밍 모드 지원 (`values`, `updates`, `debug`)\n",
    "3. 콜백 관리 및 오류 처리\n",
    "4. 재귀 제한 및 중단 조건 처리\n",
    "\n",
    "스트리밍 모드\n",
    "- `values`: 각 단계의 현재 상태 값 출력\n",
    "- `updates`: 각 단계의 상태 업데이트만 출력\n",
    "- `debug`: 각 단계의 디버그 이벤트 출력\n",
    "\n",
    "매개변수\n",
    "- `input` (Union[dict[str, Any], Any]): 그래프에 대한 입력\n",
    "- `config` (Optional[RunnableConfig]): 실행 구성\n",
    "- `stream_mode` (Optional[Union[StreamMode, list[StreamMode]]]): 출력 스트리밍 모드\n",
    "- `output_keys` (Optional[Union[str, Sequence[str]]]): 스트리밍할 키\n",
    "- `interrupt_before` (Optional[Union[All, Sequence[str]]]): 실행 전에 중단할 노드\n",
    "- `interrupt_after` (Optional[Union[All, Sequence[str]]]): 실행 후에 중단할 노드\n",
    "- `debug` (Optional[bool]): 디버그 정보 출력 여부\n",
    "- `subgraphs` (bool): 하위 그래프 스트리밍 여부\n",
    "\n",
    "반환값\n",
    "- Iterator[Union[dict[str, Any], Any]]: 그래프의 각 단계 출력. 출력 형태는 `stream_mode`에 따라 다름"
   ]
  },
  {
   "cell_type": "code",
   "execution_count": 5,
   "metadata": {},
   "outputs": [],
   "source": [
    "from langchain_core.runnables import RunnableConfig"
   ]
  },
  {
   "cell_type": "code",
   "execution_count": null,
   "metadata": {},
   "outputs": [],
   "source": [
    "# 질문\n",
    "question = \"2024년 노벨 문학상 관련 뉴스를 알려주세요.\"\n",
    "\n",
    "# 초기 입력 상태를 정의\n",
    "input = State(dummy_data=\"테스트 문자열\", messages=[(\"user\", question)])\n",
    "\n",
    "# config 설정\n",
    "config = RunnableConfig(\n",
    "    recursion_limit=10,  \n",
    "    configurable={\"thread_id\": \"001\"},  \n",
    "    tags=[\"MY-TAG\"],  # 디버깅, 로딩, 대시보드 분석 시 유용 \n",
    ")"
   ]
  },
  {
   "cell_type": "code",
   "execution_count": 7,
   "metadata": {},
   "outputs": [
    {
     "name": "stdout",
     "output_type": "stream",
     "text": [
      "\n",
      "[ chatbot ]\n",
      "\n",
      "==================================\u001b[1m Ai Message \u001b[0m==================================\n",
      "Tool Calls:\n",
      "  search_keyword (call_0YJiw18W2LW7D8QGsIDx6bU9)\n",
      " Call ID: call_0YJiw18W2LW7D8QGsIDx6bU9\n",
      "  Args:\n",
      "    query: 2024 노벨 문학상\n",
      "\n",
      "[ tools ]\n",
      "\n",
      "=================================\u001b[1m Tool Message \u001b[0m=================================\n",
      "Name: search_keyword\n",
      "\n",
      "[{\"url\": \"https://news.google.com/rss/articles/CBMiaEFVX3lxTE4xVV96b1c5cjZNWHl5VFd3aGZkcDNoSDN0Vmp6a3RNVVl2VG1FOW96RTFOUnpBYkR2OEx3VGRsS3RaQTdvQ3FkcmFRQmd5UmtMd1labGFQS2J6YmpKZ1p4S2xXTUVXQjVS0gFsQVVfeXFMTlctOUd6VTVQRXF6dWpTNnJ2S1d1dndJdGFGN2I1Yjl1bEhVNU03UmpSNUtONFZZZ045bmNZMGgxX3NlQjJydGwzUnpwamR6V0hSTWVFbEVKWVA5b3JxQ1NQWmNfVXRhR1AyZ2lG?oc=5\", \"content\": \"2024 노벨문학상의 주인공, ‘한강’의 대표 문장 6 - Den\"}, {\"url\": \"https://news.google.com/rss/articles/CBMiiAFBVV95cUxOMUN3S3VjUW5tSlZYVWNQS0ZTbEoyY1RFbkhiQlQzZUp0MTVoaGNQdzdVLURQckVlVWlJWGVwbmxZcFJIeGNDaDN3UDRJbzA1aElDWkZwUXNjWFY0T2hTaTQ4NjRiRm9neTFPdDlCNkZRblVFNDZXeVBTTzh0RWRoWHN6Q0s3bnN6?oc=5\", \"content\": \"`노벨문학상` 한강 \\\"파면은 보편적 가치 지키는 일\\\"… 작가 414인 성명 참여 - 국제신문\"}, {\"url\": \"https://news.google.com/rss/articles/CBMiU0FVX3lxTE4xek1JbEJyUW5ENzAxTGJ2OFhxcG1zTjBCYU1hX082eXFCYkxianFVMzRNM2wxd21GR294VHhfMDE2T3NfVWZlbHFPbHBpaThrSjdr?oc=5\", \"content\": \"노벨문학상 한강 등, 윤석열 파면 촉구한 414인의 작가들…\\\"탄핵은 정의, 파면은 시\\\" - 네이트 뉴스\"}, {\"url\": \"https://news.google.com/rss/articles/CBMiW0FVX3lxTE5CbDJEWU1nZUxVTkZmS3lHTTRycEVPZ2lpRUFPYVlwVVYwbGNKaTdnbWpkS25wY2tZU1pEa0JkZFltQnNRX05teHp5WWd4VXpWbFl3TTNNQVpqZzjSAWBBVV95cUxPTU01d0ZUbWtnX1p6S2FZOFJiZGQwcGYzZWRvZFFIOTlxOUR2SGdaejFqdEI3enVCLXRDc2o5YTVnUUdic1lrNVg5SS1adlBhUUx0MHRZaXVlMk43cGF5WXI?oc=5\", \"content\": \"한강, 한국 첫 노벨문학상…\\\"어두운 밤에도 우릴 잇는 건 언어\\\"(종합2보) - 연합뉴스\"}, {\"url\": \"https://news.google.com/rss/articles/CBMibEFVX3lxTE50WjlaX0JQbEZNekh4ajNrMmR4YkFvSWQxdFlUa2F6c3pyOVh1LWN5MTZRbHpfdlZyZHcxTW1NRi1JUDJ0NnFiLWVEdEJocV9nSTFKakZ6UVZJVXg4VEUzRU91d0hQWXExc016Q9IBcEFVX3lxTE8wMDUxRFZ4Z19zYng5WGRvZ0o3bGFKeGhFa09tSDlWclNEcTQ4ZlBuRi0wX3Yyc1F2RlNkd3gyMG8zTzMxeU54d1RlTUV6NklnQTZJRGNVVzVBS2ZjZzN5S0g0blA2RGFhZFVrR0tSV0I?oc=5\", \"content\": \"2024 노벨문학상 수상자 한강, 대표작으로 본 문학 여정 - 전기신문\"}]\n",
      "\n",
      "[ chatbot ]\n",
      "\n",
      "==================================\u001b[1m Ai Message \u001b[0m==================================\n",
      "\n",
      "2024년 노벨 문학상과 관련된 최근 뉴스는 다음과 같습니다:\n",
      "\n",
      "1. **한강의 대표 문장**: [2024 노벨문학상의 주인공, ‘한강’의 대표 문장 6 - Den](https://news.google.com/rss/articles/CBMiaEFVX3lxTE4xVV96b1c5cjZNWHl5VFd3aGZkcDNoSDN0Vmp6a3RNVVl2VG1FOW96RTFOUnpBYkR2OEx3VGRsS3RaQTdvQ3FkcmFRQmd5UmtMd1labGFQS2J6YmpKZ1p4S2xXTUVXQjVS0gFsQVVfeXFMTlctOUd6VTVQRXF6dWpTNnJ2S1d1dndJdGFGN2I1Yjl1bEhVNU03UmpSNUtONFZZZ045bmNZMGgxX3NlQjJydGwzUnpwamR6V0hSTWVFbEVKWVA5b3JxQ1NQWmNfVXRhR1AyZ2lG?oc=5)\n",
      "\n",
      "2. **작가 414인의 성명**: [노벨문학상 한강 \"파면은 보편적 가치 지키는 일\"… 작가 414인 성명 참여 - 국제신문](https://news.google.com/rss/articles/CBMiiAFBVV95cUxOMUN3S3VjUW5tSlZYVWNQS0ZTbEoyY1RFbkhiQlQzZUp0MTVoaGNQdzdVLURQckVlVWlJWGVwbmxZcFJIeGNDaDN3UDRJbzA1aElDWkZwUXNjWFY0T2hTaTQ4NjRiRm9neTFPdDlCNkZRblVFNDZXeVBTTzh0RWRoWHN6Q0s3bnN6?oc=5)\n",
      "\n",
      "3. **탄핵과 정의**: [노벨문학상 한강 등, 윤석열 파면 촉구한 414인의 작가들… \"탄핵은 정의, 파면은 시\" - 네이트 뉴스](https://news.google.com/rss/articles/CBMiU0FVX3lxTE4xek1JbEJyUW5ENzAxTGJ2OFhxcG1zTjBCYU1hX082eXFCYkxianFVMzRNM2wxd21GR294VHhfMDE2T3NfVWZlbHFPbHBpaThrSjdr?oc=5)\n",
      "\n",
      "4. **한국 첫 노벨문학상**: [한강, 한국 첫 노벨문학상… \"어두운 밤에도 우릴 잇는 건 언어\" - 연합뉴스](https://news.google.com/rss/articles/CBMiW0FVX3lxTE5CbDJEWU1nZUxVTkZmS3lHTTRycEVPZ2lpRUFPYVlwVVYwbGNKaTdnbWpkS25wY2tZU1pEa0JkZFltQnNRX05teHp5WWd4VXpWbFl3TTNNQVpqZzjSAWBBVV95cUxPTU01d0ZUbWtnX1p6S2FZOFJiZGQwcGYzZWRvZFFIOTlxOUR2SGdaejFqdEI3enVCLXRDc2o5YTVnUUdic1lrNVg5SS1adlBhUUx0MHRZaXVlMk43cGF5WXI?oc=5)\n",
      "\n",
      "5. **문학 여정**: [2024 노벨문학상 수상자 한강, 대표작으로 본 문학 여정 - 전기신문](https://news.google.com/rss/articles/CBMibEFVX3lxTE50WjlaX0JQbEZNekh4ajNrMmR4YkFvSWQxdFlUa2F6c3pyOVh1LWN5MTZRbHpfdlZyZHcxTW1NRi1JUDJ0NnFiLWVEdEJocV9nSTFKakZ6UVZJVXg4VEUzRU91d0hQWXExc016Q9IBcEFVX3lxTE8wMDUxRFZ4Z19zYng5WGRvZ0o3bGFKeGhFa09tSDlWclNEcTQ4ZlBuRi0wX3Yyc1F2RlNkd3gyMG8zTzMxeU54d1RlTUV6NklnQTZJRGNVVzVBS2ZjZzN5S0g0blA2RGFhZFVrR0tSV0I?oc=5)\n",
      "\n",
      "이 뉴스들은 한강 작가가 2024년 노벨 문학상을 수상한 것과 관련된 다양한 반응과 의견을 다루고 있습니다.\n"
     ]
    }
   ],
   "source": [
    "for event in graph.stream(input=input, config=config):\n",
    "    for key, value in event.items():\n",
    "        print(f\"\\n[ {key} ]\\n\")\n",
    "\n",
    "        if \"messages\" in value:\n",
    "            messages = value[\"messages\"]\n",
    "            value[\"messages\"][-1].pretty_print() # 가장 최근 메시지 1개만 출력"
   ]
  },
  {
   "cell_type": "markdown",
   "metadata": {},
   "source": [
    "### `output_keys`\n",
    "\n",
    "- `output_keys` : 스트리밍할 키를 지정하는 데 사용\n",
    "- list 형식으로 지정할 수 있으며, channels 에 정의된 키 중 하나\n",
    "- 매 단계마다 출력되는 State key 가 많은 경우, 일부만 스트리밍하고 싶은 경우에 유용"
   ]
  },
  {
   "cell_type": "code",
   "execution_count": 8,
   "metadata": {},
   "outputs": [
    {
     "name": "stdout",
     "output_type": "stream",
     "text": [
      "['messages', 'dummy_date', '__start__', 'chatbot', 'tools', 'branch:__start__:__self__:chatbot', 'branch:__start__:__self__:tools', 'branch:chatbot:__self__:chatbot', 'branch:chatbot:__self__:tools', 'branch:tools:__self__:chatbot', 'branch:tools:__self__:tools', 'start:chatbot', 'branch:chatbot:tools_condition:tools']\n"
     ]
    }
   ],
   "source": [
    "# channels 에 정의된 키 목록 출력\n",
    "print(list(graph.channels.keys()))"
   ]
  },
  {
   "cell_type": "code",
   "execution_count": 10,
   "metadata": {},
   "outputs": [],
   "source": [
    "# 질문\n",
    "question = \"2024년 노벨 문학상 관련 뉴스를 알려주세요.\"\n",
    "\n",
    "# 초기 입력 State 를 정의\n",
    "input = State(dummy_data=\"테스트 문자열\", messages=[(\"user\", question)])\n",
    "\n",
    "# config 설정\n",
    "config = RunnableConfig(\n",
    "    recursion_limit=10,  \n",
    "    configurable={\"thread_id\": \"001\"}, \n",
    "    tags=[\"MY-TAG\"],  \n",
    ")"
   ]
  },
  {
   "cell_type": "code",
   "execution_count": 12,
   "metadata": {},
   "outputs": [
    {
     "name": "stdout",
     "output_type": "stream",
     "text": [
      "\n",
      "[ chatbot ]\n",
      "\n",
      "dict_keys(['messages'])\n",
      "\n",
      "[ tools ]\n",
      "\n",
      "dict_keys(['messages'])\n",
      "\n",
      "[ chatbot ]\n",
      "\n",
      "dict_keys(['messages'])\n"
     ]
    }
   ],
   "source": [
    "for event in graph.stream(\n",
    "    input=input,\n",
    "    config=config,\n",
    "    output_keys=[\"messages\"],\n",
    "):\n",
    "    for key, value in event.items():\n",
    "        print(f\"\\n[ {key} ]\\n\") # key는 노드 이름\n",
    "\n",
    "        # dummy_data 가 존재하는 경우\n",
    "        if value:\n",
    "            print(value.keys())\n",
    "            \n",
    "            if \"dummy_data\" in value:\n",
    "                print(value[\"dummy_data\"])"
   ]
  },
  {
   "cell_type": "markdown",
   "metadata": {},
   "source": [
    "### `stream_mode` \n",
    "\n",
    "- `values`: 각 단계의 현재 상태 값 출력 \n",
    "- `updates`: 각 단계의 상태 업데이트만 출력 (기본값)"
   ]
  },
  {
   "cell_type": "code",
   "execution_count": null,
   "metadata": {},
   "outputs": [
    {
     "name": "stdout",
     "output_type": "stream",
     "text": [
      "\n",
      "[ messages ]\n",
      "\n",
      "메시지 개수: 1\n",
      "==============================  단계  ==============================\n",
      "\n",
      "[ messages ]\n",
      "\n",
      "메시지 개수: 2\n",
      "==============================  단계  ==============================\n",
      "\n",
      "[ messages ]\n",
      "\n",
      "메시지 개수: 3\n",
      "==============================  단계  ==============================\n",
      "\n",
      "[ messages ]\n",
      "\n",
      "메시지 개수: 4\n",
      "==============================  단계  ==============================\n"
     ]
    }
   ],
   "source": [
    "question = \"2024년 노벨 문학상 관련 뉴스를 알려주세요.\"\n",
    "input = State(dummy_data=\"테스트 문자열\", messages=[(\"user\", question)])\n",
    "\n",
    "config = RunnableConfig(\n",
    "    recursion_limit=10, \n",
    "    configurable={\"thread_id\": \"001\"},  \n",
    "    tags=[\"MY-TAG\"], \n",
    ")\n",
    "\n",
    "# values 모드로 스트리밍 출력\n",
    "for event in graph.stream(\n",
    "    input=input,\n",
    "    stream_mode=\"values\",  # default\n",
    "):\n",
    "    for key, value in event.items():\n",
    "        # key 는 state 의 key 값\n",
    "        print(f\"\\n[ {key} ]\\n\")\n",
    "        if key == \"messages\":\n",
    "            print(f\"메시지 개수: {len(value)}\")\n",
    "            # print(value)\n",
    "    print(\"===\" * 10, \" 단계 \", \"===\" * 10)"
   ]
  },
  {
   "cell_type": "markdown",
   "metadata": {},
   "source": [
    "#### `stream_mode = \"updates\"`\n",
    "\n",
    "- `updates` 모드는 각 단계에 대한 업데이트된 State 만 내보냄\n",
    "- 출력은 노드 이름을 key 로, 업데이트된 값을 values 으로 하는 `dictionary` \n",
    "\n",
    "`event.items()`\n",
    "- `key`: 노드(Node) 의 이름\n",
    "- `value`: 해당 노드(Node) 단계에서의 출력 값(dictionary). 즉, 여러 개의 key-value 쌍을 가진 dictionary 입니다."
   ]
  },
  {
   "cell_type": "code",
   "execution_count": null,
   "metadata": {},
   "outputs": [
    {
     "name": "stdout",
     "output_type": "stream",
     "text": [
      "\n",
      "[ chatbot ]\n",
      "\n",
      "dict_keys(['messages'])\n",
      "메시지 개수: 1\n",
      "==============================  단계  ==============================\n",
      "\n",
      "[ tools ]\n",
      "\n",
      "dict_keys(['messages'])\n",
      "메시지 개수: 1\n",
      "==============================  단계  ==============================\n",
      "\n",
      "[ chatbot ]\n",
      "\n",
      "dict_keys(['messages'])\n",
      "메시지 개수: 1\n",
      "==============================  단계  ==============================\n"
     ]
    }
   ],
   "source": [
    "question = \"2024년 노벨 문학상 관련 뉴스를 알려주세요.\"\n",
    "input = State(dummy_data=\"테스트 문자열\", messages=[(\"user\", question)])\n",
    "\n",
    "config = RunnableConfig(\n",
    "    recursion_limit=10,  \n",
    "    configurable={\"thread_id\": \"0011\"},\n",
    "    tags=[\"MY-TAG\"], \n",
    ")\n",
    "\n",
    "# updates 모드로 스트리밍 출력\n",
    "for event in graph.stream(\n",
    "    input=input,\n",
    "    stream_mode=\"updates\",  # default\n",
    "):\n",
    "    for key, value in event.items():\n",
    "        print(f\"\\n[ {key} ]\\n\") # key 는 노드 이름\n",
    "        print(value.keys()) # value 는 노드의 출력값\n",
    "\n",
    "        # value 에는 state 가 dict 형태로 저장(values 의 key 값)\n",
    "        if \"messages\" in value:\n",
    "            print(f\"메시지 개수: {len(value['messages'])}\")\n",
    "            # print(value[\"messages\"])\n",
    "    print(\"===\" * 10, \" 단계 \", \"===\" * 10)"
   ]
  },
  {
   "cell_type": "markdown",
   "metadata": {},
   "source": [
    "### `interrupt_before`, `interrupt_after`\n",
    "\n",
    "- `interrupt_before`: 지정된 노드 이전에 스트리밍 중단\n",
    "- `interrupt_after`: 지정된 노드 이후에 스트리밍 중단"
   ]
  },
  {
   "cell_type": "code",
   "execution_count": 15,
   "metadata": {},
   "outputs": [
    {
     "name": "stdout",
     "output_type": "stream",
     "text": [
      "\n",
      "[chatbot]\n",
      "\n",
      "dict_keys(['messages'])\n",
      "[AIMessage(content='', additional_kwargs={'tool_calls': [{'id': 'call_ZurbBsMkbL4ZMmtg8OJEwtIR', 'function': {'arguments': '{\"query\":\"2024 Nobel Prize in Literature\"}', 'name': 'search_keyword'}, 'type': 'function'}], 'refusal': None}, response_metadata={'token_usage': {'completion_tokens': 20, 'prompt_tokens': 57, 'total_tokens': 77, 'completion_tokens_details': {'accepted_prediction_tokens': 0, 'audio_tokens': 0, 'reasoning_tokens': 0, 'rejected_prediction_tokens': 0}, 'prompt_tokens_details': {'audio_tokens': 0, 'cached_tokens': 0}}, 'model_name': 'gpt-4o-mini-2024-07-18', 'system_fingerprint': 'fp_b376dfbbd5', 'finish_reason': 'tool_calls', 'logprobs': None}, id='run-d5ab708c-e416-41c5-972b-28284294c021-0', tool_calls=[{'name': 'search_keyword', 'args': {'query': '2024 Nobel Prize in Literature'}, 'id': 'call_ZurbBsMkbL4ZMmtg8OJEwtIR', 'type': 'tool_call'}], usage_metadata={'input_tokens': 57, 'output_tokens': 20, 'total_tokens': 77, 'input_token_details': {'audio': 0, 'cache_read': 0}, 'output_token_details': {'audio': 0, 'reasoning': 0}})]\n",
      "메시지 개수: 1\n",
      "==============================  단계  ==============================\n",
      "\n",
      "[__interrupt__]\n",
      "\n",
      "==============================  단계  ==============================\n"
     ]
    }
   ],
   "source": [
    "question = \"2024년 노벨 문학상 관련 뉴스를 알려주세요.\"\n",
    "input = State(dummy_data=\"테스트 문자열\", messages=[(\"user\", question)])\n",
    "\n",
    "config = RunnableConfig(\n",
    "    recursion_limit=10,  \n",
    "    configurable={\"thread_id\": \"0011\"},\n",
    "    tags=[\"MY-TAG\"], \n",
    ")\n",
    "\n",
    "\n",
    "for event in graph.stream(\n",
    "    input=input,\n",
    "    config=config,\n",
    "    stream_mode=\"updates\",  # default\n",
    "    interrupt_before=[\"tools\"],  # tools 노드 이전에 스트리밍 중단\n",
    "):\n",
    "    for key, value in event.items():\n",
    "        print(f\"\\n[{key}]\\n\")\n",
    "        if isinstance(value, dict):\n",
    "            print(value.keys())\n",
    "            if \"messages\" in value:\n",
    "                print(value[\"messages\"])\n",
    "\n",
    "        # value 에는 state 가 dict 형태로 저장(values 의 key 값)\n",
    "        if \"messages\" in value:\n",
    "            print(f\"메시지 개수: {len(value['messages'])}\")\n",
    "    print(\"===\" * 10, \" 단계 \", \"===\" * 10)"
   ]
  },
  {
   "cell_type": "code",
   "execution_count": 16,
   "metadata": {},
   "outputs": [
    {
     "name": "stdout",
     "output_type": "stream",
     "text": [
      "\n",
      "[__interrupt__]\n",
      "\n",
      "dict_keys(['messages'])\n",
      "[AIMessage(content='', additional_kwargs={'tool_calls': [{'id': 'call_9SVPuImNTs2IJybEur97OmYe', 'function': {'arguments': '{\"query\":\"2024 Nobel Prize in Literature\"}', 'name': 'search_keyword'}, 'type': 'function'}], 'refusal': None}, response_metadata={'token_usage': {'completion_tokens': 20, 'prompt_tokens': 57, 'total_tokens': 77, 'completion_tokens_details': {'accepted_prediction_tokens': 0, 'audio_tokens': 0, 'reasoning_tokens': 0, 'rejected_prediction_tokens': 0}, 'prompt_tokens_details': {'audio_tokens': 0, 'cached_tokens': 0}}, 'model_name': 'gpt-4o-mini-2024-07-18', 'system_fingerprint': 'fp_b376dfbbd5', 'finish_reason': 'tool_calls', 'logprobs': None}, id='run-009e19ca-4781-4615-9d88-eb8a7524aed9-0', tool_calls=[{'name': 'search_keyword', 'args': {'query': '2024 Nobel Prize in Literature'}, 'id': 'call_9SVPuImNTs2IJybEur97OmYe', 'type': 'tool_call'}], usage_metadata={'input_tokens': 57, 'output_tokens': 20, 'total_tokens': 77, 'input_token_details': {'audio': 0, 'cache_read': 0}, 'output_token_details': {'audio': 0, 'reasoning': 0}})]\n",
      "메시지 개수: 1\n",
      "\n",
      "[__interrupt__]\n",
      "\n",
      "dict_keys(['messages'])\n",
      "[ToolMessage(content='[{\"url\": \"https://news.google.com/rss/articles/CBMiigFBVV95cUxNblM5bndNclA5Q0J2RW9NZ09XRTdyZ0ZhZ3diZUpodEU2WlhaVzFVZ3doZjI1ZEF6dGF5SnVQUVdCdF9tNUJnWjZ1LV8xTlNqT01xZmFaQ2NNNVdkM1RtR0ZCb0tDUzVZQk5oLVp1d1dpX2x2V2g4R3dKV0V3NVNvclRNa3VOSjIxWWc?oc=5\", \"content\": \"Nobel Prize in Literature 2024 - NobelPrize.org\"}, {\"url\": \"https://news.google.com/rss/articles/CBMigwFBVV95cUxNRGxDMlZxRnFuS1ZxTW1JZmhyNFZlRUVzb2UzbWJYbkhUSTB1OTF0dU5BM2VEU25SNnlFejd4LXoxUjEtVmZrTm1sWTZyb2U4UXBUeXExOHVhVXduSXJ2LWt3ZGJUS0VLQ1N2U2dSNkw3elN4UjRnLXFzNDBkWWkyZjFFSQ?oc=5\", \"content\": \"한강 \\\\\"문학, 생명을 파괴하는 모든 행위에 반대하는 일\\\\\" - Korea.net\"}, {\"url\": \"https://news.google.com/rss/articles/CBMiV0FVX3lxTE56MVU1UVhhR0VudFJudXZfM2pSLUlaTGlPb1BIblZfMjd4S1NVU0F1UURZVGNJMmhkMFZzb0ZseFpuZk50UHdqWjByclp5NXpidE1rRFota9IBXEFVX3lxTFBuZEQ0YlZSV2ZPVkllUEJKVzdFQTROWDE2YjE2bEp0UTVheXJEV0NON285aVBxZjdtVjdyQkZJdjNtTl9TNWhGaTN0ZE83R1hkSUthUURKWGxZeFgz?oc=5\", \"content\": \"Han Kang’s poetic prose embraces wounds of martial law - 경향신문\"}, {\"url\": \"https://news.google.com/rss/articles/CBMiX0FVX3lxTE4weUo4UjItSU5KSHRJTTMzbTA3OGo3ZUJ4NnBaZm1kdVdYS1Btcl9oeUpSSU5pa0RKUHp6dV9VaU0ySWp3ckQzeXNVQXJYZnJldVFyblQ5QUFjY3dSRlZr?oc=5\", \"content\": \"Han Kang Wins Nobel Prize in Literature: A Moment of Honor - 미주 한국일보\"}, {\"url\": \"https://news.google.com/rss/articles/CBMidEFVX3lxTE5jd0IwTnpaQ1NkRjE1d3d2TjBkVk9JNFFuNVpSdVBDT2d0LV9RbmduYmVfZG5QNmthWHMtRUZ6OE9famxJdFBUZXpwMUcwelh3dWFuR2FmTmtpcl9QUEZOOUhiT3pDUWJDVk1RYlB4dVNhaHI40gFvQVVfeXFMTmRVU1hjQmx2ZF9jYXBXMEl3TG5KVjdXZnlObkEtOVpWUjZ3MmpEMGUzTWItbHdLWG5UTWNVeW0zZVlSaUhkWENPcUFIYmE1amszcFJHOVhEOHhDXzdrc2ZjNFZIVnNaclVxajNEMnEw?oc=5\", \"content\": \"S. Korean author Han Kang wins Nobel Prize for literature - K-VIBE\"}]', name='search_keyword', id='257d2bd2-d937-439f-b1a8-c97e5d4d4510', tool_call_id='call_9SVPuImNTs2IJybEur97OmYe')]\n",
      "메시지 개수: 1\n",
      "\n",
      "[__interrupt__]\n",
      "\n"
     ]
    }
   ],
   "source": [
    "question = \"2024년 노벨 문학상 관련 뉴스를 알려주세요.\"\n",
    "input = State(dummy_data=\"테스트 문자열\", messages=[(\"user\", question)])\n",
    "\n",
    "config = RunnableConfig(\n",
    "    recursion_limit=10, \n",
    "    configurable={\"thread_id\": \"0011\"}, \n",
    "    tags=[\"MY-TAG\"], \n",
    ")\n",
    "\n",
    "for event in graph.stream(\n",
    "    input=input,\n",
    "    config=config,\n",
    "    stream_mode=\"updates\",\n",
    "    interrupt_after=[\"tools\"],  # tools 실행 후 interrupt\n",
    "):\n",
    "    for value in event.values():\n",
    "        print(f\"\\n[{key}]\\n\")\n",
    "\n",
    "        if isinstance(value, dict):\n",
    "            print(value.keys())\n",
    "            if \"messages\" in value:\n",
    "                print(value[\"messages\"])\n",
    "\n",
    "        # value 에는 state 가 dict 형태로 저장(values 의 key 값)\n",
    "        if \"messages\" in value:\n",
    "            print(f\"메시지 개수: {len(value['messages'])}\")"
   ]
  },
  {
   "cell_type": "markdown",
   "metadata": {},
   "source": [
    "-----\n",
    "** End of Documents **"
   ]
  }
 ],
 "metadata": {
  "kernelspec": {
   "display_name": "langchain-kr-t0JhnSEV-py3.11",
   "language": "python",
   "name": "python3"
  },
  "language_info": {
   "codemirror_mode": {
    "name": "ipython",
    "version": 3
   },
   "file_extension": ".py",
   "mimetype": "text/x-python",
   "name": "python",
   "nbconvert_exporter": "python",
   "pygments_lexer": "ipython3",
   "version": "3.11.9"
  }
 },
 "nbformat": 4,
 "nbformat_minor": 2
}
