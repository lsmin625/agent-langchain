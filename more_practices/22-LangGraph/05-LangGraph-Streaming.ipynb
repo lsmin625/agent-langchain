{
 "cells": [
  {
   "cell_type": "code",
   "execution_count": 1,
   "metadata": {},
   "outputs": [
    {
     "data": {
      "text/plain": [
       "True"
      ]
     },
     "execution_count": 1,
     "metadata": {},
     "output_type": "execute_result"
    }
   ],
   "source": [
    "# API KEY Loading\n",
    "from dotenv import load_dotenv\n",
    "\n",
    "load_dotenv()"
   ]
  },
  {
   "cell_type": "code",
   "execution_count": 2,
   "metadata": {},
   "outputs": [
    {
     "name": "stdout",
     "output_type": "stream",
     "text": [
      "LangSmith 추적을 시작합니다.\n",
      "[프로젝트명]\n",
      "CH21-LangGraph\n"
     ]
    }
   ],
   "source": [
    "from langchain_teddynote import logging\n",
    "\n",
    "logging.langsmith(\"CH21-LangGraph\")"
   ]
  },
  {
   "cell_type": "markdown",
   "metadata": {},
   "source": [
    "# LangGraph Streaming"
   ]
  },
  {
   "cell_type": "code",
   "execution_count": 3,
   "metadata": {},
   "outputs": [],
   "source": [
    "from typing import Annotated, List, Dict\n",
    "from typing_extensions import TypedDict\n",
    "\n",
    "from langchain_core.tools import tool\n",
    "from langchain_openai import ChatOpenAI\n",
    "from langgraph.checkpoint.memory import MemorySaver\n",
    "from langgraph.graph import StateGraph, START, END\n",
    "from langgraph.graph.message import add_messages\n",
    "from langgraph.prebuilt import ToolNode, tools_condition\n",
    "from langchain_teddynote.graphs import visualize_graph\n",
    "from langchain_teddynote.tools import GoogleNews"
   ]
  },
  {
   "cell_type": "markdown",
   "metadata": {},
   "source": [
    "### 상태 정의\n",
    "* `messages: Annotated[List[BaseMessage], add_messages]` : 새로운 메시지가 들어오면 기존 리스트를 덮어쓰지(기본 방식) 말고, Reducer로 add_messages를 사용하여 **\"추가(append)\"** 하라고 지정\n",
    "* `dummy_data: str` : 기본 동작으로 **덮어쓰기** 를 수행, 노드가 dummy_data에 대한 새 값을 반환하면 이전 값은 사라지고 새 값으로 대체됨."
   ]
  },
  {
   "cell_type": "code",
   "execution_count": 4,
   "metadata": {},
   "outputs": [],
   "source": [
    "from langchain_core.messages import BaseMessage\n",
    "\n",
    "########## 1. State ##########\n",
    "class State(TypedDict):\n",
    "    messages: Annotated[List[BaseMessage], add_messages]\n",
    "    dummy_data: str\n",
    "\n",
    "\n",
    "########## 2. TOOLS ##########\n",
    "# 도구 초기화\n",
    "news_tool = GoogleNews()\n",
    "\n",
    "# 키워드 뉴스 검색 도구 생성\n",
    "@tool\n",
    "def search_keyword(query: str) -> List[Dict[str, str]]:\n",
    "    \"\"\"Look up news by keyword\"\"\"\n",
    "\n",
    "    news_tool = GoogleNews()\n",
    "    return news_tool.search_by_keyword(query, k=5)\n",
    "\n",
    "tools = [search_keyword]\n",
    "\n",
    "# LLM 초기화\n",
    "llm = ChatOpenAI(model=\"gpt-4o-mini\", temperature=0)\n",
    "\n",
    "# LLM + 도구 \n",
    "llm_with_tools = llm.bind_tools(tools)\n",
    "\n",
    "\n",
    "########## 3. NODE ##########\n",
    "# 챗봇 함수 정의\n",
    "def chatbot(state: State):\n",
    "    \n",
    "    response = llm_with_tools.invoke(state[\"messages\"])\n",
    "\n",
    "    # 변경이 필요한 필드만 포함하는 딕셔너리를 반환\n",
    "    return {\n",
    "        \"messages\": [response],\n",
    "        \"dummy_data\": \"[chatbot] 호출\"\n",
    "    }"
   ]
  },
  {
   "cell_type": "markdown",
   "metadata": {},
   "source": [
    "### 그래프 빌드\n",
    "* `tools_condition` : 챗봇의 마지막 메시지를 확인해서, 만약 **도구 호출(tool_calls)** 이 포함되어 있으면 **'tools'** 라는 글자를 반환하고, 그렇지 않으면 **'end'** 라는 글자를 반환\n",
    "\n",
    "```python\n",
    "def tools_condition(state: {\"messages\": List[BaseMessage]}) -> str:\n",
    "    \"\"\"\n",
    "    미리 작성된 편의 함수.\n",
    "    마지막 메시지에 tool_calls가 있는지 확인하여 다음 노드의 이름을 반환한다.\n",
    "    \"\"\"\n",
    "    # 1. 상태에서 마지막 메시지를 꺼낸다.\n",
    "    last_message = state[\"messages\"][-1]\n",
    "\n",
    "    # 2. 메시지에 tool_calls가 있는지 확인한다. (핵심 로직)\n",
    "    if last_message.tool_calls:\n",
    "        # 3a. 있으면 'tools'를 반환한다.\n",
    "        return \"tools\"\n",
    "    \n",
    "    # 3b. 없으면 '__end__'를 반환한다.\n",
    "    return END\n",
    "```"
   ]
  },
  {
   "cell_type": "code",
   "execution_count": 5,
   "metadata": {},
   "outputs": [
    {
     "data": {
      "image/png": "[encoded data removed]",
      "text/plain": [
       "<IPython.core.display.Image object>"
      ]
     },
     "metadata": {},
     "output_type": "display_data"
    }
   ],
   "source": [
    "\n",
    "# Graph\n",
    "graph_builder = StateGraph(State)\n",
    "\n",
    "graph_builder.add_node(\"chatbot\", chatbot)\n",
    "graph_builder.add_node(\"tools\", ToolNode(tools))\n",
    "\n",
    "# 그래프 흐름 연결\n",
    "# 1) 시작점 지정: 'chatbot' 노드에서 시작\n",
    "graph_builder.set_entry_point(\"chatbot\")\n",
    "\n",
    "# 2) 'chatbot' 노드 이후의 분기 처리 : 챗봇이 도구를 호출해야 한다고 판단하면 'tools' 노드로, 그렇지 않으면 대화를 종료(END)\n",
    "graph_builder.add_conditional_edges(\"chatbot\", tools_condition)\n",
    "\n",
    "# 3) 'tools' 노드 이후의 흐름 : 도구 사용이 끝나면, 그 결과를 가지고 다시 'chatbot' 노드로 돌아감.\n",
    "graph_builder.add_edge(\"tools\", \"chatbot\")\n",
    "\n",
    "# 4) 컴파일\n",
    "graph = graph_builder.compile()\n",
    "\n",
    "\n",
    "########## VISUALIZE ##########\n",
    "visualize_graph(graph)"
   ]
  },
  {
   "cell_type": "markdown",
   "metadata": {},
   "source": [
    "### 초기 상태 설정\n",
    "상태 정의 클래스 `State`는 TypedDict 형식으로 TypedDict는 코드를 실행하기 전 정적 타입 검사를 위한 도구로 런타임에 특별한 기능을 하는 클래스가 아님.\n",
    "- `initial_state = {\"messages\": [...]}` : `messages` 키를 가진 이 딕셔너리 데이터로 시작하라는 의미를 아주 명확하고 직관적으로 제공\n",
    "- 만약 `initial_state = State(messages=[...])` 형식으로 사용하면 초기 상태를 State라는 클래스의 인스턴스를 생성하는 것처럼 보이지만, 실제로는 그냥 딕셔너리를 만드는 과정임. 따라서 불필요한 클래스 호출이 추가되어 코드가 더 길어지고, State가 특별한 객체인 것처럼 오해를 줄 수 있음.\n",
    "- `class State(TypedDict)`: 그래프 전체에서 사용될 상태의 구조(schema)를 정의하는 설계도로 \"상태는 반드시 'messages'와 'dummy_data'라는 키를 가져야 한다\"는 규칙을 정하는 것.\n",
    "- `initial_state`: 그래프를 시작시키는 첫 번째 입력 데이터로 위에서 정의한 설계도를 따르기만 하면 됨."
   ]
  },
  {
   "cell_type": "code",
   "execution_count": 25,
   "metadata": {},
   "outputs": [],
   "source": [
    "from langchain_core.messages import HumanMessage\n",
    "\n",
    "# 질문\n",
    "question = \"2024년 노벨 문학상 관련 뉴스를 알려주세요.\"\n",
    "\n",
    "# 그래프의 첫 시작 상태를 딕셔너리 형태로 정의\n",
    "initial_state = {\n",
    "    \"messages\": [HumanMessage(content=question)]\n",
    "}"
   ]
  },
  {
   "cell_type": "markdown",
   "metadata": {},
   "source": [
    "### Graph 실행 옵션 설정\n",
    "- `recursion_limit=10` : 재귀 호출 제한 - 에이전트가 무한 루프에 빠지지 않도록 최대 실행 횟수를 10회로 제한\n",
    "- `configurable={\"thread_id\": \"user_session_001\"}` : 설정 가능 필드 - 대화 기록을 관리하기 위해 세션 ID 또는 스레드 ID를 지정\n",
    "- `tags=[\"nobel_prize_agent\"]` : 태그 - LangSmith 같은 추적 도구에서 실행 과정을 필터링하기 위한 태그"
   ]
  },
  {
   "cell_type": "code",
   "execution_count": 26,
   "metadata": {},
   "outputs": [],
   "source": [
    "from langchain_core.runnables import RunnableConfig\n",
    "\n",
    "# 그래프 실행 시 적용될 상세 설정\n",
    "config = RunnableConfig(\n",
    "    recursion_limit=10,\n",
    "    configurable={\"thread_id\": \"user_session_001\"},\n",
    "    tags=[\"nobel_prize_agent\"],\n",
    ")"
   ]
  },
  {
   "cell_type": "markdown",
   "metadata": {},
   "source": [
    "### StateGraph의 `stream` 메서드\n",
    "`graph.stream()`은 그래프를 한 단계씩 실행하고, 각 단계(노드)의 실행이 끝날 때마다 그 결과를 반환하며, 단계별 반환 변수에는 해당 시점의 결과물이 포함(`Iterator[Union[dict[str, Any], Any]]`)됨.\n",
    "\n",
    "매개변수\n",
    "- `input` (Union[dict[str, Any], Any]): 그래프에 대한 입력\n",
    "- `config` (Optional[RunnableConfig]): 실행 구성\n",
    "- `stream_mode` (Optional[Union[StreamMode, list[StreamMode]]]): 출력 스트리밍 모드\n",
    "- `output_keys` (Optional[Union[str, Sequence[str]]]): 스트리밍할 키\n",
    "- `interrupt_before` (Optional[Union[All, Sequence[str]]]): 실행 전에 중단할 노드\n",
    "- `interrupt_after` (Optional[Union[All, Sequence[str]]]): 실행 후에 중단할 노드\n",
    "- `debug` (Optional[bool]): 디버그 정보 출력 여부\n",
    "- `subgraphs` (bool): 하위 그래프 스트리밍 여부\n",
    "\n",
    "※ 출력 스트리밍 모드\n",
    "- `values`: 각 단계의 현재 상태 값 출력\n",
    "- `updates`: 각 단계의 상태 업데이트만 출력\n",
    "- `debug`: 각 단계의 디버그 이벤트 출력"
   ]
  },
  {
   "cell_type": "code",
   "execution_count": 46,
   "metadata": {},
   "outputs": [
    {
     "name": "stdout",
     "output_type": "stream",
     "text": [
      "\n",
      " **[chatbot]**\n",
      "메시지 개수: 1\n",
      "==================================\u001b[1m Ai Message \u001b[0m==================================\n",
      "Tool Calls:\n",
      "  search_keyword (call_5CmyotSCroN7qeilyBFYQNvN)\n",
      " Call ID: call_5CmyotSCroN7qeilyBFYQNvN\n",
      "  Args:\n",
      "    query: 2024 Nobel Prize in Literature\n",
      "\n",
      " **[tools]**\n",
      "메시지 개수: 1\n",
      "=================================\u001b[1m Tool Message \u001b[0m=================================\n",
      "Name: search_keyword\n",
      "\n",
      "[{\"url\": \"https://news.google.com/rss/articles/CBMijAFBVV95cUxQbm5WUEJkclg3SDdkQXdlT3NqbUo4Qk9Wck83YWRYU09FanRwM2hyQjBWZm5PRlktX05vN3BmbEc4eUVSazhSX3o3bjNWSENOaTVUMWlTdnpXQnNMRS1ndXRmc1dCNEtoc2xCbXZUVllQVWFVZTdHWWE3TWJhV2Y2WXJFTUliUHZhWlFNbA?oc=5\", \"content\": \"Han Kang – Banquet speech - NobelPrize.org\"}, {\"url\": \"https://news.google.com/rss/articles/CBMigwFBVV95cUxNRGxDMlZxRnFuS1ZxTW1JZmhyNFZlRUVzb2UzbWJYbkhUSTB1OTF0dU5BM2VEU25SNnlFejd4LXoxUjEtVmZrTm1sWTZyb2U4UXBUeXExOHVhVXduSXJ2LWt3ZGJUS0VLQ1N2U2dSNkw3elN4UjRnLXFzNDBkWWkyZjFFSQ?oc=5\", \"content\": \"한강 \\\"문학, 생명을 파괴하는 모든 행위에 반대하는 일\\\" - Korea.net\"}, {\"url\": \"https://news.google.com/rss/articles/CBMiWkFVX3lxTE1HeVRsZHlmd2VDdXd3U18zYTJEYzN2NnJ3VnZIbnJEalBNcXExZmFHMUo5djh2eTdCR0FMTVNXb1RqRE9FUE1VQ2p1UlNrSUFMY1VlTHdNTjlqZ9IBX0FVX3lxTFBVY2I1UnREbm1LUVRockN0cnlkSVNPWmJSV2xWVGZfU1phN3VDQzd2akJIM1ZhZGdtSjdWTHB1VlREdTZxTVdWVk9xNHlyNklibWg1VmhXb2kyWU9rdUxn?oc=5\", \"content\": \"Han Gang receives Nobel Prize in Literature as first Asian female author - 경향신문\"}, {\"url\": \"https://news.google.com/rss/articles/CBMihwFBVV95cUxPRTBWbVp5V3dKTTlhdjhKV2tKdGFWWkk0bHhvbGFSc3NCNXRXUWhFcV9yemVFRnQ2Q25GUzYwNFNQdGJxbGtVY0V5SzJkS0pLeHdqV3loTHhIZDg0VWVfVVN5d2czeXFuVjkwVkxydFA5X25VbXVLZU9jbGtKV01reTE5RERpUk0?oc=5\", \"content\": \"[영어 이야기] 시도해 보다 'give it a shot' - 모바일한경\"}, {\"url\": \"https://news.google.com/rss/articles/CBMiW0FVX3lxTE1vbTFGRXhfTVBkRGlSRjZXdnZ1M1dxaVc1LVdZTVBZSkkteTl2elVOUzBhZjlnSk80bDVBdndxY3A2ZHJPeDJQN1piSGpIMksxRHRzelBqaGpRU00?oc=5\", \"content\": \"한국 첫 노벨 문학상 탄생…'채식주의자' 작가 한강 영예 - 연합뉴스\"}]\n",
      "\n",
      " **[chatbot]**\n",
      "메시지 개수: 1\n",
      "==================================\u001b[1m Ai Message \u001b[0m==================================\n",
      "\n",
      "2024년 노벨 문학상과 관련된 최근 뉴스는 다음과 같습니다:\n",
      "\n",
      "1. **한강의 연설**: [NobelPrize.org](https://news.google.com/rss/articles/CBMijAFBVV95cUxQbm5WUEJkclg3SDdkQXdlT3NqbUo4Qk9Wck83YWRYU09FanRwM2hyQjBWZm5PRlktX05vN3BmbEc4eUVSazhSX3o3bjNWSENOaTVUMWlTdnpXQnNMRS1ndXRmc1dCNEtoc2xCbXZUVllQVWFVZTdHWWE3TWJhV2Y2WXJFTUliUHZhWlFNbA?oc=5)에서 한강의 연설 내용이 소개되었습니다.\n",
      "\n",
      "2. **문학과 생명**: [Korea.net](https://news.google.com/rss/articles/CBMigwFBVV95cUxNRGxDMlZxRnFuS1ZxTW1JZmhyNFZlRUVzb2UzbWJYbkhUSTB1OTF0dU5BM2VEU25SNnlFejd4LXoxUjEtVmZrTm1sWTZyb2U4UXBUeXExOHVhVXduSXJ2LWt3ZGJUS0VLQ1N2U2dSNkw3elN4UjRnLXFzNDBkWWkyZjFFSQ?oc=5)에서 한강이 \"문학, 생명을 파괴하는 모든 행위에 반대하는 일\"이라고 언급했습니다.\n",
      "\n",
      "3. **한강의 수상 소식**: [경향신문](https://news.google.com/rss/articles/CBMiWkFVX3lxTE1HeVRsZHlmd2VDdXd3U18zYTJEYzN2NnJ3VnZIbnJEalBNcXExZmFHMUo5djh2eTdCR0FMTVNXb1RqRE9FUE1VQ2p1UlNrSUFMY1VlTHdNTjlqZ9IBX0FVX3lxTFBVY2I1UnREbm1LUVRockN0cnlkSVNPWmJSV2xWVGZfU1phN3VDQzd2akJIM1ZhZGdtSjdWTHB1VlREdTZxTVdWVk9xNHlyNklibWg1VmhXb2kyWU9rdUxn?oc=5)에서 한강이 아시아 최초의 여성 작가로서 노벨 문학상을 수상했다는 소식을 전했습니다.\n",
      "\n",
      "4. **한국 첫 노벨 문학상**: [연합뉴스](https://news.google.com/rss/articles/CBMiW0FVX3lxTE1vbTFGRXhfTVBkRGlSRjZXdnZ1M1dxaVc1LVdZTVBZSkkteTl2elVOUzBhZjlnSk80bDVBdndxY3A2ZHJPeDJQN1piSGpIMksxRHRzelBqaGpRU00?oc=5)에서는 한강이 한국 최초의 노벨 문학상 수상자로 기록되었다고 보도했습니다.\n",
      "\n",
      "이와 같은 뉴스들은 한강 작가의 업적과 문학적 기여를 조명하고 있습니다.\n"
     ]
    }
   ],
   "source": [
    "for step in graph.stream(initial_state, config=config):\n",
    "    for node_name, node_output in step.items():\n",
    "        print(f\"\\n **[{node_name}]**\")\n",
    "        # 노드의 출력값 안에 'messages' 키가 있는지 확인 - ToolNode에는 messages가 없을 수 있음\n",
    "        if \"messages\" in node_output:\n",
    "            # 가장 마지막에 추가된 최신 메시지만 예쁘게 출력\n",
    "            print(f\"메시지 개수: {len(node_output['messages'])}\")\n",
    "            last_message = node_output[\"messages\"][-1]\n",
    "            last_message.pretty_print()"
   ]
  },
  {
   "cell_type": "markdown",
   "metadata": {},
   "source": [
    "### `output_keys`\n",
    "\n",
    "- `output_keys` : 스트리밍할 키를 지정하는 데 사용\n",
    "- list 형식으로 지정할 수 있으며, channels 에 정의된 키 중 하나\n",
    "- 매 단계마다 출력되는 State key 가 많은 경우, 일부만 스트리밍하고 싶은 경우에 유용"
   ]
  },
  {
   "cell_type": "code",
   "execution_count": 54,
   "metadata": {},
   "outputs": [
    {
     "name": "stdout",
     "output_type": "stream",
     "text": [
      "['messages', 'dummy_data', '__start__', '__pregel_tasks', 'branch:to:chatbot', 'branch:to:tools']\n"
     ]
    }
   ],
   "source": [
    "# channels 에 정의된 키 목록 출력\n",
    "print(list(graph.channels.keys()))"
   ]
  },
  {
   "cell_type": "markdown",
   "metadata": {},
   "source": [
    "* channels 에 정의된 키 목록 중 'output_keys'를 설정하여 스트림의 출력 필드를 한정할 수 있음.\n",
    "\n",
    "```python\n",
    "# 'output_keys'를 설정하여 스트림의 출력 필드를 \"messages\"로 한정\n",
    "stream = graph.stream(\n",
    "    initial_state,\n",
    "    config=run_config,\n",
    "    output_keys=[\"messages\"]\n",
    ")\n",
    "```"
   ]
  },
  {
   "cell_type": "markdown",
   "metadata": {},
   "source": [
    "### `stream_mode=\"values\"`: 노드에 대한 정보 없이 각 단계의 모든 값\n",
    "* `node_name`: 상태의 key값\n",
    "* `node_output`: 상태의 value값 (배열 포함)"
   ]
  },
  {
   "cell_type": "code",
   "execution_count": 55,
   "metadata": {},
   "outputs": [
    {
     "name": "stdout",
     "output_type": "stream",
     "text": [
      "messages 개수: 1\n",
      "==========================================================================================\n",
      "messages 개수: 2\n",
      "dummy_data : [chatbot] 호출\n",
      "==========================================================================================\n",
      "messages 개수: 3\n",
      "dummy_data : [chatbot] 호출\n",
      "==========================================================================================\n",
      "messages 개수: 4\n",
      "dummy_data : [chatbot] 호출\n",
      "==========================================================================================\n"
     ]
    }
   ],
   "source": [
    "for step in graph.stream(initial_state, config=config, stream_mode=\"values\"):\n",
    "    for node_name, node_output in step.items():\n",
    "        if node_name == \"messages\":\n",
    "            print(f\"{node_name} 개수: {len(node_output)}\")\n",
    "        else:\n",
    "            print(f\"{node_name} : {node_output}\")\n",
    "    print(\"===\" * 30)\n"
   ]
  },
  {
   "cell_type": "markdown",
   "metadata": {},
   "source": [
    "### `stream_mode = \"updates\"`: 각 단계에 대한 업데이트된 State 만 내보냄\n",
    "* `node_name`: 노드(Node) 의 이름\n",
    "* `node_output`: 해당 노드(Node) 단계에서의 출력 값(dictionary). 즉, 여러 개의 key-value 쌍을 가진 dictionary"
   ]
  },
  {
   "cell_type": "code",
   "execution_count": 57,
   "metadata": {},
   "outputs": [
    {
     "name": "stdout",
     "output_type": "stream",
     "text": [
      "\n",
      " **[chatbot]**\n",
      "[AIMessage(content='', additional_kwargs={'tool_calls': [{'id': 'call_IfwsYjuRpNjPR0UElc4SCMKp', 'function': {'arguments': '{\"query\":\"2024 Nobel Prize in Literature\"}', 'name': 'search_keyword'}, 'type': 'function'}], 'refusal': None}, response_metadata={'token_usage': {'completion_tokens': 19, 'prompt_tokens': 57, 'total_tokens': 76, 'completion_tokens_details': {'accepted_prediction_tokens': 0, 'audio_tokens': 0, 'reasoning_tokens': 0, 'rejected_prediction_tokens': 0}, 'prompt_tokens_details': {'audio_tokens': 0, 'cached_tokens': 0}}, 'model_name': 'gpt-4o-mini-2024-07-18', 'system_fingerprint': 'fp_34a54ae93c', 'id': 'chatcmpl-BrfzNKumrRnD4SbQyrGO1J9q7Qdo9', 'service_tier': 'default', 'finish_reason': 'tool_calls', 'logprobs': None}, id='run--46ddecbf-5507-409e-a1a6-7681db67fc18-0', tool_calls=[{'name': 'search_keyword', 'args': {'query': '2024 Nobel Prize in Literature'}, 'id': 'call_IfwsYjuRpNjPR0UElc4SCMKp', 'type': 'tool_call'}], usage_metadata={'input_tokens': 57, 'output_tokens': 19, 'total_tokens': 76, 'input_token_details': {'audio': 0, 'cache_read': 0}, 'output_token_details': {'audio': 0, 'reasoning': 0}})]\n",
      "메시지 개수: 1\n",
      "==================================\u001b[1m Ai Message \u001b[0m==================================\n",
      "Tool Calls:\n",
      "  search_keyword (call_IfwsYjuRpNjPR0UElc4SCMKp)\n",
      " Call ID: call_IfwsYjuRpNjPR0UElc4SCMKp\n",
      "  Args:\n",
      "    query: 2024 Nobel Prize in Literature\n",
      "\n",
      " **[tools]**\n",
      "[ToolMessage(content='[{\"url\": \"https://news.google.com/rss/articles/CBMijAFBVV95cUxQbm5WUEJkclg3SDdkQXdlT3NqbUo4Qk9Wck83YWRYU09FanRwM2hyQjBWZm5PRlktX05vN3BmbEc4eUVSazhSX3o3bjNWSENOaTVUMWlTdnpXQnNMRS1ndXRmc1dCNEtoc2xCbXZUVllQVWFVZTdHWWE3TWJhV2Y2WXJFTUliUHZhWlFNbA?oc=5\", \"content\": \"Han Kang – Banquet speech - NobelPrize.org\"}, {\"url\": \"https://news.google.com/rss/articles/CBMigwFBVV95cUxNRGxDMlZxRnFuS1ZxTW1JZmhyNFZlRUVzb2UzbWJYbkhUSTB1OTF0dU5BM2VEU25SNnlFejd4LXoxUjEtVmZrTm1sWTZyb2U4UXBUeXExOHVhVXduSXJ2LWt3ZGJUS0VLQ1N2U2dSNkw3elN4UjRnLXFzNDBkWWkyZjFFSQ?oc=5\", \"content\": \"한강 \\\\\"문학, 생명을 파괴하는 모든 행위에 반대하는 일\\\\\" - Korea.net\"}, {\"url\": \"https://news.google.com/rss/articles/CBMiWkFVX3lxTE1HeVRsZHlmd2VDdXd3U18zYTJEYzN2NnJ3VnZIbnJEalBNcXExZmFHMUo5djh2eTdCR0FMTVNXb1RqRE9FUE1VQ2p1UlNrSUFMY1VlTHdNTjlqZ9IBX0FVX3lxTFBVY2I1UnREbm1LUVRockN0cnlkSVNPWmJSV2xWVGZfU1phN3VDQzd2akJIM1ZhZGdtSjdWTHB1VlREdTZxTVdWVk9xNHlyNklibWg1VmhXb2kyWU9rdUxn?oc=5\", \"content\": \"Han Gang receives Nobel Prize in Literature as first Asian female author - 경향신문\"}, {\"url\": \"https://news.google.com/rss/articles/CBMihwFBVV95cUxPRTBWbVp5V3dKTTlhdjhKV2tKdGFWWkk0bHhvbGFSc3NCNXRXUWhFcV9yemVFRnQ2Q25GUzYwNFNQdGJxbGtVY0V5SzJkS0pLeHdqV3loTHhIZDg0VWVfVVN5d2czeXFuVjkwVkxydFA5X25VbXVLZU9jbGtKV01reTE5RERpUk0?oc=5\", \"content\": \"[영어 이야기] 시도해 보다 \\'give it a shot\\' - 모바일한경\"}, {\"url\": \"https://news.google.com/rss/articles/CBMiW0FVX3lxTE1vbTFGRXhfTVBkRGlSRjZXdnZ1M1dxaVc1LVdZTVBZSkkteTl2elVOUzBhZjlnSk80bDVBdndxY3A2ZHJPeDJQN1piSGpIMksxRHRzelBqaGpRU00?oc=5\", \"content\": \"한국 첫 노벨 문학상 탄생…\\'채식주의자\\' 작가 한강 영예 - 연합뉴스\"}]', name='search_keyword', id='2f454eaa-d2be-4562-bc8c-f2d40af46bba', tool_call_id='call_IfwsYjuRpNjPR0UElc4SCMKp')]\n",
      "메시지 개수: 1\n",
      "=================================\u001b[1m Tool Message \u001b[0m=================================\n",
      "Name: search_keyword\n",
      "\n",
      "[{\"url\": \"https://news.google.com/rss/articles/CBMijAFBVV95cUxQbm5WUEJkclg3SDdkQXdlT3NqbUo4Qk9Wck83YWRYU09FanRwM2hyQjBWZm5PRlktX05vN3BmbEc4eUVSazhSX3o3bjNWSENOaTVUMWlTdnpXQnNMRS1ndXRmc1dCNEtoc2xCbXZUVllQVWFVZTdHWWE3TWJhV2Y2WXJFTUliUHZhWlFNbA?oc=5\", \"content\": \"Han Kang – Banquet speech - NobelPrize.org\"}, {\"url\": \"https://news.google.com/rss/articles/CBMigwFBVV95cUxNRGxDMlZxRnFuS1ZxTW1JZmhyNFZlRUVzb2UzbWJYbkhUSTB1OTF0dU5BM2VEU25SNnlFejd4LXoxUjEtVmZrTm1sWTZyb2U4UXBUeXExOHVhVXduSXJ2LWt3ZGJUS0VLQ1N2U2dSNkw3elN4UjRnLXFzNDBkWWkyZjFFSQ?oc=5\", \"content\": \"한강 \\\"문학, 생명을 파괴하는 모든 행위에 반대하는 일\\\" - Korea.net\"}, {\"url\": \"https://news.google.com/rss/articles/CBMiWkFVX3lxTE1HeVRsZHlmd2VDdXd3U18zYTJEYzN2NnJ3VnZIbnJEalBNcXExZmFHMUo5djh2eTdCR0FMTVNXb1RqRE9FUE1VQ2p1UlNrSUFMY1VlTHdNTjlqZ9IBX0FVX3lxTFBVY2I1UnREbm1LUVRockN0cnlkSVNPWmJSV2xWVGZfU1phN3VDQzd2akJIM1ZhZGdtSjdWTHB1VlREdTZxTVdWVk9xNHlyNklibWg1VmhXb2kyWU9rdUxn?oc=5\", \"content\": \"Han Gang receives Nobel Prize in Literature as first Asian female author - 경향신문\"}, {\"url\": \"https://news.google.com/rss/articles/CBMihwFBVV95cUxPRTBWbVp5V3dKTTlhdjhKV2tKdGFWWkk0bHhvbGFSc3NCNXRXUWhFcV9yemVFRnQ2Q25GUzYwNFNQdGJxbGtVY0V5SzJkS0pLeHdqV3loTHhIZDg0VWVfVVN5d2czeXFuVjkwVkxydFA5X25VbXVLZU9jbGtKV01reTE5RERpUk0?oc=5\", \"content\": \"[영어 이야기] 시도해 보다 'give it a shot' - 모바일한경\"}, {\"url\": \"https://news.google.com/rss/articles/CBMiW0FVX3lxTE1vbTFGRXhfTVBkRGlSRjZXdnZ1M1dxaVc1LVdZTVBZSkkteTl2elVOUzBhZjlnSk80bDVBdndxY3A2ZHJPeDJQN1piSGpIMksxRHRzelBqaGpRU00?oc=5\", \"content\": \"한국 첫 노벨 문학상 탄생…'채식주의자' 작가 한강 영예 - 연합뉴스\"}]\n",
      "\n",
      " **[chatbot]**\n",
      "[AIMessage(content='2024년 노벨 문학상과 관련된 최근 뉴스는 다음과 같습니다:\\n\\n1. **한강의 연설**: [NobelPrize.org](https://news.google.com/rss/articles/CBMijAFBVV95cUxQbm5WUEJkclg3SDdkQXdlT3NqbUo4Qk9Wck83YWRYU09FanRwM2hyQjBWZm5PRlktX05vN3BmbEc4eUVSazhSX3o3bjNWSENOaTVUMWlTdnpXQnNMRS1ndXRmc1dCNEtoc2xCbXZUVllQVWFVZTdHWWE3TWJhV2Y2WXJFTUliUHZhWlFNbA?oc=5)에서 한강의 연설 내용이 소개되었습니다.\\n\\n2. **문학과 생명**: [Korea.net](https://news.google.com/rss/articles/CBMigwFBVV95cUxNRGxDMlZxRnFuS1ZxTW1JZmhyNFZlRUVzb2UzbWJYbkhUSTB1OTF0dU5BM2VEU25SNnlFejd4LXoxUjEtVmZrTm1sWTZyb2U4UXBUeXExOHVhVXduSXJ2LWt3ZGJUS0VLQ1N2U2dSNkw3elN4UjRnLXFzNDBkWWkyZjFFSQ?oc=5)에서 한강이 \"문학, 생명을 파괴하는 모든 행위에 반대하는 일\"이라고 언급했습니다.\\n\\n3. **한강의 수상 소식**: [경향신문](https://news.google.com/rss/articles/CBMiWkFVX3lxTE1HeVRsZHlmd2VDdXd3U18zYTJEYzN2NnJ3VnZIbnJEalBNcXExZmFHMUo5djh2eTdCR0FMTVNXb1RqRE9FUE1VQ2p1UlNrSUFMY1VlTHdNTjlqZ9IBX0FVX3lxTFBVY2I1UnREbm1LUVRockN0cnlkSVNPWmJSV2xWVGZfU1phN3VDQzd2akJIM1ZhZGdtSjdWTHB1VlREdTZxTVdWVk9xNHlyNklibWg1VmhXb2kyWU9rdUxn?oc=5)에서 한강이 아시아 최초의 여성 작가로서 노벨 문학상을 수상했다는 소식을 전했습니다.\\n\\n4. **한국 첫 노벨 문학상**: [연합뉴스](https://news.google.com/rss/articles/CBMiW0FVX3lxTE1vbTFGRXhfTVBkRGlSRjZXdnZ1M1dxaVc1LVdZTVBZSkkteTl2elVOUzBhZjlnSk80bDVBdndxY3A2ZHJPeDJQN1piSGpIMksxRHRzelBqaGpRU00?oc=5)에서 한국의 첫 노벨 문학상 수상자로 한강을 소개했습니다.\\n\\n이와 같은 뉴스들은 한강의 문학적 성취와 그 의미에 대해 다루고 있습니다.', additional_kwargs={'refusal': None}, response_metadata={'token_usage': {'completion_tokens': 749, 'prompt_tokens': 926, 'total_tokens': 1675, 'completion_tokens_details': {'accepted_prediction_tokens': 0, 'audio_tokens': 0, 'reasoning_tokens': 0, 'rejected_prediction_tokens': 0}, 'prompt_tokens_details': {'audio_tokens': 0, 'cached_tokens': 0}}, 'model_name': 'gpt-4o-mini-2024-07-18', 'system_fingerprint': 'fp_34a54ae93c', 'id': 'chatcmpl-BrfzPTbE6a1rb7xZBh8dSYSrd9GfV', 'service_tier': 'default', 'finish_reason': 'stop', 'logprobs': None}, id='run--e2d9f5ad-9cc7-4052-b42b-15ab0cfb0504-0', usage_metadata={'input_tokens': 926, 'output_tokens': 749, 'total_tokens': 1675, 'input_token_details': {'audio': 0, 'cache_read': 0}, 'output_token_details': {'audio': 0, 'reasoning': 0}})]\n",
      "메시지 개수: 1\n",
      "==================================\u001b[1m Ai Message \u001b[0m==================================\n",
      "\n",
      "2024년 노벨 문학상과 관련된 최근 뉴스는 다음과 같습니다:\n",
      "\n",
      "1. **한강의 연설**: [NobelPrize.org](https://news.google.com/rss/articles/CBMijAFBVV95cUxQbm5WUEJkclg3SDdkQXdlT3NqbUo4Qk9Wck83YWRYU09FanRwM2hyQjBWZm5PRlktX05vN3BmbEc4eUVSazhSX3o3bjNWSENOaTVUMWlTdnpXQnNMRS1ndXRmc1dCNEtoc2xCbXZUVllQVWFVZTdHWWE3TWJhV2Y2WXJFTUliUHZhWlFNbA?oc=5)에서 한강의 연설 내용이 소개되었습니다.\n",
      "\n",
      "2. **문학과 생명**: [Korea.net](https://news.google.com/rss/articles/CBMigwFBVV95cUxNRGxDMlZxRnFuS1ZxTW1JZmhyNFZlRUVzb2UzbWJYbkhUSTB1OTF0dU5BM2VEU25SNnlFejd4LXoxUjEtVmZrTm1sWTZyb2U4UXBUeXExOHVhVXduSXJ2LWt3ZGJUS0VLQ1N2U2dSNkw3elN4UjRnLXFzNDBkWWkyZjFFSQ?oc=5)에서 한강이 \"문학, 생명을 파괴하는 모든 행위에 반대하는 일\"이라고 언급했습니다.\n",
      "\n",
      "3. **한강의 수상 소식**: [경향신문](https://news.google.com/rss/articles/CBMiWkFVX3lxTE1HeVRsZHlmd2VDdXd3U18zYTJEYzN2NnJ3VnZIbnJEalBNcXExZmFHMUo5djh2eTdCR0FMTVNXb1RqRE9FUE1VQ2p1UlNrSUFMY1VlTHdNTjlqZ9IBX0FVX3lxTFBVY2I1UnREbm1LUVRockN0cnlkSVNPWmJSV2xWVGZfU1phN3VDQzd2akJIM1ZhZGdtSjdWTHB1VlREdTZxTVdWVk9xNHlyNklibWg1VmhXb2kyWU9rdUxn?oc=5)에서 한강이 아시아 최초의 여성 작가로서 노벨 문학상을 수상했다는 소식을 전했습니다.\n",
      "\n",
      "4. **한국 첫 노벨 문학상**: [연합뉴스](https://news.google.com/rss/articles/CBMiW0FVX3lxTE1vbTFGRXhfTVBkRGlSRjZXdnZ1M1dxaVc1LVdZTVBZSkkteTl2elVOUzBhZjlnSk80bDVBdndxY3A2ZHJPeDJQN1piSGpIMksxRHRzelBqaGpRU00?oc=5)에서 한국의 첫 노벨 문학상 수상자로 한강을 소개했습니다.\n",
      "\n",
      "이와 같은 뉴스들은 한강의 문학적 성취와 그 의미에 대해 다루고 있습니다.\n"
     ]
    }
   ],
   "source": [
    "# stream_mode를 지정하지 않은 것과 동일\n",
    "for step in graph.stream(initial_state, config=config, stream_mode=\"updates\"):\n",
    "    for node_name, node_output in step.items():\n",
    "        print(f\"\\n **[{node_name}]**\")\n",
    "        if \"messages\" in node_output:\n",
    "            print(node_output[\"messages\"])\n",
    "            print(f\"메시지 개수: {len(node_output[\"messages\"])}\")\n",
    "            last_message = node_output[\"messages\"][-1]\n",
    "            last_message.pretty_print()"
   ]
  },
  {
   "cell_type": "markdown",
   "metadata": {},
   "source": [
    "### `interrupt_before`, `interrupt_after`\n",
    "\n",
    "- `interrupt_before`: 지정된 노드 이전에 스트리밍 중단\n",
    "- `interrupt_after`: 지정된 노드 이후에 스트리밍 중단"
   ]
  },
  {
   "cell_type": "code",
   "execution_count": 58,
   "metadata": {},
   "outputs": [
    {
     "name": "stdout",
     "output_type": "stream",
     "text": [
      "\n",
      " **[chatbot]**\n",
      "[AIMessage(content='', additional_kwargs={'tool_calls': [{'id': 'call_GrhPw0uKRMStp20pQdUzPiJd', 'function': {'arguments': '{\"query\":\"2024 Nobel Prize in Literature\"}', 'name': 'search_keyword'}, 'type': 'function'}], 'refusal': None}, response_metadata={'token_usage': {'completion_tokens': 19, 'prompt_tokens': 57, 'total_tokens': 76, 'completion_tokens_details': {'accepted_prediction_tokens': 0, 'audio_tokens': 0, 'reasoning_tokens': 0, 'rejected_prediction_tokens': 0}, 'prompt_tokens_details': {'audio_tokens': 0, 'cached_tokens': 0}}, 'model_name': 'gpt-4o-mini-2024-07-18', 'system_fingerprint': 'fp_34a54ae93c', 'id': 'chatcmpl-BrgB6AfwNzLtFF2rdgu7QA14YHVBR', 'service_tier': 'default', 'finish_reason': 'tool_calls', 'logprobs': None}, id='run--3d7c0cdb-afc8-4fb5-afec-fc9354b53edf-0', tool_calls=[{'name': 'search_keyword', 'args': {'query': '2024 Nobel Prize in Literature'}, 'id': 'call_GrhPw0uKRMStp20pQdUzPiJd', 'type': 'tool_call'}], usage_metadata={'input_tokens': 57, 'output_tokens': 19, 'total_tokens': 76, 'input_token_details': {'audio': 0, 'cache_read': 0}, 'output_token_details': {'audio': 0, 'reasoning': 0}})]\n",
      "메시지 개수: 1\n",
      "==================================\u001b[1m Ai Message \u001b[0m==================================\n",
      "Tool Calls:\n",
      "  search_keyword (call_GrhPw0uKRMStp20pQdUzPiJd)\n",
      " Call ID: call_GrhPw0uKRMStp20pQdUzPiJd\n",
      "  Args:\n",
      "    query: 2024 Nobel Prize in Literature\n",
      "\n",
      " **[__interrupt__]**\n"
     ]
    }
   ],
   "source": [
    "# tools 노드 이전에 스트리밍 중단\n",
    "for step in graph.stream(initial_state, config=config, interrupt_before=[\"tools\"]):\n",
    "    for node_name, node_output in step.items():\n",
    "        print(f\"\\n **[{node_name}]**\")\n",
    "        if \"messages\" in node_output:\n",
    "            print(node_output[\"messages\"])\n",
    "            print(f\"메시지 개수: {len(node_output[\"messages\"])}\")\n",
    "            last_message = node_output[\"messages\"][-1]\n",
    "            last_message.pretty_print()"
   ]
  },
  {
   "cell_type": "code",
   "execution_count": 59,
   "metadata": {},
   "outputs": [
    {
     "name": "stdout",
     "output_type": "stream",
     "text": [
      "\n",
      " **[chatbot]**\n",
      "[AIMessage(content='', additional_kwargs={'tool_calls': [{'id': 'call_s61A5Z0aRR59FS7YgbecSeVx', 'function': {'arguments': '{\"query\":\"2024 노벨 문학상\"}', 'name': 'search_keyword'}, 'type': 'function'}], 'refusal': None}, response_metadata={'token_usage': {'completion_tokens': 20, 'prompt_tokens': 57, 'total_tokens': 77, 'completion_tokens_details': {'accepted_prediction_tokens': 0, 'audio_tokens': 0, 'reasoning_tokens': 0, 'rejected_prediction_tokens': 0}, 'prompt_tokens_details': {'audio_tokens': 0, 'cached_tokens': 0}}, 'model_name': 'gpt-4o-mini-2024-07-18', 'system_fingerprint': 'fp_34a54ae93c', 'id': 'chatcmpl-BrgCLT96fJ9w0l1TIAUxnKQjUacMw', 'service_tier': 'default', 'finish_reason': 'tool_calls', 'logprobs': None}, id='run--73212d0f-dd6e-4e24-a44c-33c82d7e6a7a-0', tool_calls=[{'name': 'search_keyword', 'args': {'query': '2024 노벨 문학상'}, 'id': 'call_s61A5Z0aRR59FS7YgbecSeVx', 'type': 'tool_call'}], usage_metadata={'input_tokens': 57, 'output_tokens': 20, 'total_tokens': 77, 'input_token_details': {'audio': 0, 'cache_read': 0}, 'output_token_details': {'audio': 0, 'reasoning': 0}})]\n",
      "메시지 개수: 1\n",
      "==================================\u001b[1m Ai Message \u001b[0m==================================\n",
      "Tool Calls:\n",
      "  search_keyword (call_s61A5Z0aRR59FS7YgbecSeVx)\n",
      " Call ID: call_s61A5Z0aRR59FS7YgbecSeVx\n",
      "  Args:\n",
      "    query: 2024 노벨 문학상\n",
      "\n",
      " **[tools]**\n",
      "[ToolMessage(content='[{\"url\": \"https://news.google.com/rss/articles/CBMiZkFVX3lxTE1aZk1sVV9ubFZ2RFFMWmJybEZMR09pSElkeVVNYXZDa0pwYzNPeGVvVlBpcVZ1ZTkyRHd1SjlEckhTTlZlMkV0UEE4SDliTXhreFFscS0zNG9xaUpDQWVtNGtWWWdRdw?oc=5\", \"content\": \"노벨 문학상 수상 ‘한강을 읽는 시간’ 출간 - 데일리메이커\"}, {\"url\": \"https://news.google.com/rss/articles/CBMiW0FVX3lxTE5CbDJEWU1nZUxVTkZmS3lHTTRycEVPZ2lpRUFPYVlwVVYwbGNKaTdnbWpkS25wY2tZU1pEa0JkZFltQnNRX05teHp5WWd4VXpWbFl3TTNNQVpqZzjSAWBBVV95cUxPTU01d0ZUbWtnX1p6S2FZOFJiZGQwcGYzZWRvZFFIOTlxOUR2SGdaejFqdEI3enVCLXRDc2o5YTVnUUdic1lrNVg5SS1adlBhUUx0MHRZaXVlMk43cGF5WXI?oc=5\", \"content\": \"한강, 한국 첫 노벨문학상…\\\\\"어두운 밤에도 우릴 잇는 건 언어\\\\\"(종합2보) - 연합뉴스\"}, {\"url\": \"https://news.google.com/rss/articles/CBMickFVX3lxTE4wN0V1b3M2aG5oNXc3aEFiY2k2YTZMS19SWnQzMFFIWk9HQ1Rsb19BRmEwQkEwNXlLQmo5MmNaalJOVFNKcG85czNrMjZaWV94TlI2dmtxOEpxMmJSekNGZndiVkhwOXRtd1ZyNDg5eDB1QQ?oc=5\", \"content\": \"[영상] “너무 추웠던 9년”…봄으로 가는 한강에게 노벨문학상이 왔다 - 한겨레\"}, {\"url\": \"https://news.google.com/rss/articles/CBMibEFVX3lxTE9saEhrVVp3RWFCR1B4SWlDVGhtQ2ItcWRXTFdkd05TOXVUMnNqbjBHRVZHV3NKTng0U3A4Zl8yMVFNenZpZ0N5UUtSX2p2RDBvY2k3TjJpQTZDemo1cUhrTjBzUlJYMlVMbWZZQQ?oc=5\", \"content\": \"한강, “언어는 우리를 잇는 실”...‘노벨문학상 수상 강연’ 전문 - 재외동포신문\"}, {\"url\": \"https://news.google.com/rss/articles/CBMibEFVX3lxTE50WjlaX0JQbEZNekh4ajNrMmR4YkFvSWQxdFlUa2F6c3pyOVh1LWN5MTZRbHpfdlZyZHcxTW1NRi1JUDJ0NnFiLWVEdEJocV9nSTFKakZ6UVZJVXg4VEUzRU91d0hQWXExc016Q9IBcEFVX3lxTE8wMDUxRFZ4Z19zYng5WGRvZ0o3bGFKeGhFa09tSDlWclNEcTQ4ZlBuRi0wX3Yyc1F2RlNkd3gyMG8zTzMxeU54d1RlTUV6NklnQTZJRGNVVzVBS2ZjZzN5S0g0blA2RGFhZFVrR0tSV0I?oc=5\", \"content\": \"2024 노벨문학상 수상자 한강, 대표작으로 본 문학 여정 - 전기신문\"}]', name='search_keyword', id='682fc3c0-4da9-44da-a749-32b04b3061e3', tool_call_id='call_s61A5Z0aRR59FS7YgbecSeVx')]\n",
      "메시지 개수: 1\n",
      "=================================\u001b[1m Tool Message \u001b[0m=================================\n",
      "Name: search_keyword\n",
      "\n",
      "[{\"url\": \"https://news.google.com/rss/articles/CBMiZkFVX3lxTE1aZk1sVV9ubFZ2RFFMWmJybEZMR09pSElkeVVNYXZDa0pwYzNPeGVvVlBpcVZ1ZTkyRHd1SjlEckhTTlZlMkV0UEE4SDliTXhreFFscS0zNG9xaUpDQWVtNGtWWWdRdw?oc=5\", \"content\": \"노벨 문학상 수상 ‘한강을 읽는 시간’ 출간 - 데일리메이커\"}, {\"url\": \"https://news.google.com/rss/articles/CBMiW0FVX3lxTE5CbDJEWU1nZUxVTkZmS3lHTTRycEVPZ2lpRUFPYVlwVVYwbGNKaTdnbWpkS25wY2tZU1pEa0JkZFltQnNRX05teHp5WWd4VXpWbFl3TTNNQVpqZzjSAWBBVV95cUxPTU01d0ZUbWtnX1p6S2FZOFJiZGQwcGYzZWRvZFFIOTlxOUR2SGdaejFqdEI3enVCLXRDc2o5YTVnUUdic1lrNVg5SS1adlBhUUx0MHRZaXVlMk43cGF5WXI?oc=5\", \"content\": \"한강, 한국 첫 노벨문학상…\\\"어두운 밤에도 우릴 잇는 건 언어\\\"(종합2보) - 연합뉴스\"}, {\"url\": \"https://news.google.com/rss/articles/CBMickFVX3lxTE4wN0V1b3M2aG5oNXc3aEFiY2k2YTZMS19SWnQzMFFIWk9HQ1Rsb19BRmEwQkEwNXlLQmo5MmNaalJOVFNKcG85czNrMjZaWV94TlI2dmtxOEpxMmJSekNGZndiVkhwOXRtd1ZyNDg5eDB1QQ?oc=5\", \"content\": \"[영상] “너무 추웠던 9년”…봄으로 가는 한강에게 노벨문학상이 왔다 - 한겨레\"}, {\"url\": \"https://news.google.com/rss/articles/CBMibEFVX3lxTE9saEhrVVp3RWFCR1B4SWlDVGhtQ2ItcWRXTFdkd05TOXVUMnNqbjBHRVZHV3NKTng0U3A4Zl8yMVFNenZpZ0N5UUtSX2p2RDBvY2k3TjJpQTZDemo1cUhrTjBzUlJYMlVMbWZZQQ?oc=5\", \"content\": \"한강, “언어는 우리를 잇는 실”...‘노벨문학상 수상 강연’ 전문 - 재외동포신문\"}, {\"url\": \"https://news.google.com/rss/articles/CBMibEFVX3lxTE50WjlaX0JQbEZNekh4ajNrMmR4YkFvSWQxdFlUa2F6c3pyOVh1LWN5MTZRbHpfdlZyZHcxTW1NRi1JUDJ0NnFiLWVEdEJocV9nSTFKakZ6UVZJVXg4VEUzRU91d0hQWXExc016Q9IBcEFVX3lxTE8wMDUxRFZ4Z19zYng5WGRvZ0o3bGFKeGhFa09tSDlWclNEcTQ4ZlBuRi0wX3Yyc1F2RlNkd3gyMG8zTzMxeU54d1RlTUV6NklnQTZJRGNVVzVBS2ZjZzN5S0g0blA2RGFhZFVrR0tSV0I?oc=5\", \"content\": \"2024 노벨문학상 수상자 한강, 대표작으로 본 문학 여정 - 전기신문\"}]\n",
      "\n",
      " **[__interrupt__]**\n"
     ]
    }
   ],
   "source": [
    "# tools 노드 이전에 스트리밍 중단\n",
    "for step in graph.stream(initial_state, config=config, interrupt_after=[\"tools\"]):\n",
    "    for node_name, node_output in step.items():\n",
    "        print(f\"\\n **[{node_name}]**\")\n",
    "        if \"messages\" in node_output:\n",
    "            print(node_output[\"messages\"])\n",
    "            print(f\"메시지 개수: {len(node_output[\"messages\"])}\")\n",
    "            last_message = node_output[\"messages\"][-1]\n",
    "            last_message.pretty_print()"
   ]
  },
  {
   "cell_type": "markdown",
   "metadata": {},
   "source": [
    "-----\n",
    "** End of Documents **"
   ]
  }
 ],
 "metadata": {
  "kernelspec": {
   "display_name": "langchain-kr-t0JhnSEV-py3.11",
   "language": "python",
   "name": "python3"
  },
  "language_info": {
   "codemirror_mode": {
    "name": "ipython",
    "version": 3
   },
   "file_extension": ".py",
   "mimetype": "text/x-python",
   "name": "python",
   "nbconvert_exporter": "python",
   "pygments_lexer": "ipython3",
   "version": "3.12.3"
  }
 },
 "nbformat": 4,
 "nbformat_minor": 2
}
